{
  "cells": [
    {
      "cell_type": "markdown",
      "metadata": {
        "id": "LJsYmQ6azgmd"
      },
      "source": [
        "# SQL Basics\n",
        "\n",
        "## Introduction\n",
        "\n",
        "This notebook is a short introduction to SQL. It is based on the [DuckDB](https://duckdb.org/) database engine.\n",
        "\n",
        "## Datasets\n",
        "\n",
        "The following datasets are used in this notebook. You don't need to download them, they can be accessed directly from the notebook.\n",
        "\n",
        "- [cities.csv](https://open.gishub.org/data/duckdb/cities.csv)\n",
        "- [countries.csv](https://open.gishub.org/data/duckdb/countries.csv)\n",
        "\n",
        "## References\n",
        "\n",
        "- [W3Schools SQL Tutorial](https://www.w3schools.com/sql)\n",
        "- [DuckDB SQL Introduction](https://duckdb.org/docs/sql/introduction.html)"
      ],
      "id": "LJsYmQ6azgmd"
    },
    {
      "cell_type": "markdown",
      "metadata": {
        "id": "q4dSpa6fzgmf"
      },
      "source": [
        "## Installation\n",
        "\n",
        "Uncomment the following cell to install the required packages."
      ],
      "id": "q4dSpa6fzgmf"
    },
    {
      "cell_type": "code",
      "execution_count": null,
      "metadata": {
        "id": "ikkTvIBKzgmf",
        "outputId": "4d9213ba-d628-4ab8-a060-3794884badbd",
        "colab": {
          "base_uri": "https://localhost:8080/",
          "height": 835
        }
      },
      "outputs": [
        {
          "output_type": "stream",
          "name": "stdout",
          "text": [
            "Requirement already satisfied: duckdb in /usr/local/lib/python3.10/dist-packages (0.9.2)\n",
            "Collecting duckdb-engine\n",
            "  Downloading duckdb_engine-0.10.0-py3-none-any.whl (46 kB)\n",
            "\u001b[2K     \u001b[90m━━━━━━━━━━━━━━━━━━━━━━━━━━━━━━━━━━━━━━━━\u001b[0m \u001b[32m46.0/46.0 kB\u001b[0m \u001b[31m1.2 MB/s\u001b[0m eta \u001b[36m0:00:00\u001b[0m\n",
            "\u001b[?25hCollecting jupysql\n",
            "  Downloading jupysql-0.10.7-py3-none-any.whl (93 kB)\n",
            "\u001b[2K     \u001b[90m━━━━━━━━━━━━━━━━━━━━━━━━━━━━━━━━━━━━━━━━\u001b[0m \u001b[32m93.3/93.3 kB\u001b[0m \u001b[31m4.1 MB/s\u001b[0m eta \u001b[36m0:00:00\u001b[0m\n",
            "\u001b[?25hRequirement already satisfied: sqlalchemy>=1.3.22 in /usr/local/lib/python3.10/dist-packages (from duckdb-engine) (2.0.24)\n",
            "Requirement already satisfied: prettytable in /usr/local/lib/python3.10/dist-packages (from jupysql) (3.9.0)\n",
            "Requirement already satisfied: sqlparse in /usr/local/lib/python3.10/dist-packages (from jupysql) (0.4.4)\n",
            "Requirement already satisfied: ipython-genutils>=0.1.0 in /usr/local/lib/python3.10/dist-packages (from jupysql) (0.2.0)\n",
            "Requirement already satisfied: jinja2 in /usr/local/lib/python3.10/dist-packages (from jupysql) (3.1.3)\n",
            "Requirement already satisfied: sqlglot>=11.3.7 in /usr/local/lib/python3.10/dist-packages (from jupysql) (19.9.0)\n",
            "Collecting ploomber-core>=0.2.7 (from jupysql)\n",
            "  Downloading ploomber_core-0.2.22-py3-none-any.whl (22 kB)\n",
            "Collecting jupysql-plugin (from jupysql)\n",
            "  Downloading jupysql_plugin-0.4.0-py3-none-any.whl (414 kB)\n",
            "\u001b[2K     \u001b[90m━━━━━━━━━━━━━━━━━━━━━━━━━━━━━━━━━━━━━━━━\u001b[0m \u001b[32m414.3/414.3 kB\u001b[0m \u001b[31m15.6 MB/s\u001b[0m eta \u001b[36m0:00:00\u001b[0m\n",
            "\u001b[?25hRequirement already satisfied: pyyaml in /usr/local/lib/python3.10/dist-packages (from ploomber-core>=0.2.7->jupysql) (6.0.1)\n",
            "Collecting posthog (from ploomber-core>=0.2.7->jupysql)\n",
            "  Downloading posthog-3.3.1-py2.py3-none-any.whl (40 kB)\n",
            "\u001b[2K     \u001b[90m━━━━━━━━━━━━━━━━━━━━━━━━━━━━━━━━━━━━━━━━\u001b[0m \u001b[32m40.6/40.6 kB\u001b[0m \u001b[31m5.2 MB/s\u001b[0m eta \u001b[36m0:00:00\u001b[0m\n",
            "\u001b[?25hRequirement already satisfied: typing-extensions>=4.2.0 in /usr/local/lib/python3.10/dist-packages (from sqlalchemy>=1.3.22->duckdb-engine) (4.5.0)\n",
            "Requirement already satisfied: greenlet!=0.4.17 in /usr/local/lib/python3.10/dist-packages (from sqlalchemy>=1.3.22->duckdb-engine) (3.0.3)\n",
            "Requirement already satisfied: MarkupSafe>=2.0 in /usr/local/lib/python3.10/dist-packages (from jinja2->jupysql) (2.1.3)\n",
            "Requirement already satisfied: wcwidth in /usr/local/lib/python3.10/dist-packages (from prettytable->jupysql) (0.2.13)\n",
            "Requirement already satisfied: requests<3.0,>=2.7 in /usr/local/lib/python3.10/dist-packages (from posthog->ploomber-core>=0.2.7->jupysql) (2.31.0)\n",
            "Requirement already satisfied: six>=1.5 in /usr/local/lib/python3.10/dist-packages (from posthog->ploomber-core>=0.2.7->jupysql) (1.16.0)\n",
            "Collecting monotonic>=1.5 (from posthog->ploomber-core>=0.2.7->jupysql)\n",
            "  Downloading monotonic-1.6-py2.py3-none-any.whl (8.2 kB)\n",
            "Collecting backoff>=1.10.0 (from posthog->ploomber-core>=0.2.7->jupysql)\n",
            "  Downloading backoff-2.2.1-py3-none-any.whl (15 kB)\n",
            "Requirement already satisfied: python-dateutil>2.1 in /usr/local/lib/python3.10/dist-packages (from posthog->ploomber-core>=0.2.7->jupysql) (2.8.2)\n",
            "Requirement already satisfied: charset-normalizer<4,>=2 in /usr/local/lib/python3.10/dist-packages (from requests<3.0,>=2.7->posthog->ploomber-core>=0.2.7->jupysql) (3.3.2)\n",
            "Requirement already satisfied: idna<4,>=2.5 in /usr/local/lib/python3.10/dist-packages (from requests<3.0,>=2.7->posthog->ploomber-core>=0.2.7->jupysql) (3.6)\n",
            "Requirement already satisfied: urllib3<3,>=1.21.1 in /usr/local/lib/python3.10/dist-packages (from requests<3.0,>=2.7->posthog->ploomber-core>=0.2.7->jupysql) (2.0.7)\n",
            "Requirement already satisfied: certifi>=2017.4.17 in /usr/local/lib/python3.10/dist-packages (from requests<3.0,>=2.7->posthog->ploomber-core>=0.2.7->jupysql) (2023.11.17)\n",
            "Installing collected packages: monotonic, backoff, posthog, duckdb-engine, ploomber-core, jupysql-plugin, jupysql\n",
            "Successfully installed backoff-2.2.1 duckdb-engine-0.10.0 jupysql-0.10.7 jupysql-plugin-0.4.0 monotonic-1.6 ploomber-core-0.2.22 posthog-3.3.1\n"
          ]
        },
        {
          "output_type": "display_data",
          "data": {
            "application/vnd.colab-display-data+json": {
              "pip_warning": {
                "packages": [
                  "sql"
                ]
              }
            }
          },
          "metadata": {}
        }
      ],
      "source": [
        "%pip install duckdb duckdb-engine jupysql"
      ],
      "id": "ikkTvIBKzgmf"
    },
    {
      "cell_type": "markdown",
      "metadata": {
        "id": "fDC9l8gpzgmh"
      },
      "source": [
        "## Library Import and Configuration"
      ],
      "id": "fDC9l8gpzgmh"
    },
    {
      "cell_type": "code",
      "execution_count": null,
      "metadata": {
        "id": "Xb0RobIOzgmh",
        "outputId": "dd202839-bcc3-4982-c88f-23c92cc4e00f",
        "colab": {
          "base_uri": "https://localhost:8080/"
        }
      },
      "outputs": [
        {
          "output_type": "stream",
          "name": "stdout",
          "text": [
            "The sql extension is already loaded. To reload it, use:\n",
            "  %reload_ext sql\n"
          ]
        }
      ],
      "source": [
        "import duckdb\n",
        "import pandas as pd\n",
        "\n",
        "# Import jupysql Jupyter extension to create SQL cells\n",
        "%load_ext sql"
      ],
      "id": "Xb0RobIOzgmh"
    },
    {
      "cell_type": "markdown",
      "metadata": {
        "id": "WiO0QLW0zgmh"
      },
      "source": [
        "Set configurations on jupysql to directly output data to Pandas and to simplify the output that is printed to the notebook."
      ],
      "id": "WiO0QLW0zgmh"
    },
    {
      "cell_type": "code",
      "execution_count": null,
      "metadata": {
        "id": "gVGmi5rWzgmh"
      },
      "outputs": [],
      "source": [
        "%config SqlMagic.autopandas = True\n",
        "%config SqlMagic.feedback = False\n",
        "%config SqlMagic.displaycon = False"
      ],
      "id": "gVGmi5rWzgmh"
    },
    {
      "cell_type": "markdown",
      "metadata": {
        "id": "c_dGxyGezgmi"
      },
      "source": [
        "## Connecting to DuckDB\n",
        "\n",
        "Connect jupysql to DuckDB using a SQLAlchemy-style connection string. You may either connect to an in memory DuckDB, or a file backed db."
      ],
      "id": "c_dGxyGezgmi"
    },
    {
      "cell_type": "code",
      "execution_count": null,
      "metadata": {
        "id": "PFFTt68azgmi"
      },
      "outputs": [],
      "source": [
        "%sql duckdb:///:memory:\n",
        "# %sql duckdb:///path/to/file.db"
      ],
      "id": "PFFTt68azgmi"
    },
    {
      "cell_type": "markdown",
      "metadata": {
        "id": "e910f6vhzgmi"
      },
      "source": [
        " If your SQL query is one line only, you may use the `%sql` magic command. For multi-line SQL query, you may use the `%%sql` magic command."
      ],
      "id": "e910f6vhzgmi"
    },
    {
      "cell_type": "markdown",
      "metadata": {
        "id": "UVFTKKwxzgmi"
      },
      "source": [
        "## Install extensions"
      ],
      "id": "UVFTKKwxzgmi"
    },
    {
      "cell_type": "markdown",
      "metadata": {
        "id": "uUlyoMZDzgmi"
      },
      "source": [
        "\n",
        "Check available DuckDB extensions."
      ],
      "id": "uUlyoMZDzgmi"
    },
    {
      "cell_type": "code",
      "execution_count": null,
      "metadata": {
        "id": "HuoOIY5Mzgmi",
        "outputId": "65f64497-105d-420a-f520-627a5cca1170",
        "colab": {
          "base_uri": "https://localhost:8080/",
          "height": 138
        }
      },
      "outputs": [
        {
          "output_type": "execute_result",
          "data": {
            "text/plain": [
              "Empty DataFrame\n",
              "Columns: []\n",
              "Index: []"
            ],
            "text/html": [
              "\n",
              "  <div id=\"df-6c608252-026b-4ea9-a58d-340b0bc361f1\" class=\"colab-df-container\">\n",
              "    <div>\n",
              "<style scoped>\n",
              "    .dataframe tbody tr th:only-of-type {\n",
              "        vertical-align: middle;\n",
              "    }\n",
              "\n",
              "    .dataframe tbody tr th {\n",
              "        vertical-align: top;\n",
              "    }\n",
              "\n",
              "    .dataframe thead th {\n",
              "        text-align: right;\n",
              "    }\n",
              "</style>\n",
              "<table border=\"1\" class=\"dataframe\">\n",
              "  <thead>\n",
              "    <tr style=\"text-align: right;\">\n",
              "      <th></th>\n",
              "    </tr>\n",
              "  </thead>\n",
              "  <tbody>\n",
              "  </tbody>\n",
              "</table>\n",
              "</div>\n",
              "    <div class=\"colab-df-buttons\">\n",
              "\n",
              "  <div class=\"colab-df-container\">\n",
              "    <button class=\"colab-df-convert\" onclick=\"convertToInteractive('df-6c608252-026b-4ea9-a58d-340b0bc361f1')\"\n",
              "            title=\"Convert this dataframe to an interactive table.\"\n",
              "            style=\"display:none;\">\n",
              "\n",
              "  <svg xmlns=\"http://www.w3.org/2000/svg\" height=\"24px\" viewBox=\"0 -960 960 960\">\n",
              "    <path d=\"M120-120v-720h720v720H120Zm60-500h600v-160H180v160Zm220 220h160v-160H400v160Zm0 220h160v-160H400v160ZM180-400h160v-160H180v160Zm440 0h160v-160H620v160ZM180-180h160v-160H180v160Zm440 0h160v-160H620v160Z\"/>\n",
              "  </svg>\n",
              "    </button>\n",
              "\n",
              "  <style>\n",
              "    .colab-df-container {\n",
              "      display:flex;\n",
              "      gap: 12px;\n",
              "    }\n",
              "\n",
              "    .colab-df-convert {\n",
              "      background-color: #E8F0FE;\n",
              "      border: none;\n",
              "      border-radius: 50%;\n",
              "      cursor: pointer;\n",
              "      display: none;\n",
              "      fill: #1967D2;\n",
              "      height: 32px;\n",
              "      padding: 0 0 0 0;\n",
              "      width: 32px;\n",
              "    }\n",
              "\n",
              "    .colab-df-convert:hover {\n",
              "      background-color: #E2EBFA;\n",
              "      box-shadow: 0px 1px 2px rgba(60, 64, 67, 0.3), 0px 1px 3px 1px rgba(60, 64, 67, 0.15);\n",
              "      fill: #174EA6;\n",
              "    }\n",
              "\n",
              "    .colab-df-buttons div {\n",
              "      margin-bottom: 4px;\n",
              "    }\n",
              "\n",
              "    [theme=dark] .colab-df-convert {\n",
              "      background-color: #3B4455;\n",
              "      fill: #D2E3FC;\n",
              "    }\n",
              "\n",
              "    [theme=dark] .colab-df-convert:hover {\n",
              "      background-color: #434B5C;\n",
              "      box-shadow: 0px 1px 3px 1px rgba(0, 0, 0, 0.15);\n",
              "      filter: drop-shadow(0px 1px 2px rgba(0, 0, 0, 0.3));\n",
              "      fill: #FFFFFF;\n",
              "    }\n",
              "  </style>\n",
              "\n",
              "    <script>\n",
              "      const buttonEl =\n",
              "        document.querySelector('#df-6c608252-026b-4ea9-a58d-340b0bc361f1 button.colab-df-convert');\n",
              "      buttonEl.style.display =\n",
              "        google.colab.kernel.accessAllowed ? 'block' : 'none';\n",
              "\n",
              "      async function convertToInteractive(key) {\n",
              "        const element = document.querySelector('#df-6c608252-026b-4ea9-a58d-340b0bc361f1');\n",
              "        const dataTable =\n",
              "          await google.colab.kernel.invokeFunction('convertToInteractive',\n",
              "                                                    [key], {});\n",
              "        if (!dataTable) return;\n",
              "\n",
              "        const docLinkHtml = 'Like what you see? Visit the ' +\n",
              "          '<a target=\"_blank\" href=https://colab.research.google.com/notebooks/data_table.ipynb>data table notebook</a>'\n",
              "          + ' to learn more about interactive tables.';\n",
              "        element.innerHTML = '';\n",
              "        dataTable['output_type'] = 'display_data';\n",
              "        await google.colab.output.renderOutput(dataTable, element);\n",
              "        const docLink = document.createElement('div');\n",
              "        docLink.innerHTML = docLinkHtml;\n",
              "        element.appendChild(docLink);\n",
              "      }\n",
              "    </script>\n",
              "  </div>\n",
              "\n",
              "    </div>\n",
              "  </div>\n"
            ]
          },
          "metadata": {},
          "execution_count": 13
        }
      ],
      "source": [
        "%%sql\n",
        "\n",
        "SELECT * FROM duckdb_extensions();"
      ],
      "id": "HuoOIY5Mzgmi"
    },
    {
      "cell_type": "markdown",
      "metadata": {
        "id": "ZMDdIOMQzgmj"
      },
      "source": [
        "DuckDB's [httpfs extension](https://duckdb.org/docs/extensions/httpfs) allows parquet and csv files to be queried remotely over http. This is useful for querying large datasets without having to download them locally. Let's install the extension and load the extension."
      ],
      "id": "ZMDdIOMQzgmj"
    },
    {
      "cell_type": "code",
      "execution_count": null,
      "metadata": {
        "id": "mgDPntKGzgmj",
        "outputId": "a8b2a704-1b74-43ab-8957-97dc093ac3ae",
        "colab": {
          "base_uri": "https://localhost:8080/",
          "height": 53
        }
      },
      "outputs": [
        {
          "output_type": "execute_result",
          "data": {
            "text/plain": [
              "Empty DataFrame\n",
              "Columns: []\n",
              "Index: []"
            ],
            "text/html": [
              "\n",
              "  <div id=\"df-e9e7ec96-9e01-4fd3-b47d-d738bf23166e\" class=\"colab-df-container\">\n",
              "    <div>\n",
              "<style scoped>\n",
              "    .dataframe tbody tr th:only-of-type {\n",
              "        vertical-align: middle;\n",
              "    }\n",
              "\n",
              "    .dataframe tbody tr th {\n",
              "        vertical-align: top;\n",
              "    }\n",
              "\n",
              "    .dataframe thead th {\n",
              "        text-align: right;\n",
              "    }\n",
              "</style>\n",
              "<table border=\"1\" class=\"dataframe\">\n",
              "  <thead>\n",
              "    <tr style=\"text-align: right;\">\n",
              "      <th></th>\n",
              "    </tr>\n",
              "  </thead>\n",
              "  <tbody>\n",
              "  </tbody>\n",
              "</table>\n",
              "</div>\n",
              "    <div class=\"colab-df-buttons\">\n",
              "\n",
              "  <div class=\"colab-df-container\">\n",
              "    <button class=\"colab-df-convert\" onclick=\"convertToInteractive('df-e9e7ec96-9e01-4fd3-b47d-d738bf23166e')\"\n",
              "            title=\"Convert this dataframe to an interactive table.\"\n",
              "            style=\"display:none;\">\n",
              "\n",
              "  <svg xmlns=\"http://www.w3.org/2000/svg\" height=\"24px\" viewBox=\"0 -960 960 960\">\n",
              "    <path d=\"M120-120v-720h720v720H120Zm60-500h600v-160H180v160Zm220 220h160v-160H400v160Zm0 220h160v-160H400v160ZM180-400h160v-160H180v160Zm440 0h160v-160H620v160ZM180-180h160v-160H180v160Zm440 0h160v-160H620v160Z\"/>\n",
              "  </svg>\n",
              "    </button>\n",
              "\n",
              "  <style>\n",
              "    .colab-df-container {\n",
              "      display:flex;\n",
              "      gap: 12px;\n",
              "    }\n",
              "\n",
              "    .colab-df-convert {\n",
              "      background-color: #E8F0FE;\n",
              "      border: none;\n",
              "      border-radius: 50%;\n",
              "      cursor: pointer;\n",
              "      display: none;\n",
              "      fill: #1967D2;\n",
              "      height: 32px;\n",
              "      padding: 0 0 0 0;\n",
              "      width: 32px;\n",
              "    }\n",
              "\n",
              "    .colab-df-convert:hover {\n",
              "      background-color: #E2EBFA;\n",
              "      box-shadow: 0px 1px 2px rgba(60, 64, 67, 0.3), 0px 1px 3px 1px rgba(60, 64, 67, 0.15);\n",
              "      fill: #174EA6;\n",
              "    }\n",
              "\n",
              "    .colab-df-buttons div {\n",
              "      margin-bottom: 4px;\n",
              "    }\n",
              "\n",
              "    [theme=dark] .colab-df-convert {\n",
              "      background-color: #3B4455;\n",
              "      fill: #D2E3FC;\n",
              "    }\n",
              "\n",
              "    [theme=dark] .colab-df-convert:hover {\n",
              "      background-color: #434B5C;\n",
              "      box-shadow: 0px 1px 3px 1px rgba(0, 0, 0, 0.15);\n",
              "      filter: drop-shadow(0px 1px 2px rgba(0, 0, 0, 0.3));\n",
              "      fill: #FFFFFF;\n",
              "    }\n",
              "  </style>\n",
              "\n",
              "    <script>\n",
              "      const buttonEl =\n",
              "        document.querySelector('#df-e9e7ec96-9e01-4fd3-b47d-d738bf23166e button.colab-df-convert');\n",
              "      buttonEl.style.display =\n",
              "        google.colab.kernel.accessAllowed ? 'block' : 'none';\n",
              "\n",
              "      async function convertToInteractive(key) {\n",
              "        const element = document.querySelector('#df-e9e7ec96-9e01-4fd3-b47d-d738bf23166e');\n",
              "        const dataTable =\n",
              "          await google.colab.kernel.invokeFunction('convertToInteractive',\n",
              "                                                    [key], {});\n",
              "        if (!dataTable) return;\n",
              "\n",
              "        const docLinkHtml = 'Like what you see? Visit the ' +\n",
              "          '<a target=\"_blank\" href=https://colab.research.google.com/notebooks/data_table.ipynb>data table notebook</a>'\n",
              "          + ' to learn more about interactive tables.';\n",
              "        element.innerHTML = '';\n",
              "        dataTable['output_type'] = 'display_data';\n",
              "        await google.colab.output.renderOutput(dataTable, element);\n",
              "        const docLink = document.createElement('div');\n",
              "        docLink.innerHTML = docLinkHtml;\n",
              "        element.appendChild(docLink);\n",
              "      }\n",
              "    </script>\n",
              "  </div>\n",
              "\n",
              "    </div>\n",
              "  </div>\n"
            ]
          },
          "metadata": {},
          "execution_count": 14
        }
      ],
      "source": [
        "%%sql\n",
        "\n",
        "INSTALL httpfs;\n",
        "LOAD httpfs;"
      ],
      "id": "mgDPntKGzgmj"
    },
    {
      "cell_type": "markdown",
      "metadata": {
        "id": "kg-NdmdUzgmj"
      },
      "source": [
        "## Read CSV\n",
        "\n",
        "Use the `httpfs` extension to read the `cities.csv` file from the web."
      ],
      "id": "kg-NdmdUzgmj"
    },
    {
      "cell_type": "code",
      "execution_count": null,
      "metadata": {
        "id": "YKyFeZ0Kzgmj",
        "outputId": "81d9eb3c-8b7a-42db-c043-f63e22d5dbb4",
        "colab": {
          "base_uri": "https://localhost:8080/",
          "height": 138
        }
      },
      "outputs": [
        {
          "output_type": "execute_result",
          "data": {
            "text/plain": [
              "Empty DataFrame\n",
              "Columns: []\n",
              "Index: []"
            ],
            "text/html": [
              "\n",
              "  <div id=\"df-159368dd-65b3-4dd1-893b-cfa936d99b25\" class=\"colab-df-container\">\n",
              "    <div>\n",
              "<style scoped>\n",
              "    .dataframe tbody tr th:only-of-type {\n",
              "        vertical-align: middle;\n",
              "    }\n",
              "\n",
              "    .dataframe tbody tr th {\n",
              "        vertical-align: top;\n",
              "    }\n",
              "\n",
              "    .dataframe thead th {\n",
              "        text-align: right;\n",
              "    }\n",
              "</style>\n",
              "<table border=\"1\" class=\"dataframe\">\n",
              "  <thead>\n",
              "    <tr style=\"text-align: right;\">\n",
              "      <th></th>\n",
              "    </tr>\n",
              "  </thead>\n",
              "  <tbody>\n",
              "  </tbody>\n",
              "</table>\n",
              "</div>\n",
              "    <div class=\"colab-df-buttons\">\n",
              "\n",
              "  <div class=\"colab-df-container\">\n",
              "    <button class=\"colab-df-convert\" onclick=\"convertToInteractive('df-159368dd-65b3-4dd1-893b-cfa936d99b25')\"\n",
              "            title=\"Convert this dataframe to an interactive table.\"\n",
              "            style=\"display:none;\">\n",
              "\n",
              "  <svg xmlns=\"http://www.w3.org/2000/svg\" height=\"24px\" viewBox=\"0 -960 960 960\">\n",
              "    <path d=\"M120-120v-720h720v720H120Zm60-500h600v-160H180v160Zm220 220h160v-160H400v160Zm0 220h160v-160H400v160ZM180-400h160v-160H180v160Zm440 0h160v-160H620v160ZM180-180h160v-160H180v160Zm440 0h160v-160H620v160Z\"/>\n",
              "  </svg>\n",
              "    </button>\n",
              "\n",
              "  <style>\n",
              "    .colab-df-container {\n",
              "      display:flex;\n",
              "      gap: 12px;\n",
              "    }\n",
              "\n",
              "    .colab-df-convert {\n",
              "      background-color: #E8F0FE;\n",
              "      border: none;\n",
              "      border-radius: 50%;\n",
              "      cursor: pointer;\n",
              "      display: none;\n",
              "      fill: #1967D2;\n",
              "      height: 32px;\n",
              "      padding: 0 0 0 0;\n",
              "      width: 32px;\n",
              "    }\n",
              "\n",
              "    .colab-df-convert:hover {\n",
              "      background-color: #E2EBFA;\n",
              "      box-shadow: 0px 1px 2px rgba(60, 64, 67, 0.3), 0px 1px 3px 1px rgba(60, 64, 67, 0.15);\n",
              "      fill: #174EA6;\n",
              "    }\n",
              "\n",
              "    .colab-df-buttons div {\n",
              "      margin-bottom: 4px;\n",
              "    }\n",
              "\n",
              "    [theme=dark] .colab-df-convert {\n",
              "      background-color: #3B4455;\n",
              "      fill: #D2E3FC;\n",
              "    }\n",
              "\n",
              "    [theme=dark] .colab-df-convert:hover {\n",
              "      background-color: #434B5C;\n",
              "      box-shadow: 0px 1px 3px 1px rgba(0, 0, 0, 0.15);\n",
              "      filter: drop-shadow(0px 1px 2px rgba(0, 0, 0, 0.3));\n",
              "      fill: #FFFFFF;\n",
              "    }\n",
              "  </style>\n",
              "\n",
              "    <script>\n",
              "      const buttonEl =\n",
              "        document.querySelector('#df-159368dd-65b3-4dd1-893b-cfa936d99b25 button.colab-df-convert');\n",
              "      buttonEl.style.display =\n",
              "        google.colab.kernel.accessAllowed ? 'block' : 'none';\n",
              "\n",
              "      async function convertToInteractive(key) {\n",
              "        const element = document.querySelector('#df-159368dd-65b3-4dd1-893b-cfa936d99b25');\n",
              "        const dataTable =\n",
              "          await google.colab.kernel.invokeFunction('convertToInteractive',\n",
              "                                                    [key], {});\n",
              "        if (!dataTable) return;\n",
              "\n",
              "        const docLinkHtml = 'Like what you see? Visit the ' +\n",
              "          '<a target=\"_blank\" href=https://colab.research.google.com/notebooks/data_table.ipynb>data table notebook</a>'\n",
              "          + ' to learn more about interactive tables.';\n",
              "        element.innerHTML = '';\n",
              "        dataTable['output_type'] = 'display_data';\n",
              "        await google.colab.output.renderOutput(dataTable, element);\n",
              "        const docLink = document.createElement('div');\n",
              "        docLink.innerHTML = docLinkHtml;\n",
              "        element.appendChild(docLink);\n",
              "      }\n",
              "    </script>\n",
              "  </div>\n",
              "\n",
              "    </div>\n",
              "  </div>\n"
            ]
          },
          "metadata": {},
          "execution_count": 15
        }
      ],
      "source": [
        "%%sql\n",
        "\n",
        "SELECT * FROM 'https://open.gishub.org/data/duckdb/cities.csv';"
      ],
      "id": "YKyFeZ0Kzgmj"
    },
    {
      "cell_type": "code",
      "execution_count": null,
      "metadata": {
        "id": "fiYD3mdNzgmj"
      },
      "outputs": [],
      "source": [
        "%%sql\n",
        "\n",
        "SELECT * FROM 'https://open.gishub.org/data/duckdb/countries.csv';"
      ],
      "id": "fiYD3mdNzgmj"
    },
    {
      "cell_type": "markdown",
      "metadata": {
        "id": "gT-4-yEOzgmj"
      },
      "source": [
        "## Create Table\n",
        "\n",
        "Create a table named `cities` from the `cities.csv` file."
      ],
      "id": "gT-4-yEOzgmj"
    },
    {
      "cell_type": "code",
      "execution_count": null,
      "metadata": {
        "id": "8EELy0tCzgmj"
      },
      "outputs": [],
      "source": [
        "%%sql\n",
        "\n",
        "CREATE TABLE cities AS SELECT * FROM 'https://open.gishub.org/data/duckdb/cities.csv';"
      ],
      "id": "8EELy0tCzgmj"
    },
    {
      "cell_type": "markdown",
      "metadata": {
        "id": "HuFyhyQPzgmj"
      },
      "source": [
        "Create a table named `countries` from the `countries.csv` file."
      ],
      "id": "HuFyhyQPzgmj"
    },
    {
      "cell_type": "code",
      "execution_count": null,
      "metadata": {
        "id": "A5hvF7sHzgmj"
      },
      "outputs": [],
      "source": [
        "%%sql\n",
        "\n",
        "CREATE TABLE countries AS SELECT * FROM 'https://open.gishub.org/data/duckdb/countries.csv';"
      ],
      "id": "A5hvF7sHzgmj"
    },
    {
      "cell_type": "markdown",
      "metadata": {
        "id": "1g6pn-3Gzgmj"
      },
      "source": [
        "Display the table content in the database."
      ],
      "id": "1g6pn-3Gzgmj"
    },
    {
      "cell_type": "code",
      "execution_count": null,
      "metadata": {
        "id": "7_h5-AChzgmj"
      },
      "outputs": [],
      "source": [
        "%%sql\n",
        "\n",
        "FROM cities;"
      ],
      "id": "7_h5-AChzgmj"
    },
    {
      "cell_type": "code",
      "execution_count": null,
      "metadata": {
        "id": "962KOOxMzgmk"
      },
      "outputs": [],
      "source": [
        "%%sql\n",
        "\n",
        "FROM countries;"
      ],
      "id": "962KOOxMzgmk"
    },
    {
      "cell_type": "markdown",
      "metadata": {
        "id": "TyaaOknGzgmk"
      },
      "source": [
        "## The SQL SELECT statement\n",
        "\n",
        "The `SELECT` statement is used to select data from a database. Use either `SELECT *` to select all columns, or `SELECT column1, column2, ...` to select specific columns.\n",
        "\n",
        "`SELECT * FROM cities` is the same as `FROM cities`."
      ],
      "id": "TyaaOknGzgmk"
    },
    {
      "cell_type": "code",
      "execution_count": null,
      "metadata": {
        "scrolled": true,
        "tags": [
          "hide-output"
        ],
        "id": "H-pHh7x3zgmk"
      },
      "outputs": [],
      "source": [
        "%%sql\n",
        "\n",
        "SELECT * FROM cities;"
      ],
      "id": "H-pHh7x3zgmk"
    },
    {
      "cell_type": "markdown",
      "metadata": {
        "id": "mxJwj1aWzgmk"
      },
      "source": [
        "To limit the number of rows returned, use the `LIMIT` keyword. For example, `SELECT * FROM cities LIMIT 10` will return only the first 10 rows."
      ],
      "id": "mxJwj1aWzgmk"
    },
    {
      "cell_type": "code",
      "execution_count": null,
      "metadata": {
        "scrolled": false,
        "id": "c0EUXEt3zgmk"
      },
      "outputs": [],
      "source": [
        "%%sql\n",
        "\n",
        "SELECT * FROM cities LIMIT 10;"
      ],
      "id": "c0EUXEt3zgmk"
    },
    {
      "cell_type": "markdown",
      "metadata": {
        "id": "Ukic50VAzgmk"
      },
      "source": [
        "Select a subset of columns from the `cities` table and display the first 10 rows."
      ],
      "id": "Ukic50VAzgmk"
    },
    {
      "cell_type": "code",
      "execution_count": null,
      "metadata": {
        "scrolled": false,
        "id": "77pjmBu9zgmk"
      },
      "outputs": [],
      "source": [
        "%%sql\n",
        "\n",
        "SELECT name, country FROM cities LIMIT 10;"
      ],
      "id": "77pjmBu9zgmk"
    },
    {
      "cell_type": "markdown",
      "metadata": {
        "id": "NYa1Wqjpzgmk"
      },
      "source": [
        "To select distinct values, use the `DISTINCT` keyword. For example, `SELECT DISTINCT country FROM cities` will return only the distinct values of the `country` column."
      ],
      "id": "NYa1Wqjpzgmk"
    },
    {
      "cell_type": "code",
      "execution_count": null,
      "metadata": {
        "id": "_MFADY1Czgmk"
      },
      "outputs": [],
      "source": [
        "%%sql\n",
        "\n",
        "SELECT DISTINCT country FROM cities LIMIT 10;"
      ],
      "id": "_MFADY1Czgmk"
    },
    {
      "cell_type": "markdown",
      "metadata": {
        "id": "hcg1hFAizgmk"
      },
      "source": [
        "To count the number of rows returned, use the `COUNT(*)` function. For example, `SELECT COUNT(*) FROM cities` will return the number of rows in the `cities` table."
      ],
      "id": "hcg1hFAizgmk"
    },
    {
      "cell_type": "code",
      "execution_count": null,
      "metadata": {
        "id": "bRuiJXZYzgmk"
      },
      "outputs": [],
      "source": [
        "%%sql\n",
        "\n",
        "SELECT COUNT(*) FROM cities;"
      ],
      "id": "bRuiJXZYzgmk"
    },
    {
      "cell_type": "markdown",
      "metadata": {
        "id": "l03_KjQ1zgmk"
      },
      "source": [
        "To count the number of distinct values, use the `COUNT(DISTINCT column)` function. For example, `SELECT COUNT(DISTINCT country) FROM cities` will return the number of distinct values in the `country` column."
      ],
      "id": "l03_KjQ1zgmk"
    },
    {
      "cell_type": "code",
      "execution_count": null,
      "metadata": {
        "id": "GQOVvMetzgmk"
      },
      "outputs": [],
      "source": [
        "%%sql\n",
        "\n",
        "SELECT COUNT(DISTINCT country) FROM cities;"
      ],
      "id": "GQOVvMetzgmk"
    },
    {
      "cell_type": "markdown",
      "metadata": {
        "id": "Arvf6B7Uzgmk"
      },
      "source": [
        "To calculate the maximum value, use the `MAX(column)` function. For example, `SELECT MAX(population) FROM cities` will return the maximum value in the `population` column."
      ],
      "id": "Arvf6B7Uzgmk"
    },
    {
      "cell_type": "code",
      "execution_count": null,
      "metadata": {
        "id": "LRHh09k1zgmk"
      },
      "outputs": [],
      "source": [
        "%%sql\n",
        "\n",
        "SELECT MAX(population) FROM cities;"
      ],
      "id": "LRHh09k1zgmk"
    },
    {
      "cell_type": "markdown",
      "metadata": {
        "id": "ZLRlnme3zgmn"
      },
      "source": [
        "To calculate the total value, use the `SUM(column)` function. For example, `SELECT SUM(population) FROM cities` will return the total value in the `population` column."
      ],
      "id": "ZLRlnme3zgmn"
    },
    {
      "cell_type": "code",
      "execution_count": null,
      "metadata": {
        "id": "K3lza1rTzgmn"
      },
      "outputs": [],
      "source": [
        "%%sql\n",
        "\n",
        "SELECT SUM(population) FROM cities;"
      ],
      "id": "K3lza1rTzgmn"
    },
    {
      "cell_type": "markdown",
      "metadata": {
        "id": "R1yyDEobzgmn"
      },
      "source": [
        "To calculate the average value, use the `AVG(column)` function. For example, `SELECT AVG(population) FROM cities` will return the average value in the `population` column."
      ],
      "id": "R1yyDEobzgmn"
    },
    {
      "cell_type": "code",
      "execution_count": null,
      "metadata": {
        "id": "Y0L4Ybddzgmn"
      },
      "outputs": [],
      "source": [
        "%%sql\n",
        "\n",
        "SELECT AVG(population) FROM cities;"
      ],
      "id": "Y0L4Ybddzgmn"
    },
    {
      "cell_type": "markdown",
      "metadata": {
        "id": "sURsHxMczgmo"
      },
      "source": [
        "To order the results, use the `ORDER BY column` clause. For example, `SELECT * FROM cities ORDER BY country` will return the rows ordered by the `country` column alphabetically."
      ],
      "id": "sURsHxMczgmo"
    },
    {
      "cell_type": "code",
      "execution_count": null,
      "metadata": {
        "id": "-xdn1zbOzgmo"
      },
      "outputs": [],
      "source": [
        "%%sql\n",
        "\n",
        "SELECT * FROM cities ORDER BY country LIMIT 10;"
      ],
      "id": "-xdn1zbOzgmo"
    },
    {
      "cell_type": "markdown",
      "metadata": {
        "id": "-uUirqQgzgmo"
      },
      "source": [
        "To order the results in descending order, use the `ORDER BY column DESC` clause. For example, `SELECT * FROM cities ORDER BY country ASC, population DESC` will return the rows ordered by the `country` column alphabetical order and then by the `population` column in descending order."
      ],
      "id": "-uUirqQgzgmo"
    },
    {
      "cell_type": "code",
      "execution_count": null,
      "metadata": {
        "id": "WgSsDV-Mzgmo"
      },
      "outputs": [],
      "source": [
        "%%sql\n",
        "\n",
        "SELECT * FROM cities ORDER BY country ASC, population DESC LIMIT 10;"
      ],
      "id": "WgSsDV-Mzgmo"
    },
    {
      "cell_type": "markdown",
      "metadata": {
        "id": "_dvuyP3Czgmo"
      },
      "source": [
        "## The WHERE Clause\n",
        "\n",
        "The `WHERE` clause is used to filter records. The `WHERE` clause is used to extract only those records that fulfill a specified condition."
      ],
      "id": "_dvuyP3Czgmo"
    },
    {
      "cell_type": "code",
      "execution_count": null,
      "metadata": {
        "scrolled": true,
        "tags": [
          "hide-output"
        ],
        "id": "kVLGOnbPzgmo"
      },
      "outputs": [],
      "source": [
        "%%sql\n",
        "\n",
        "SELECT * FROM cities WHERE country='USA'"
      ],
      "id": "kVLGOnbPzgmo"
    },
    {
      "cell_type": "markdown",
      "metadata": {
        "id": "LkitXksUzgmo"
      },
      "source": [
        "You can use boolean operators such as `AND`, `OR`, `NOT` to filter records. For example, `SELECT * FROM cities WHERE country='USA' OR country='CAN'` will return the rows where the `country` column is either `USA` or `CAN`."
      ],
      "id": "LkitXksUzgmo"
    },
    {
      "cell_type": "code",
      "execution_count": null,
      "metadata": {
        "scrolled": false,
        "tags": [
          "hide-output"
        ],
        "id": "R1l9FcBBzgmo"
      },
      "outputs": [],
      "source": [
        "%%sql\n",
        "\n",
        "SELECT * FROM cities WHERE country='USA' OR country='CAN';"
      ],
      "id": "R1l9FcBBzgmo"
    },
    {
      "cell_type": "markdown",
      "metadata": {
        "id": "qnl57xQHzgmo"
      },
      "source": [
        "To select US cities with a population greater than 1 million, use the following query: `SELECT * FROM cities WHERE country='USA' AND population > 1000000`."
      ],
      "id": "qnl57xQHzgmo"
    },
    {
      "cell_type": "code",
      "execution_count": null,
      "metadata": {
        "tags": [
          "hide-output"
        ],
        "id": "0O54jJDQzgmo"
      },
      "outputs": [],
      "source": [
        "%%sql\n",
        "\n",
        "SELECT * FROM cities WHERE country='USA' AND population>1000000;"
      ],
      "id": "0O54jJDQzgmo"
    },
    {
      "cell_type": "markdown",
      "metadata": {
        "id": "oXJslKh4zgmo"
      },
      "source": [
        "To select cities with the country name starting with the letter `U`, use the following query: `SELECT * FROM cities WHERE country LIKE 'U%'`."
      ],
      "id": "oXJslKh4zgmo"
    },
    {
      "cell_type": "code",
      "execution_count": null,
      "metadata": {
        "scrolled": false,
        "tags": [
          "hide-output"
        ],
        "id": "ruqQMLXkzgmo"
      },
      "outputs": [],
      "source": [
        "%%sql\n",
        "\n",
        "SELECT * FROM cities WHERE country LIKE 'U%';"
      ],
      "id": "ruqQMLXkzgmo"
    },
    {
      "cell_type": "markdown",
      "metadata": {
        "id": "Ki78U5N2zgmo"
      },
      "source": [
        "To select cities with the country name ending with the letter `A`, use the following query: `SELECT * FROM cities WHERE country LIKE '%A'`."
      ],
      "id": "Ki78U5N2zgmo"
    },
    {
      "cell_type": "code",
      "execution_count": null,
      "metadata": {
        "tags": [
          "hide-output"
        ],
        "id": "K3j50R0gzgmo"
      },
      "outputs": [],
      "source": [
        "%%sql\n",
        "\n",
        "SELECT * FROM cities WHERE country LIKE '%A';"
      ],
      "id": "K3j50R0gzgmo"
    },
    {
      "cell_type": "markdown",
      "metadata": {
        "id": "bSDJHz2Fzgmo"
      },
      "source": [
        "To select cities with the country name containing the letter `S` in the middle, use the following query: `SELECT * FROM cities WHERE country LIKE '_S_'`."
      ],
      "id": "bSDJHz2Fzgmo"
    },
    {
      "cell_type": "code",
      "execution_count": null,
      "metadata": {
        "tags": [
          "hide-output"
        ],
        "id": "MqCimj_6zgmo"
      },
      "outputs": [],
      "source": [
        "%%sql\n",
        "\n",
        "SELECT * FROM cities WHERE country LIKE '_S_';"
      ],
      "id": "MqCimj_6zgmo"
    },
    {
      "cell_type": "markdown",
      "metadata": {
        "id": "SJeg2AK1zgmo"
      },
      "source": [
        "To select cities from a list of countries, use the `IN` operator. For example, `SELECT * FROM cities WHERE country IN ('USA', 'CAN')` will return the rows where the `country` column is either `USA` or `CAN`."
      ],
      "id": "SJeg2AK1zgmo"
    },
    {
      "cell_type": "code",
      "execution_count": null,
      "metadata": {
        "tags": [
          "hide-output"
        ],
        "id": "yidTQhwQzgmo"
      },
      "outputs": [],
      "source": [
        "%%sql\n",
        "\n",
        "SELECT * FROM cities WHERE country IN ('USA', 'CAN');"
      ],
      "id": "yidTQhwQzgmo"
    },
    {
      "cell_type": "markdown",
      "metadata": {
        "id": "_Cw7juEwzgmp"
      },
      "source": [
        "To select cities with a population between 1 and 10 million, use the following query: `SELECT * FROM cities WHERE population BETWEEN 1000000 AND 10000000`."
      ],
      "id": "_Cw7juEwzgmp"
    },
    {
      "cell_type": "code",
      "execution_count": null,
      "metadata": {
        "scrolled": false,
        "tags": [
          "hide-output"
        ],
        "id": "gTOXkp_-zgmp"
      },
      "outputs": [],
      "source": [
        "%%sql\n",
        "\n",
        "SELECT * FROM cities WHERE population BETWEEN 1000000 AND 10000000;"
      ],
      "id": "gTOXkp_-zgmp"
    },
    {
      "cell_type": "markdown",
      "metadata": {
        "id": "lGMBViz_zgmp"
      },
      "source": [
        "## SQL Joins\n",
        "\n",
        "Reference: https://www.w3schools.com/sql/sql_join.asp\n",
        "\n",
        "Here are the different types of the JOINs in SQL:\n",
        "\n",
        "- `(INNER) JOIN`: Returns records that have matching values in both tables\n",
        "- `LEFT (OUTER) JOIN`: Returns all records from the left table, and the matched records from the right table\n",
        "- `RIGHT (OUTER) JOIN`: Returns all records from the right table, and the matched records from the left table\n",
        "- `FULL (OUTER) JOIN`: Returns all records when there is a match in either left or right table\n",
        "\n",
        "![](https://i.imgur.com/mITYzuS.png)\n",
        "\n",
        "We have two sample tables: `cities` and `countries`.\n",
        "\n",
        "There are 1,249 cities in the `cities` table and 243 countries in the `countries` table."
      ],
      "id": "lGMBViz_zgmp"
    },
    {
      "cell_type": "code",
      "execution_count": null,
      "metadata": {
        "id": "T9nODuf2zgmp"
      },
      "outputs": [],
      "source": [
        "%%sql\n",
        "\n",
        "SELECT COUNT(*) FROM cities;"
      ],
      "id": "T9nODuf2zgmp"
    },
    {
      "cell_type": "code",
      "execution_count": null,
      "metadata": {
        "id": "9YqNP86Uzgmp"
      },
      "outputs": [],
      "source": [
        "%%sql\n",
        "\n",
        "SELECT * FROM cities LIMIT 10;"
      ],
      "id": "9YqNP86Uzgmp"
    },
    {
      "cell_type": "code",
      "execution_count": null,
      "metadata": {
        "id": "Sc9qf05fzgmp"
      },
      "outputs": [],
      "source": [
        "%%sql\n",
        "\n",
        "SELECT COUNT(*) FROM countries;"
      ],
      "id": "Sc9qf05fzgmp"
    },
    {
      "cell_type": "code",
      "execution_count": null,
      "metadata": {
        "id": "r51UdejKzgmp"
      },
      "outputs": [],
      "source": [
        "%%sql\n",
        "\n",
        "SELECT * FROM countries LIMIT 10;"
      ],
      "id": "r51UdejKzgmp"
    },
    {
      "cell_type": "markdown",
      "metadata": {
        "id": "7BHlICFizgmp"
      },
      "source": [
        "### SQL Inner Join\n",
        "\n",
        "The `INNER JOIN` keyword selects records that have matching values in both tables. In the example, we join the `cities` table with the `countries` table using the `country` column in the `cities` table and the `Alpha3_code` column in the `countries` table. The result contains 1,244 rows, indicating that there are 5 cities that do not have a matching country."
      ],
      "id": "7BHlICFizgmp"
    },
    {
      "cell_type": "code",
      "execution_count": null,
      "metadata": {
        "tags": [
          "hide-output"
        ],
        "id": "b0AgluRBzgmp"
      },
      "outputs": [],
      "source": [
        "%%sql\n",
        "\n",
        "SELECT * FROM cities INNER JOIN countries ON cities.country = countries.\"Alpha3_code\";"
      ],
      "id": "b0AgluRBzgmp"
    },
    {
      "cell_type": "markdown",
      "metadata": {
        "id": "P9oiyZ8Gzgmp"
      },
      "source": [
        "Only select the `city` and `country` columns from the `cities` table and the `Country` column from the `countries` table."
      ],
      "id": "P9oiyZ8Gzgmp"
    },
    {
      "cell_type": "code",
      "execution_count": null,
      "metadata": {
        "tags": [
          "hide-output"
        ],
        "id": "ZsAF5ppozgmp"
      },
      "outputs": [],
      "source": [
        "%%sql\n",
        "\n",
        "SELECT name, cities.\"country\", countries.\"Country\" FROM cities INNER JOIN countries ON cities.country = countries.\"Alpha3_code\";"
      ],
      "id": "ZsAF5ppozgmp"
    },
    {
      "cell_type": "markdown",
      "metadata": {
        "id": "fsfSTEGzzgmp"
      },
      "source": [
        "### SQL Left Join\n",
        "\n",
        "The `LEFT JOIN` keyword returns all records from the left table (`cities`), and the matched records from the right table (`countries`). The result contains 1,249 rows, the same number of rows as the `cities` table."
      ],
      "id": "fsfSTEGzzgmp"
    },
    {
      "cell_type": "code",
      "execution_count": null,
      "metadata": {
        "tags": [
          "hide-output"
        ],
        "id": "0SVS2vefzgmp"
      },
      "outputs": [],
      "source": [
        "%%sql\n",
        "\n",
        "SELECT * FROM cities LEFT JOIN countries ON cities.country = countries.\"Alpha3_code\";"
      ],
      "id": "0SVS2vefzgmp"
    },
    {
      "cell_type": "markdown",
      "metadata": {
        "id": "U50RiD7Ozgmp"
      },
      "source": [
        "### SQL Right Join\n",
        "\n",
        "The `RIGHT JOIN` keyword returns all records from the right table (`countries`), and the matched records from the left table (`cities`). The result contains 1,291 rows."
      ],
      "id": "U50RiD7Ozgmp"
    },
    {
      "cell_type": "code",
      "execution_count": null,
      "metadata": {
        "tags": [
          "hide-output"
        ],
        "id": "EIKrEqpZzgmp"
      },
      "outputs": [],
      "source": [
        "%%sql\n",
        "\n",
        "SELECT * FROM cities RIGHT JOIN countries ON cities.country = countries.\"Alpha3_code\";"
      ],
      "id": "EIKrEqpZzgmp"
    },
    {
      "cell_type": "markdown",
      "metadata": {
        "id": "v2Gv1NL0zgmp"
      },
      "source": [
        "### SQL Full Join\n",
        "\n",
        "The `FULL JOIN` keyword returns all records when there is a match in either left or right table. The result contains 1,296 rows."
      ],
      "id": "v2Gv1NL0zgmp"
    },
    {
      "cell_type": "code",
      "execution_count": null,
      "metadata": {
        "tags": [
          "hide-output"
        ],
        "id": "RlBdfe8-zgmq"
      },
      "outputs": [],
      "source": [
        "%%sql\n",
        "\n",
        "SELECT * FROM cities FULL JOIN countries ON cities.country = countries.\"Alpha3_code\";"
      ],
      "id": "RlBdfe8-zgmq"
    },
    {
      "cell_type": "markdown",
      "metadata": {
        "id": "SUZIEGvGzgmq"
      },
      "source": [
        "### SQL Union\n",
        "\n",
        "The `UNION` operator is used to combine the result-set of two or more `SELECT` statements."
      ],
      "id": "SUZIEGvGzgmq"
    },
    {
      "cell_type": "code",
      "execution_count": null,
      "metadata": {
        "tags": [
          "hide-output"
        ],
        "id": "24AaaZ6Ozgmq"
      },
      "outputs": [],
      "source": [
        "%%sql\n",
        "\n",
        "SELECT country FROM cities\n",
        "UNION\n",
        "SELECT \"Alpha3_code\" FROM countries;"
      ],
      "id": "24AaaZ6Ozgmq"
    },
    {
      "cell_type": "markdown",
      "metadata": {
        "id": "fOsbt7Lpzgmq"
      },
      "source": [
        "## Aggregation\n",
        "\n",
        "### Group By\n",
        "\n",
        "The `GROUP BY` statement groups rows that have the same values into summary rows, like \"find the number of cities in each country\".\n",
        "\n",
        "The `GROUP BY` statement is often used with aggregate functions (`COUNT`, `MAX`, `MIN`, `SUM`, `AVG`) to group the result-set by one or more columns."
      ],
      "id": "fOsbt7Lpzgmq"
    },
    {
      "cell_type": "code",
      "execution_count": null,
      "metadata": {
        "scrolled": true,
        "tags": [
          "hide-output"
        ],
        "id": "vCKjG2mazgmq"
      },
      "outputs": [],
      "source": [
        "%%sql\n",
        "\n",
        "SELECT COUNT(name), country\n",
        "FROM cities\n",
        "GROUP BY country\n",
        "ORDER BY COUNT(name) DESC;"
      ],
      "id": "vCKjG2mazgmq"
    },
    {
      "cell_type": "code",
      "execution_count": null,
      "metadata": {
        "tags": [
          "hide-output"
        ],
        "id": "G5F2EwtPzgmq"
      },
      "outputs": [],
      "source": [
        "%%sql\n",
        "\n",
        "SELECT countries.\"Country\", COUNT(name)\n",
        "FROM cities\n",
        "LEFT JOIN countries ON cities.country = countries.\"Alpha3_code\"\n",
        "GROUP BY countries.\"Country\"\n",
        "ORDER BY COUNT(name) DESC;"
      ],
      "id": "G5F2EwtPzgmq"
    },
    {
      "cell_type": "markdown",
      "metadata": {
        "id": "UweD9GPlzgmq"
      },
      "source": [
        "### Having\n",
        "\n",
        "The `HAVING` clause was added to SQL because the `WHERE` keyword could not be used with aggregate functions.\n",
        "\n",
        "For example, to select countries with more than 40 cities:"
      ],
      "id": "UweD9GPlzgmq"
    },
    {
      "cell_type": "code",
      "execution_count": null,
      "metadata": {
        "id": "r2ihhY43zgmq"
      },
      "outputs": [],
      "source": [
        "%%sql\n",
        "\n",
        "SELECT COUNT(name), country\n",
        "FROM cities\n",
        "GROUP BY country\n",
        "HAVING COUNT(name) > 40\n",
        "ORDER BY COUNT(name) DESC;"
      ],
      "id": "r2ihhY43zgmq"
    },
    {
      "cell_type": "code",
      "execution_count": null,
      "metadata": {
        "id": "nhcFpGMLzgmq"
      },
      "outputs": [],
      "source": [
        "%%sql\n",
        "\n",
        "SELECT countries.\"Country\", COUNT(name)\n",
        "FROM cities\n",
        "LEFT JOIN countries ON cities.country = countries.\"Alpha3_code\"\n",
        "GROUP BY countries.\"Country\"\n",
        "HAVING COUNT(name) > 40\n",
        "ORDER BY COUNT(name) DESC;"
      ],
      "id": "nhcFpGMLzgmq"
    },
    {
      "cell_type": "markdown",
      "metadata": {
        "id": "nbTPhu33zgmq"
      },
      "source": [
        "## Conditional statements\n",
        "\n",
        "The `CASE` statement goes through conditions and returns a value when the first condition is met (like an `IF-THEN-ELSE` statement). So, once a condition is true, it will stop reading and return the result. If no conditions are true, it returns the value in the `ELSE` clause.\n",
        "\n",
        "For example, to divide cities into 3 groups based on their population:"
      ],
      "id": "nbTPhu33zgmq"
    },
    {
      "cell_type": "code",
      "execution_count": null,
      "metadata": {
        "scrolled": false,
        "tags": [
          "hide-output"
        ],
        "id": "C00-hUIgzgmq"
      },
      "outputs": [],
      "source": [
        "%%sql\n",
        "\n",
        "SELECT name, population,\n",
        "CASE\n",
        "    WHEN population > 10000000 THEN 'Megacity'\n",
        "    WHEN population > 1000000 THEN 'Large city'\n",
        "    ELSE 'Small city'\n",
        "END AS category\n",
        "FROM cities;"
      ],
      "id": "C00-hUIgzgmq"
    },
    {
      "cell_type": "markdown",
      "metadata": {
        "id": "Fiq2dzdIzgmq"
      },
      "source": [
        "## Saving results\n",
        "\n",
        "You can save the results of a query to a new table using the `CREATE TABLE AS` statement."
      ],
      "id": "Fiq2dzdIzgmq"
    },
    {
      "cell_type": "code",
      "execution_count": null,
      "metadata": {
        "id": "n67LYANtzgmq"
      },
      "outputs": [],
      "source": [
        "%%sql\n",
        "\n",
        "CREATE TABLE cities2 AS SELECT * FROM cities;"
      ],
      "id": "n67LYANtzgmq"
    },
    {
      "cell_type": "markdown",
      "metadata": {
        "id": "VcGuOBgQzgmq"
      },
      "source": [
        "Show the new table content."
      ],
      "id": "VcGuOBgQzgmq"
    },
    {
      "cell_type": "code",
      "execution_count": null,
      "metadata": {
        "id": "5v0r0Tzdzgmq"
      },
      "outputs": [],
      "source": [
        "%%sql\n",
        "\n",
        "FROM cities2;"
      ],
      "id": "5v0r0Tzdzgmq"
    },
    {
      "cell_type": "markdown",
      "metadata": {
        "id": "qOm-c07tzgmq"
      },
      "source": [
        "Use the `DROP TABLE` statement to delete the table."
      ],
      "id": "qOm-c07tzgmq"
    },
    {
      "cell_type": "code",
      "execution_count": null,
      "metadata": {
        "id": "9CBTfbQqzgmq"
      },
      "outputs": [],
      "source": [
        "%%sql\n",
        "\n",
        "DROP TABLE IF EXISTS cities_usa;\n",
        "CREATE TABLE cities_usa AS (SELECT * FROM cities WHERE country = 'USA');"
      ],
      "id": "9CBTfbQqzgmq"
    },
    {
      "cell_type": "code",
      "execution_count": null,
      "metadata": {
        "id": "nlqOdvXCzgmr"
      },
      "outputs": [],
      "source": [
        "%%sql\n",
        "\n",
        "FROM cities_usa;"
      ],
      "id": "nlqOdvXCzgmr"
    },
    {
      "cell_type": "markdown",
      "metadata": {
        "id": "9QCxhDnGzgmr"
      },
      "source": [
        "Use the `INSERT INTO` statement to insert rows into a table."
      ],
      "id": "9QCxhDnGzgmr"
    },
    {
      "cell_type": "code",
      "execution_count": null,
      "metadata": {
        "id": "EXvXe_mDzgmr"
      },
      "outputs": [],
      "source": [
        "%%sql\n",
        "\n",
        "INSERT INTO cities_usa (SELECT * FROM cities WHERE country = 'CAN');"
      ],
      "id": "EXvXe_mDzgmr"
    },
    {
      "cell_type": "markdown",
      "metadata": {
        "id": "LEjF-3rvzgmr"
      },
      "source": [
        "## SQL Comments\n",
        "\n",
        "Comments are used to explain sections of SQL statements, or to prevent execution of SQL statements.\n",
        "\n",
        "\n",
        "### Single line comMents\n",
        "\n",
        "Single line comments start with --.\n",
        "\n",
        "Any text between -- and the end of the line will be ignored (will not be executed).\n",
        "\n",
        "The following example uses a single-line comment as an explanation:"
      ],
      "id": "LEjF-3rvzgmr"
    },
    {
      "cell_type": "code",
      "execution_count": null,
      "metadata": {
        "id": "Dq06sBDAzgmr"
      },
      "outputs": [],
      "source": [
        "%%sql\n",
        "\n",
        "SELECT * FROM cities LIMIT 10 -- This is a comment;"
      ],
      "id": "Dq06sBDAzgmr"
    },
    {
      "cell_type": "markdown",
      "metadata": {
        "id": "HWDQ0icUzgmr"
      },
      "source": [
        "### Multi-line comments\n",
        "\n",
        "Multi-line comments start with `/*` and end with `*/`.\n",
        "\n",
        "Any text between `/*` and `*/` will be ignored.\n",
        "\n",
        "The following example uses a multi-line comment as an explanation:"
      ],
      "id": "HWDQ0icUzgmr"
    },
    {
      "cell_type": "code",
      "execution_count": null,
      "metadata": {
        "id": "1XITaZOkzgmr"
      },
      "outputs": [],
      "source": [
        "%%sql\n",
        "\n",
        "SELECT COUNT(name), country\n",
        "FROM cities\n",
        "/*\n",
        " * Adding Group by\n",
        " * Adding Order by\n",
        " */\n",
        "GROUP BY country\n",
        "ORDER BY COUNT(name) DESC\n",
        "LIMIT 10;"
      ],
      "id": "1XITaZOkzgmr"
    }
  ],
  "metadata": {
    "celltoolbar": "Tags",
    "hide_input": false,
    "kernelspec": {
      "display_name": "Python 3",
      "language": "python",
      "name": "python3"
    },
    "language_info": {
      "codemirror_mode": {
        "name": "ipython",
        "version": 3
      },
      "file_extension": ".py",
      "mimetype": "text/x-python",
      "name": "python",
      "nbconvert_exporter": "python",
      "pygments_lexer": "ipython3",
      "version": "3.9.18"
    },
    "toc": {
      "base_numbering": 1,
      "nav_menu": {},
      "number_sections": true,
      "sideBar": true,
      "skip_h1_title": false,
      "title_cell": "Table of Contents",
      "title_sidebar": "Contents",
      "toc_cell": false,
      "toc_position": {},
      "toc_section_display": true,
      "toc_window_display": false
    },
    "varInspector": {
      "cols": {
        "lenName": 16,
        "lenType": 16,
        "lenVar": 40
      },
      "kernels_config": {
        "python": {
          "delete_cmd_postfix": "",
          "delete_cmd_prefix": "del ",
          "library": "var_list.py",
          "varRefreshCmd": "print(var_dic_list())"
        },
        "r": {
          "delete_cmd_postfix": ") ",
          "delete_cmd_prefix": "rm(",
          "library": "var_list.r",
          "varRefreshCmd": "cat(var_dic_list()) "
        }
      },
      "types_to_exclude": [
        "module",
        "function",
        "builtin_function_or_method",
        "instance",
        "_Feature"
      ],
      "window_display": false
    },
    "colab": {
      "provenance": [],
      "toc_visible": true
    }
  },
  "nbformat": 4,
  "nbformat_minor": 5
}