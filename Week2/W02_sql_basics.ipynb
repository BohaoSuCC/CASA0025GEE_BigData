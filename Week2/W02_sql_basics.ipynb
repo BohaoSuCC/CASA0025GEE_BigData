{
  "cells": [
    {
      "cell_type": "markdown",
      "id": "LJsYmQ6azgmd",
      "metadata": {
        "id": "LJsYmQ6azgmd"
      },
      "source": [
        "# SQL Basics\n",
        "\n",
        "## Introduction\n",
        "\n",
        "This notebook is a short introduction to SQL. It is based on the [DuckDB](https://duckdb.org/) database engine.\n",
        "\n",
        "## Datasets\n",
        "\n",
        "The following datasets are used in this notebook. You don't need to download them, they can be accessed directly from the notebook.\n",
        "\n",
        "- [cities.csv](https://open.gishub.org/data/duckdb/cities.csv)\n",
        "- [countries.csv](https://open.gishub.org/data/duckdb/countries.csv)\n",
        "\n",
        "## References\n",
        "\n",
        "- [W3Schools SQL Tutorial](https://www.w3schools.com/sql)\n",
        "- [DuckDB SQL Introduction](https://duckdb.org/docs/sql/introduction.html)"
      ]
    },
    {
      "cell_type": "markdown",
      "id": "q4dSpa6fzgmf",
      "metadata": {
        "id": "q4dSpa6fzgmf"
      },
      "source": [
        "## Installation\n",
        "\n",
        "Uncomment the following cell to install the required packages."
      ]
    },
    {
      "cell_type": "code",
      "execution_count": null,
      "id": "ikkTvIBKzgmf",
      "metadata": {
        "colab": {
          "base_uri": "https://localhost:8080/",
          "height": 835
        },
        "id": "ikkTvIBKzgmf",
        "outputId": "4d9213ba-d628-4ab8-a060-3794884badbd"
      },
      "outputs": [
        {
          "name": "stdout",
          "output_type": "stream",
          "text": [
            "Requirement already satisfied: duckdb in /usr/local/lib/python3.10/dist-packages (0.9.2)\n",
            "Collecting duckdb-engine\n",
            "  Downloading duckdb_engine-0.10.0-py3-none-any.whl (46 kB)\n",
            "\u001b[2K     \u001b[90m━━━━━━━━━━━━━━━━━━━━━━━━━━━━━━━━━━━━━━━━\u001b[0m \u001b[32m46.0/46.0 kB\u001b[0m \u001b[31m1.2 MB/s\u001b[0m eta \u001b[36m0:00:00\u001b[0m\n",
            "\u001b[?25hCollecting jupysql\n",
            "  Downloading jupysql-0.10.7-py3-none-any.whl (93 kB)\n",
            "\u001b[2K     \u001b[90m━━━━━━━━━━━━━━━━━━━━━━━━━━━━━━━━━━━━━━━━\u001b[0m \u001b[32m93.3/93.3 kB\u001b[0m \u001b[31m4.1 MB/s\u001b[0m eta \u001b[36m0:00:00\u001b[0m\n",
            "\u001b[?25hRequirement already satisfied: sqlalchemy>=1.3.22 in /usr/local/lib/python3.10/dist-packages (from duckdb-engine) (2.0.24)\n",
            "Requirement already satisfied: prettytable in /usr/local/lib/python3.10/dist-packages (from jupysql) (3.9.0)\n",
            "Requirement already satisfied: sqlparse in /usr/local/lib/python3.10/dist-packages (from jupysql) (0.4.4)\n",
            "Requirement already satisfied: ipython-genutils>=0.1.0 in /usr/local/lib/python3.10/dist-packages (from jupysql) (0.2.0)\n",
            "Requirement already satisfied: jinja2 in /usr/local/lib/python3.10/dist-packages (from jupysql) (3.1.3)\n",
            "Requirement already satisfied: sqlglot>=11.3.7 in /usr/local/lib/python3.10/dist-packages (from jupysql) (19.9.0)\n",
            "Collecting ploomber-core>=0.2.7 (from jupysql)\n",
            "  Downloading ploomber_core-0.2.22-py3-none-any.whl (22 kB)\n",
            "Collecting jupysql-plugin (from jupysql)\n",
            "  Downloading jupysql_plugin-0.4.0-py3-none-any.whl (414 kB)\n",
            "\u001b[2K     \u001b[90m━━━━━━━━━━━━━━━━━━━━━━━━━━━━━━━━━━━━━━━━\u001b[0m \u001b[32m414.3/414.3 kB\u001b[0m \u001b[31m15.6 MB/s\u001b[0m eta \u001b[36m0:00:00\u001b[0m\n",
            "\u001b[?25hRequirement already satisfied: pyyaml in /usr/local/lib/python3.10/dist-packages (from ploomber-core>=0.2.7->jupysql) (6.0.1)\n",
            "Collecting posthog (from ploomber-core>=0.2.7->jupysql)\n",
            "  Downloading posthog-3.3.1-py2.py3-none-any.whl (40 kB)\n",
            "\u001b[2K     \u001b[90m━━━━━━━━━━━━━━━━━━━━━━━━━━━━━━━━━━━━━━━━\u001b[0m \u001b[32m40.6/40.6 kB\u001b[0m \u001b[31m5.2 MB/s\u001b[0m eta \u001b[36m0:00:00\u001b[0m\n",
            "\u001b[?25hRequirement already satisfied: typing-extensions>=4.2.0 in /usr/local/lib/python3.10/dist-packages (from sqlalchemy>=1.3.22->duckdb-engine) (4.5.0)\n",
            "Requirement already satisfied: greenlet!=0.4.17 in /usr/local/lib/python3.10/dist-packages (from sqlalchemy>=1.3.22->duckdb-engine) (3.0.3)\n",
            "Requirement already satisfied: MarkupSafe>=2.0 in /usr/local/lib/python3.10/dist-packages (from jinja2->jupysql) (2.1.3)\n",
            "Requirement already satisfied: wcwidth in /usr/local/lib/python3.10/dist-packages (from prettytable->jupysql) (0.2.13)\n",
            "Requirement already satisfied: requests<3.0,>=2.7 in /usr/local/lib/python3.10/dist-packages (from posthog->ploomber-core>=0.2.7->jupysql) (2.31.0)\n",
            "Requirement already satisfied: six>=1.5 in /usr/local/lib/python3.10/dist-packages (from posthog->ploomber-core>=0.2.7->jupysql) (1.16.0)\n",
            "Collecting monotonic>=1.5 (from posthog->ploomber-core>=0.2.7->jupysql)\n",
            "  Downloading monotonic-1.6-py2.py3-none-any.whl (8.2 kB)\n",
            "Collecting backoff>=1.10.0 (from posthog->ploomber-core>=0.2.7->jupysql)\n",
            "  Downloading backoff-2.2.1-py3-none-any.whl (15 kB)\n",
            "Requirement already satisfied: python-dateutil>2.1 in /usr/local/lib/python3.10/dist-packages (from posthog->ploomber-core>=0.2.7->jupysql) (2.8.2)\n",
            "Requirement already satisfied: charset-normalizer<4,>=2 in /usr/local/lib/python3.10/dist-packages (from requests<3.0,>=2.7->posthog->ploomber-core>=0.2.7->jupysql) (3.3.2)\n",
            "Requirement already satisfied: idna<4,>=2.5 in /usr/local/lib/python3.10/dist-packages (from requests<3.0,>=2.7->posthog->ploomber-core>=0.2.7->jupysql) (3.6)\n",
            "Requirement already satisfied: urllib3<3,>=1.21.1 in /usr/local/lib/python3.10/dist-packages (from requests<3.0,>=2.7->posthog->ploomber-core>=0.2.7->jupysql) (2.0.7)\n",
            "Requirement already satisfied: certifi>=2017.4.17 in /usr/local/lib/python3.10/dist-packages (from requests<3.0,>=2.7->posthog->ploomber-core>=0.2.7->jupysql) (2023.11.17)\n",
            "Installing collected packages: monotonic, backoff, posthog, duckdb-engine, ploomber-core, jupysql-plugin, jupysql\n",
            "Successfully installed backoff-2.2.1 duckdb-engine-0.10.0 jupysql-0.10.7 jupysql-plugin-0.4.0 monotonic-1.6 ploomber-core-0.2.22 posthog-3.3.1\n"
          ]
        },
        {
          "data": {
            "application/vnd.colab-display-data+json": {
              "pip_warning": {
                "packages": [
                  "sql"
                ]
              }
            }
          },
          "metadata": {},
          "output_type": "display_data"
        }
      ],
      "source": [
        "# %pip install duckdb duckdb-engine jupysql"
      ]
    },
    {
      "cell_type": "markdown",
      "id": "fDC9l8gpzgmh",
      "metadata": {
        "id": "fDC9l8gpzgmh"
      },
      "source": [
        "## Library Import and Configuration"
      ]
    },
    {
      "cell_type": "code",
      "execution_count": 1,
      "id": "Xb0RobIOzgmh",
      "metadata": {
        "colab": {
          "base_uri": "https://localhost:8080/"
        },
        "id": "Xb0RobIOzgmh",
        "outputId": "dd202839-bcc3-4982-c88f-23c92cc4e00f"
      },
      "outputs": [
        {
          "name": "stdout",
          "output_type": "stream",
          "text": [
            "\u001b[32mDeploy AI and data apps for free on Ploomber Cloud! Learn more: https://docs.cloud.ploomber.io/en/latest/quickstart/signup.html\u001b[0m\n"
          ]
        }
      ],
      "source": [
        "import duckdb\n",
        "import pandas as pd\n",
        "\n",
        "# Import jupysql Jupyter extension to create SQL cells\n",
        "%load_ext sql"
      ]
    },
    {
      "cell_type": "markdown",
      "id": "WiO0QLW0zgmh",
      "metadata": {
        "id": "WiO0QLW0zgmh"
      },
      "source": [
        "Set configurations on jupysql to directly output data to Pandas and to simplify the output that is printed to the notebook."
      ]
    },
    {
      "cell_type": "code",
      "execution_count": 2,
      "id": "gVGmi5rWzgmh",
      "metadata": {
        "id": "gVGmi5rWzgmh"
      },
      "outputs": [],
      "source": [
        "%config SqlMagic.autopandas = True\n",
        "%config SqlMagic.feedback = False\n",
        "%config SqlMagic.displaycon = False"
      ]
    },
    {
      "cell_type": "markdown",
      "id": "c_dGxyGezgmi",
      "metadata": {
        "id": "c_dGxyGezgmi"
      },
      "source": [
        "## Connecting to DuckDB\n",
        "\n",
        "Connect jupysql to DuckDB using a SQLAlchemy-style connection string. You may either connect to an in memory DuckDB, or a file backed db."
      ]
    },
    {
      "cell_type": "code",
      "execution_count": 3,
      "id": "PFFTt68azgmi",
      "metadata": {
        "id": "PFFTt68azgmi"
      },
      "outputs": [],
      "source": [
        "%sql duckdb:///:memory:\n",
        "# %sql duckdb:///path/to/file.db"
      ]
    },
    {
      "cell_type": "markdown",
      "id": "e910f6vhzgmi",
      "metadata": {
        "id": "e910f6vhzgmi"
      },
      "source": [
        " If your SQL query is one line only, you may use the `%sql` magic command. For multi-line SQL query, you may use the `%%sql` magic command."
      ]
    },
    {
      "cell_type": "markdown",
      "id": "UVFTKKwxzgmi",
      "metadata": {
        "id": "UVFTKKwxzgmi"
      },
      "source": [
        "## Install extensions"
      ]
    },
    {
      "cell_type": "markdown",
      "id": "uUlyoMZDzgmi",
      "metadata": {
        "id": "uUlyoMZDzgmi"
      },
      "source": [
        "\n",
        "Check available DuckDB extensions."
      ]
    },
    {
      "cell_type": "code",
      "execution_count": 4,
      "id": "HuoOIY5Mzgmi",
      "metadata": {
        "colab": {
          "base_uri": "https://localhost:8080/",
          "height": 138
        },
        "id": "HuoOIY5Mzgmi",
        "outputId": "65f64497-105d-420a-f520-627a5cca1170"
      },
      "outputs": [
        {
          "data": {
            "text/html": [
              "<div>\n",
              "<style scoped>\n",
              "    .dataframe tbody tr th:only-of-type {\n",
              "        vertical-align: middle;\n",
              "    }\n",
              "\n",
              "    .dataframe tbody tr th {\n",
              "        vertical-align: top;\n",
              "    }\n",
              "\n",
              "    .dataframe thead th {\n",
              "        text-align: right;\n",
              "    }\n",
              "</style>\n",
              "<table border=\"1\" class=\"dataframe\">\n",
              "  <thead>\n",
              "    <tr style=\"text-align: right;\">\n",
              "      <th></th>\n",
              "      <th>extension_name</th>\n",
              "      <th>loaded</th>\n",
              "      <th>installed</th>\n",
              "      <th>install_path</th>\n",
              "      <th>description</th>\n",
              "      <th>aliases</th>\n",
              "    </tr>\n",
              "  </thead>\n",
              "  <tbody>\n",
              "    <tr>\n",
              "      <th>0</th>\n",
              "      <td>arrow</td>\n",
              "      <td>False</td>\n",
              "      <td>False</td>\n",
              "      <td></td>\n",
              "      <td>A zero-copy data integration between Apache Ar...</td>\n",
              "      <td>[]</td>\n",
              "    </tr>\n",
              "    <tr>\n",
              "      <th>1</th>\n",
              "      <td>autocomplete</td>\n",
              "      <td>False</td>\n",
              "      <td>False</td>\n",
              "      <td></td>\n",
              "      <td>Adds support for autocomplete in the shell</td>\n",
              "      <td>[]</td>\n",
              "    </tr>\n",
              "    <tr>\n",
              "      <th>2</th>\n",
              "      <td>aws</td>\n",
              "      <td>False</td>\n",
              "      <td>False</td>\n",
              "      <td></td>\n",
              "      <td>Provides features that depend on the AWS SDK</td>\n",
              "      <td>[]</td>\n",
              "    </tr>\n",
              "    <tr>\n",
              "      <th>3</th>\n",
              "      <td>azure</td>\n",
              "      <td>False</td>\n",
              "      <td>False</td>\n",
              "      <td></td>\n",
              "      <td>Adds a filesystem abstraction for Azure blob s...</td>\n",
              "      <td>[]</td>\n",
              "    </tr>\n",
              "    <tr>\n",
              "      <th>4</th>\n",
              "      <td>excel</td>\n",
              "      <td>False</td>\n",
              "      <td>False</td>\n",
              "      <td></td>\n",
              "      <td>Adds support for Excel-like format strings</td>\n",
              "      <td>[]</td>\n",
              "    </tr>\n",
              "    <tr>\n",
              "      <th>5</th>\n",
              "      <td>fts</td>\n",
              "      <td>False</td>\n",
              "      <td>True</td>\n",
              "      <td>(BUILT-IN)</td>\n",
              "      <td>Adds support for Full-Text Search Indexes</td>\n",
              "      <td>[]</td>\n",
              "    </tr>\n",
              "    <tr>\n",
              "      <th>6</th>\n",
              "      <td>httpfs</td>\n",
              "      <td>False</td>\n",
              "      <td>True</td>\n",
              "      <td>C:\\Users\\SBH\\.duckdb\\extensions\\v0.9.2\\windows...</td>\n",
              "      <td>Adds support for reading and writing files ove...</td>\n",
              "      <td>[http, https, s3]</td>\n",
              "    </tr>\n",
              "    <tr>\n",
              "      <th>7</th>\n",
              "      <td>iceberg</td>\n",
              "      <td>False</td>\n",
              "      <td>False</td>\n",
              "      <td></td>\n",
              "      <td>Adds support for Apache Iceberg</td>\n",
              "      <td>[]</td>\n",
              "    </tr>\n",
              "    <tr>\n",
              "      <th>8</th>\n",
              "      <td>icu</td>\n",
              "      <td>True</td>\n",
              "      <td>True</td>\n",
              "      <td>(BUILT-IN)</td>\n",
              "      <td>Adds support for time zones and collations usi...</td>\n",
              "      <td>[]</td>\n",
              "    </tr>\n",
              "    <tr>\n",
              "      <th>9</th>\n",
              "      <td>inet</td>\n",
              "      <td>False</td>\n",
              "      <td>False</td>\n",
              "      <td></td>\n",
              "      <td>Adds support for IP-related data types and fun...</td>\n",
              "      <td>[]</td>\n",
              "    </tr>\n",
              "    <tr>\n",
              "      <th>10</th>\n",
              "      <td>jemalloc</td>\n",
              "      <td>False</td>\n",
              "      <td>False</td>\n",
              "      <td></td>\n",
              "      <td>Overwrites system allocator with JEMalloc</td>\n",
              "      <td>[]</td>\n",
              "    </tr>\n",
              "    <tr>\n",
              "      <th>11</th>\n",
              "      <td>json</td>\n",
              "      <td>True</td>\n",
              "      <td>True</td>\n",
              "      <td>(BUILT-IN)</td>\n",
              "      <td>Adds support for JSON operations</td>\n",
              "      <td>[]</td>\n",
              "    </tr>\n",
              "    <tr>\n",
              "      <th>12</th>\n",
              "      <td>motherduck</td>\n",
              "      <td>False</td>\n",
              "      <td>False</td>\n",
              "      <td></td>\n",
              "      <td>Enables motherduck integration with the system</td>\n",
              "      <td>[md]</td>\n",
              "    </tr>\n",
              "    <tr>\n",
              "      <th>13</th>\n",
              "      <td>mysql_scanner</td>\n",
              "      <td>False</td>\n",
              "      <td>False</td>\n",
              "      <td></td>\n",
              "      <td>Adds support for connecting to a MySQL database</td>\n",
              "      <td>[mysql]</td>\n",
              "    </tr>\n",
              "    <tr>\n",
              "      <th>14</th>\n",
              "      <td>parquet</td>\n",
              "      <td>True</td>\n",
              "      <td>True</td>\n",
              "      <td>(BUILT-IN)</td>\n",
              "      <td>Adds support for reading and writing parquet f...</td>\n",
              "      <td>[]</td>\n",
              "    </tr>\n",
              "    <tr>\n",
              "      <th>15</th>\n",
              "      <td>postgres_scanner</td>\n",
              "      <td>False</td>\n",
              "      <td>False</td>\n",
              "      <td></td>\n",
              "      <td>Adds support for connecting to a Postgres data...</td>\n",
              "      <td>[postgres]</td>\n",
              "    </tr>\n",
              "    <tr>\n",
              "      <th>16</th>\n",
              "      <td>spatial</td>\n",
              "      <td>False</td>\n",
              "      <td>True</td>\n",
              "      <td>C:\\Users\\SBH\\.duckdb\\extensions\\v0.9.2\\windows...</td>\n",
              "      <td>Geospatial extension that adds support for wor...</td>\n",
              "      <td>[]</td>\n",
              "    </tr>\n",
              "    <tr>\n",
              "      <th>17</th>\n",
              "      <td>sqlite_scanner</td>\n",
              "      <td>False</td>\n",
              "      <td>False</td>\n",
              "      <td></td>\n",
              "      <td>Adds support for reading and writing SQLite da...</td>\n",
              "      <td>[sqlite, sqlite3]</td>\n",
              "    </tr>\n",
              "    <tr>\n",
              "      <th>18</th>\n",
              "      <td>substrait</td>\n",
              "      <td>False</td>\n",
              "      <td>False</td>\n",
              "      <td></td>\n",
              "      <td>Adds support for the Substrait integration</td>\n",
              "      <td>[]</td>\n",
              "    </tr>\n",
              "    <tr>\n",
              "      <th>19</th>\n",
              "      <td>tpcds</td>\n",
              "      <td>False</td>\n",
              "      <td>False</td>\n",
              "      <td></td>\n",
              "      <td>Adds TPC-DS data generation and query support</td>\n",
              "      <td>[]</td>\n",
              "    </tr>\n",
              "    <tr>\n",
              "      <th>20</th>\n",
              "      <td>tpch</td>\n",
              "      <td>True</td>\n",
              "      <td>True</td>\n",
              "      <td>(BUILT-IN)</td>\n",
              "      <td>Adds TPC-H data generation and query support</td>\n",
              "      <td>[]</td>\n",
              "    </tr>\n",
              "    <tr>\n",
              "      <th>21</th>\n",
              "      <td>visualizer</td>\n",
              "      <td>False</td>\n",
              "      <td>False</td>\n",
              "      <td></td>\n",
              "      <td>Creates an HTML-based visualization of the que...</td>\n",
              "      <td>[]</td>\n",
              "    </tr>\n",
              "  </tbody>\n",
              "</table>\n",
              "</div>"
            ],
            "text/plain": [
              "      extension_name  loaded  installed  \\\n",
              "0              arrow   False      False   \n",
              "1       autocomplete   False      False   \n",
              "2                aws   False      False   \n",
              "3              azure   False      False   \n",
              "4              excel   False      False   \n",
              "5                fts   False       True   \n",
              "6             httpfs   False       True   \n",
              "7            iceberg   False      False   \n",
              "8                icu    True       True   \n",
              "9               inet   False      False   \n",
              "10          jemalloc   False      False   \n",
              "11              json    True       True   \n",
              "12        motherduck   False      False   \n",
              "13     mysql_scanner   False      False   \n",
              "14           parquet    True       True   \n",
              "15  postgres_scanner   False      False   \n",
              "16           spatial   False       True   \n",
              "17    sqlite_scanner   False      False   \n",
              "18         substrait   False      False   \n",
              "19             tpcds   False      False   \n",
              "20              tpch    True       True   \n",
              "21        visualizer   False      False   \n",
              "\n",
              "                                         install_path  \\\n",
              "0                                                       \n",
              "1                                                       \n",
              "2                                                       \n",
              "3                                                       \n",
              "4                                                       \n",
              "5                                          (BUILT-IN)   \n",
              "6   C:\\Users\\SBH\\.duckdb\\extensions\\v0.9.2\\windows...   \n",
              "7                                                       \n",
              "8                                          (BUILT-IN)   \n",
              "9                                                       \n",
              "10                                                      \n",
              "11                                         (BUILT-IN)   \n",
              "12                                                      \n",
              "13                                                      \n",
              "14                                         (BUILT-IN)   \n",
              "15                                                      \n",
              "16  C:\\Users\\SBH\\.duckdb\\extensions\\v0.9.2\\windows...   \n",
              "17                                                      \n",
              "18                                                      \n",
              "19                                                      \n",
              "20                                         (BUILT-IN)   \n",
              "21                                                      \n",
              "\n",
              "                                          description            aliases  \n",
              "0   A zero-copy data integration between Apache Ar...                 []  \n",
              "1          Adds support for autocomplete in the shell                 []  \n",
              "2        Provides features that depend on the AWS SDK                 []  \n",
              "3   Adds a filesystem abstraction for Azure blob s...                 []  \n",
              "4          Adds support for Excel-like format strings                 []  \n",
              "5           Adds support for Full-Text Search Indexes                 []  \n",
              "6   Adds support for reading and writing files ove...  [http, https, s3]  \n",
              "7                     Adds support for Apache Iceberg                 []  \n",
              "8   Adds support for time zones and collations usi...                 []  \n",
              "9   Adds support for IP-related data types and fun...                 []  \n",
              "10          Overwrites system allocator with JEMalloc                 []  \n",
              "11                   Adds support for JSON operations                 []  \n",
              "12     Enables motherduck integration with the system               [md]  \n",
              "13    Adds support for connecting to a MySQL database            [mysql]  \n",
              "14  Adds support for reading and writing parquet f...                 []  \n",
              "15  Adds support for connecting to a Postgres data...         [postgres]  \n",
              "16  Geospatial extension that adds support for wor...                 []  \n",
              "17  Adds support for reading and writing SQLite da...  [sqlite, sqlite3]  \n",
              "18         Adds support for the Substrait integration                 []  \n",
              "19      Adds TPC-DS data generation and query support                 []  \n",
              "20       Adds TPC-H data generation and query support                 []  \n",
              "21  Creates an HTML-based visualization of the que...                 []  "
            ]
          },
          "execution_count": 4,
          "metadata": {},
          "output_type": "execute_result"
        }
      ],
      "source": [
        "%%sql\n",
        "\n",
        "SELECT * \n",
        "FROM duckdb_extensions();"
      ]
    },
    {
      "cell_type": "markdown",
      "id": "ZMDdIOMQzgmj",
      "metadata": {
        "id": "ZMDdIOMQzgmj"
      },
      "source": [
        "DuckDB's [httpfs extension](https://duckdb.org/docs/extensions/httpfs) allows parquet and csv files to be queried remotely over http. This is useful for querying large datasets without having to download them locally. Let's install the extension and load the extension."
      ]
    },
    {
      "cell_type": "code",
      "execution_count": 5,
      "id": "mgDPntKGzgmj",
      "metadata": {
        "colab": {
          "base_uri": "https://localhost:8080/",
          "height": 53
        },
        "id": "mgDPntKGzgmj",
        "outputId": "a8b2a704-1b74-43ab-8957-97dc093ac3ae"
      },
      "outputs": [
        {
          "data": {
            "text/html": [
              "<div>\n",
              "<style scoped>\n",
              "    .dataframe tbody tr th:only-of-type {\n",
              "        vertical-align: middle;\n",
              "    }\n",
              "\n",
              "    .dataframe tbody tr th {\n",
              "        vertical-align: top;\n",
              "    }\n",
              "\n",
              "    .dataframe thead th {\n",
              "        text-align: right;\n",
              "    }\n",
              "</style>\n",
              "<table border=\"1\" class=\"dataframe\">\n",
              "  <thead>\n",
              "    <tr style=\"text-align: right;\">\n",
              "      <th></th>\n",
              "      <th>Success</th>\n",
              "    </tr>\n",
              "  </thead>\n",
              "  <tbody>\n",
              "  </tbody>\n",
              "</table>\n",
              "</div>"
            ],
            "text/plain": [
              "Empty DataFrame\n",
              "Columns: [Success]\n",
              "Index: []"
            ]
          },
          "execution_count": 5,
          "metadata": {},
          "output_type": "execute_result"
        }
      ],
      "source": [
        "%%sql\n",
        "\n",
        "INSTALL httpfs;\n",
        "LOAD httpfs;"
      ]
    },
    {
      "cell_type": "markdown",
      "id": "kg-NdmdUzgmj",
      "metadata": {
        "id": "kg-NdmdUzgmj"
      },
      "source": [
        "## Read CSV\n",
        "\n",
        "Use the `httpfs` extension to read the `cities.csv` file from the web."
      ]
    },
    {
      "cell_type": "code",
      "execution_count": 6,
      "id": "YKyFeZ0Kzgmj",
      "metadata": {
        "colab": {
          "base_uri": "https://localhost:8080/",
          "height": 138
        },
        "id": "YKyFeZ0Kzgmj",
        "outputId": "81d9eb3c-8b7a-42db-c043-f63e22d5dbb4"
      },
      "outputs": [
        {
          "data": {
            "text/html": [
              "<div>\n",
              "<style scoped>\n",
              "    .dataframe tbody tr th:only-of-type {\n",
              "        vertical-align: middle;\n",
              "    }\n",
              "\n",
              "    .dataframe tbody tr th {\n",
              "        vertical-align: top;\n",
              "    }\n",
              "\n",
              "    .dataframe thead th {\n",
              "        text-align: right;\n",
              "    }\n",
              "</style>\n",
              "<table border=\"1\" class=\"dataframe\">\n",
              "  <thead>\n",
              "    <tr style=\"text-align: right;\">\n",
              "      <th></th>\n",
              "      <th>id</th>\n",
              "      <th>name</th>\n",
              "      <th>country</th>\n",
              "      <th>latitude</th>\n",
              "      <th>longitude</th>\n",
              "      <th>population</th>\n",
              "    </tr>\n",
              "  </thead>\n",
              "  <tbody>\n",
              "    <tr>\n",
              "      <th>0</th>\n",
              "      <td>1</td>\n",
              "      <td>Bombo</td>\n",
              "      <td>UGA</td>\n",
              "      <td>0.58330</td>\n",
              "      <td>32.53330</td>\n",
              "      <td>75000</td>\n",
              "    </tr>\n",
              "    <tr>\n",
              "      <th>1</th>\n",
              "      <td>2</td>\n",
              "      <td>Fort Portal</td>\n",
              "      <td>UGA</td>\n",
              "      <td>0.67100</td>\n",
              "      <td>30.27500</td>\n",
              "      <td>42670</td>\n",
              "    </tr>\n",
              "    <tr>\n",
              "      <th>2</th>\n",
              "      <td>3</td>\n",
              "      <td>Potenza</td>\n",
              "      <td>ITA</td>\n",
              "      <td>40.64200</td>\n",
              "      <td>15.79900</td>\n",
              "      <td>69060</td>\n",
              "    </tr>\n",
              "    <tr>\n",
              "      <th>3</th>\n",
              "      <td>4</td>\n",
              "      <td>Campobasso</td>\n",
              "      <td>ITA</td>\n",
              "      <td>41.56300</td>\n",
              "      <td>14.65600</td>\n",
              "      <td>50762</td>\n",
              "    </tr>\n",
              "    <tr>\n",
              "      <th>4</th>\n",
              "      <td>5</td>\n",
              "      <td>Aosta</td>\n",
              "      <td>ITA</td>\n",
              "      <td>45.73700</td>\n",
              "      <td>7.31500</td>\n",
              "      <td>34062</td>\n",
              "    </tr>\n",
              "    <tr>\n",
              "      <th>...</th>\n",
              "      <td>...</td>\n",
              "      <td>...</td>\n",
              "      <td>...</td>\n",
              "      <td>...</td>\n",
              "      <td>...</td>\n",
              "      <td>...</td>\n",
              "    </tr>\n",
              "    <tr>\n",
              "      <th>1244</th>\n",
              "      <td>1245</td>\n",
              "      <td>Rio de Janeiro</td>\n",
              "      <td>BRA</td>\n",
              "      <td>-22.92502</td>\n",
              "      <td>-43.22502</td>\n",
              "      <td>11748000</td>\n",
              "    </tr>\n",
              "    <tr>\n",
              "      <th>1245</th>\n",
              "      <td>1246</td>\n",
              "      <td>Sao Paulo</td>\n",
              "      <td>BRA</td>\n",
              "      <td>-23.55868</td>\n",
              "      <td>-46.62502</td>\n",
              "      <td>18845000</td>\n",
              "    </tr>\n",
              "    <tr>\n",
              "      <th>1246</th>\n",
              "      <td>1247</td>\n",
              "      <td>Sydney</td>\n",
              "      <td>AUS</td>\n",
              "      <td>-33.92001</td>\n",
              "      <td>151.18518</td>\n",
              "      <td>4630000</td>\n",
              "    </tr>\n",
              "    <tr>\n",
              "      <th>1247</th>\n",
              "      <td>1248</td>\n",
              "      <td>Singapore</td>\n",
              "      <td>SGP</td>\n",
              "      <td>1.29303</td>\n",
              "      <td>103.85582</td>\n",
              "      <td>5183700</td>\n",
              "    </tr>\n",
              "    <tr>\n",
              "      <th>1248</th>\n",
              "      <td>1249</td>\n",
              "      <td>Hong Kong</td>\n",
              "      <td>CHN</td>\n",
              "      <td>22.30498</td>\n",
              "      <td>114.18501</td>\n",
              "      <td>7206000</td>\n",
              "    </tr>\n",
              "  </tbody>\n",
              "</table>\n",
              "<p>1249 rows × 6 columns</p>\n",
              "</div>"
            ],
            "text/plain": [
              "        id            name country  latitude  longitude  population\n",
              "0        1           Bombo     UGA   0.58330   32.53330       75000\n",
              "1        2     Fort Portal     UGA   0.67100   30.27500       42670\n",
              "2        3         Potenza     ITA  40.64200   15.79900       69060\n",
              "3        4      Campobasso     ITA  41.56300   14.65600       50762\n",
              "4        5           Aosta     ITA  45.73700    7.31500       34062\n",
              "...    ...             ...     ...       ...        ...         ...\n",
              "1244  1245  Rio de Janeiro     BRA -22.92502  -43.22502    11748000\n",
              "1245  1246       Sao Paulo     BRA -23.55868  -46.62502    18845000\n",
              "1246  1247          Sydney     AUS -33.92001  151.18518     4630000\n",
              "1247  1248       Singapore     SGP   1.29303  103.85582     5183700\n",
              "1248  1249       Hong Kong     CHN  22.30498  114.18501     7206000\n",
              "\n",
              "[1249 rows x 6 columns]"
            ]
          },
          "execution_count": 6,
          "metadata": {},
          "output_type": "execute_result"
        }
      ],
      "source": [
        "%%sql\n",
        "\n",
        "SELECT * \n",
        "FROM 'https://open.gishub.org/data/duckdb/cities.csv';"
      ]
    },
    {
      "cell_type": "code",
      "execution_count": 7,
      "id": "fiYD3mdNzgmj",
      "metadata": {
        "id": "fiYD3mdNzgmj"
      },
      "outputs": [
        {
          "data": {
            "text/html": [
              "<div>\n",
              "<style scoped>\n",
              "    .dataframe tbody tr th:only-of-type {\n",
              "        vertical-align: middle;\n",
              "    }\n",
              "\n",
              "    .dataframe tbody tr th {\n",
              "        vertical-align: top;\n",
              "    }\n",
              "\n",
              "    .dataframe thead th {\n",
              "        text-align: right;\n",
              "    }\n",
              "</style>\n",
              "<table border=\"1\" class=\"dataframe\">\n",
              "  <thead>\n",
              "    <tr style=\"text-align: right;\">\n",
              "      <th></th>\n",
              "      <th>id</th>\n",
              "      <th>Country</th>\n",
              "      <th>Alpha2_code</th>\n",
              "      <th>Alpha3_code</th>\n",
              "      <th>Numeric_code</th>\n",
              "      <th>Latitude</th>\n",
              "      <th>Longitude</th>\n",
              "    </tr>\n",
              "  </thead>\n",
              "  <tbody>\n",
              "    <tr>\n",
              "      <th>0</th>\n",
              "      <td>1</td>\n",
              "      <td>Afghanistan</td>\n",
              "      <td>AF</td>\n",
              "      <td>AFG</td>\n",
              "      <td>4</td>\n",
              "      <td>33.0000</td>\n",
              "      <td>65.0</td>\n",
              "    </tr>\n",
              "    <tr>\n",
              "      <th>1</th>\n",
              "      <td>2</td>\n",
              "      <td>Albania</td>\n",
              "      <td>AL</td>\n",
              "      <td>ALB</td>\n",
              "      <td>8</td>\n",
              "      <td>41.0000</td>\n",
              "      <td>20.0</td>\n",
              "    </tr>\n",
              "    <tr>\n",
              "      <th>2</th>\n",
              "      <td>3</td>\n",
              "      <td>Algeria</td>\n",
              "      <td>DZ</td>\n",
              "      <td>DZA</td>\n",
              "      <td>12</td>\n",
              "      <td>28.0000</td>\n",
              "      <td>3.0</td>\n",
              "    </tr>\n",
              "    <tr>\n",
              "      <th>3</th>\n",
              "      <td>4</td>\n",
              "      <td>American Samoa</td>\n",
              "      <td>AS</td>\n",
              "      <td>ASM</td>\n",
              "      <td>16</td>\n",
              "      <td>-14.3333</td>\n",
              "      <td>-170.0</td>\n",
              "    </tr>\n",
              "    <tr>\n",
              "      <th>4</th>\n",
              "      <td>5</td>\n",
              "      <td>Andorra</td>\n",
              "      <td>AD</td>\n",
              "      <td>AND</td>\n",
              "      <td>20</td>\n",
              "      <td>42.5000</td>\n",
              "      <td>1.6</td>\n",
              "    </tr>\n",
              "    <tr>\n",
              "      <th>...</th>\n",
              "      <td>...</td>\n",
              "      <td>...</td>\n",
              "      <td>...</td>\n",
              "      <td>...</td>\n",
              "      <td>...</td>\n",
              "      <td>...</td>\n",
              "      <td>...</td>\n",
              "    </tr>\n",
              "    <tr>\n",
              "      <th>238</th>\n",
              "      <td>239</td>\n",
              "      <td>Wallis and Futuna</td>\n",
              "      <td>WF</td>\n",
              "      <td>WLF</td>\n",
              "      <td>876</td>\n",
              "      <td>-13.3000</td>\n",
              "      <td>-176.2</td>\n",
              "    </tr>\n",
              "    <tr>\n",
              "      <th>239</th>\n",
              "      <td>240</td>\n",
              "      <td>Western Sahara</td>\n",
              "      <td>EH</td>\n",
              "      <td>ESH</td>\n",
              "      <td>732</td>\n",
              "      <td>24.5000</td>\n",
              "      <td>-13.0</td>\n",
              "    </tr>\n",
              "    <tr>\n",
              "      <th>240</th>\n",
              "      <td>241</td>\n",
              "      <td>Yemen</td>\n",
              "      <td>YE</td>\n",
              "      <td>YEM</td>\n",
              "      <td>887</td>\n",
              "      <td>15.0000</td>\n",
              "      <td>48.0</td>\n",
              "    </tr>\n",
              "    <tr>\n",
              "      <th>241</th>\n",
              "      <td>242</td>\n",
              "      <td>Zambia</td>\n",
              "      <td>ZM</td>\n",
              "      <td>ZMB</td>\n",
              "      <td>894</td>\n",
              "      <td>-15.0000</td>\n",
              "      <td>30.0</td>\n",
              "    </tr>\n",
              "    <tr>\n",
              "      <th>242</th>\n",
              "      <td>243</td>\n",
              "      <td>Zimbabwe</td>\n",
              "      <td>ZW</td>\n",
              "      <td>ZWE</td>\n",
              "      <td>716</td>\n",
              "      <td>-20.0000</td>\n",
              "      <td>30.0</td>\n",
              "    </tr>\n",
              "  </tbody>\n",
              "</table>\n",
              "<p>243 rows × 7 columns</p>\n",
              "</div>"
            ],
            "text/plain": [
              "      id            Country Alpha2_code Alpha3_code  Numeric_code  Latitude  \\\n",
              "0      1        Afghanistan          AF         AFG             4   33.0000   \n",
              "1      2            Albania          AL         ALB             8   41.0000   \n",
              "2      3            Algeria          DZ         DZA            12   28.0000   \n",
              "3      4     American Samoa          AS         ASM            16  -14.3333   \n",
              "4      5            Andorra          AD         AND            20   42.5000   \n",
              "..   ...                ...         ...         ...           ...       ...   \n",
              "238  239  Wallis and Futuna          WF         WLF           876  -13.3000   \n",
              "239  240     Western Sahara          EH         ESH           732   24.5000   \n",
              "240  241              Yemen          YE         YEM           887   15.0000   \n",
              "241  242             Zambia          ZM         ZMB           894  -15.0000   \n",
              "242  243           Zimbabwe          ZW         ZWE           716  -20.0000   \n",
              "\n",
              "     Longitude  \n",
              "0         65.0  \n",
              "1         20.0  \n",
              "2          3.0  \n",
              "3       -170.0  \n",
              "4          1.6  \n",
              "..         ...  \n",
              "238     -176.2  \n",
              "239      -13.0  \n",
              "240       48.0  \n",
              "241       30.0  \n",
              "242       30.0  \n",
              "\n",
              "[243 rows x 7 columns]"
            ]
          },
          "execution_count": 7,
          "metadata": {},
          "output_type": "execute_result"
        }
      ],
      "source": [
        "%%sql\n",
        "\n",
        "SELECT * \n",
        "FROM 'https://open.gishub.org/data/duckdb/countries.csv';"
      ]
    },
    {
      "cell_type": "markdown",
      "id": "gT-4-yEOzgmj",
      "metadata": {
        "id": "gT-4-yEOzgmj"
      },
      "source": [
        "## Create Table\n",
        "\n",
        "Create a table named `cities` from the `cities.csv` file."
      ]
    },
    {
      "cell_type": "code",
      "execution_count": 8,
      "id": "8EELy0tCzgmj",
      "metadata": {
        "id": "8EELy0tCzgmj"
      },
      "outputs": [
        {
          "data": {
            "text/html": [
              "<div>\n",
              "<style scoped>\n",
              "    .dataframe tbody tr th:only-of-type {\n",
              "        vertical-align: middle;\n",
              "    }\n",
              "\n",
              "    .dataframe tbody tr th {\n",
              "        vertical-align: top;\n",
              "    }\n",
              "\n",
              "    .dataframe thead th {\n",
              "        text-align: right;\n",
              "    }\n",
              "</style>\n",
              "<table border=\"1\" class=\"dataframe\">\n",
              "  <thead>\n",
              "    <tr style=\"text-align: right;\">\n",
              "      <th></th>\n",
              "      <th>Success</th>\n",
              "    </tr>\n",
              "  </thead>\n",
              "  <tbody>\n",
              "  </tbody>\n",
              "</table>\n",
              "</div>"
            ],
            "text/plain": [
              "Empty DataFrame\n",
              "Columns: [Success]\n",
              "Index: []"
            ]
          },
          "execution_count": 8,
          "metadata": {},
          "output_type": "execute_result"
        }
      ],
      "source": [
        "%%sql\n",
        "\n",
        "CREATE TABLE cities \n",
        "AS \n",
        "SELECT * FROM 'https://open.gishub.org/data/duckdb/cities.csv';"
      ]
    },
    {
      "cell_type": "markdown",
      "id": "HuFyhyQPzgmj",
      "metadata": {
        "id": "HuFyhyQPzgmj"
      },
      "source": [
        "Create a table named `countries` from the `countries.csv` file."
      ]
    },
    {
      "cell_type": "code",
      "execution_count": 9,
      "id": "A5hvF7sHzgmj",
      "metadata": {
        "id": "A5hvF7sHzgmj"
      },
      "outputs": [
        {
          "data": {
            "text/html": [
              "<div>\n",
              "<style scoped>\n",
              "    .dataframe tbody tr th:only-of-type {\n",
              "        vertical-align: middle;\n",
              "    }\n",
              "\n",
              "    .dataframe tbody tr th {\n",
              "        vertical-align: top;\n",
              "    }\n",
              "\n",
              "    .dataframe thead th {\n",
              "        text-align: right;\n",
              "    }\n",
              "</style>\n",
              "<table border=\"1\" class=\"dataframe\">\n",
              "  <thead>\n",
              "    <tr style=\"text-align: right;\">\n",
              "      <th></th>\n",
              "      <th>Success</th>\n",
              "    </tr>\n",
              "  </thead>\n",
              "  <tbody>\n",
              "  </tbody>\n",
              "</table>\n",
              "</div>"
            ],
            "text/plain": [
              "Empty DataFrame\n",
              "Columns: [Success]\n",
              "Index: []"
            ]
          },
          "execution_count": 9,
          "metadata": {},
          "output_type": "execute_result"
        }
      ],
      "source": [
        "%%sql\n",
        "\n",
        "CREATE TABLE countries AS SELECT * FROM 'https://open.gishub.org/data/duckdb/countries.csv';"
      ]
    },
    {
      "cell_type": "markdown",
      "id": "1g6pn-3Gzgmj",
      "metadata": {
        "id": "1g6pn-3Gzgmj"
      },
      "source": [
        "Display the table content in the database."
      ]
    },
    {
      "cell_type": "code",
      "execution_count": 10,
      "id": "7_h5-AChzgmj",
      "metadata": {
        "id": "7_h5-AChzgmj"
      },
      "outputs": [
        {
          "data": {
            "text/html": [
              "<div>\n",
              "<style scoped>\n",
              "    .dataframe tbody tr th:only-of-type {\n",
              "        vertical-align: middle;\n",
              "    }\n",
              "\n",
              "    .dataframe tbody tr th {\n",
              "        vertical-align: top;\n",
              "    }\n",
              "\n",
              "    .dataframe thead th {\n",
              "        text-align: right;\n",
              "    }\n",
              "</style>\n",
              "<table border=\"1\" class=\"dataframe\">\n",
              "  <thead>\n",
              "    <tr style=\"text-align: right;\">\n",
              "      <th></th>\n",
              "      <th>id</th>\n",
              "      <th>name</th>\n",
              "      <th>country</th>\n",
              "      <th>latitude</th>\n",
              "      <th>longitude</th>\n",
              "      <th>population</th>\n",
              "    </tr>\n",
              "  </thead>\n",
              "  <tbody>\n",
              "    <tr>\n",
              "      <th>0</th>\n",
              "      <td>1</td>\n",
              "      <td>Bombo</td>\n",
              "      <td>UGA</td>\n",
              "      <td>0.58330</td>\n",
              "      <td>32.53330</td>\n",
              "      <td>75000</td>\n",
              "    </tr>\n",
              "    <tr>\n",
              "      <th>1</th>\n",
              "      <td>2</td>\n",
              "      <td>Fort Portal</td>\n",
              "      <td>UGA</td>\n",
              "      <td>0.67100</td>\n",
              "      <td>30.27500</td>\n",
              "      <td>42670</td>\n",
              "    </tr>\n",
              "    <tr>\n",
              "      <th>2</th>\n",
              "      <td>3</td>\n",
              "      <td>Potenza</td>\n",
              "      <td>ITA</td>\n",
              "      <td>40.64200</td>\n",
              "      <td>15.79900</td>\n",
              "      <td>69060</td>\n",
              "    </tr>\n",
              "    <tr>\n",
              "      <th>3</th>\n",
              "      <td>4</td>\n",
              "      <td>Campobasso</td>\n",
              "      <td>ITA</td>\n",
              "      <td>41.56300</td>\n",
              "      <td>14.65600</td>\n",
              "      <td>50762</td>\n",
              "    </tr>\n",
              "    <tr>\n",
              "      <th>4</th>\n",
              "      <td>5</td>\n",
              "      <td>Aosta</td>\n",
              "      <td>ITA</td>\n",
              "      <td>45.73700</td>\n",
              "      <td>7.31500</td>\n",
              "      <td>34062</td>\n",
              "    </tr>\n",
              "    <tr>\n",
              "      <th>...</th>\n",
              "      <td>...</td>\n",
              "      <td>...</td>\n",
              "      <td>...</td>\n",
              "      <td>...</td>\n",
              "      <td>...</td>\n",
              "      <td>...</td>\n",
              "    </tr>\n",
              "    <tr>\n",
              "      <th>1244</th>\n",
              "      <td>1245</td>\n",
              "      <td>Rio de Janeiro</td>\n",
              "      <td>BRA</td>\n",
              "      <td>-22.92502</td>\n",
              "      <td>-43.22502</td>\n",
              "      <td>11748000</td>\n",
              "    </tr>\n",
              "    <tr>\n",
              "      <th>1245</th>\n",
              "      <td>1246</td>\n",
              "      <td>Sao Paulo</td>\n",
              "      <td>BRA</td>\n",
              "      <td>-23.55868</td>\n",
              "      <td>-46.62502</td>\n",
              "      <td>18845000</td>\n",
              "    </tr>\n",
              "    <tr>\n",
              "      <th>1246</th>\n",
              "      <td>1247</td>\n",
              "      <td>Sydney</td>\n",
              "      <td>AUS</td>\n",
              "      <td>-33.92001</td>\n",
              "      <td>151.18518</td>\n",
              "      <td>4630000</td>\n",
              "    </tr>\n",
              "    <tr>\n",
              "      <th>1247</th>\n",
              "      <td>1248</td>\n",
              "      <td>Singapore</td>\n",
              "      <td>SGP</td>\n",
              "      <td>1.29303</td>\n",
              "      <td>103.85582</td>\n",
              "      <td>5183700</td>\n",
              "    </tr>\n",
              "    <tr>\n",
              "      <th>1248</th>\n",
              "      <td>1249</td>\n",
              "      <td>Hong Kong</td>\n",
              "      <td>CHN</td>\n",
              "      <td>22.30498</td>\n",
              "      <td>114.18501</td>\n",
              "      <td>7206000</td>\n",
              "    </tr>\n",
              "  </tbody>\n",
              "</table>\n",
              "<p>1249 rows × 6 columns</p>\n",
              "</div>"
            ],
            "text/plain": [
              "        id            name country  latitude  longitude  population\n",
              "0        1           Bombo     UGA   0.58330   32.53330       75000\n",
              "1        2     Fort Portal     UGA   0.67100   30.27500       42670\n",
              "2        3         Potenza     ITA  40.64200   15.79900       69060\n",
              "3        4      Campobasso     ITA  41.56300   14.65600       50762\n",
              "4        5           Aosta     ITA  45.73700    7.31500       34062\n",
              "...    ...             ...     ...       ...        ...         ...\n",
              "1244  1245  Rio de Janeiro     BRA -22.92502  -43.22502    11748000\n",
              "1245  1246       Sao Paulo     BRA -23.55868  -46.62502    18845000\n",
              "1246  1247          Sydney     AUS -33.92001  151.18518     4630000\n",
              "1247  1248       Singapore     SGP   1.29303  103.85582     5183700\n",
              "1248  1249       Hong Kong     CHN  22.30498  114.18501     7206000\n",
              "\n",
              "[1249 rows x 6 columns]"
            ]
          },
          "execution_count": 10,
          "metadata": {},
          "output_type": "execute_result"
        }
      ],
      "source": [
        "%%sql\n",
        "\n",
        "FROM cities;"
      ]
    },
    {
      "cell_type": "code",
      "execution_count": null,
      "id": "962KOOxMzgmk",
      "metadata": {
        "id": "962KOOxMzgmk"
      },
      "outputs": [],
      "source": [
        "%%sql\n",
        "\n",
        "FROM countries;"
      ]
    },
    {
      "cell_type": "markdown",
      "id": "TyaaOknGzgmk",
      "metadata": {
        "id": "TyaaOknGzgmk"
      },
      "source": [
        "## The SQL SELECT statement\n",
        "\n",
        "The `SELECT` statement is used to select data from a database. Use either `SELECT *` to select all columns, or `SELECT column1, column2, ...` to select specific columns.\n",
        "\n",
        "`SELECT * FROM cities` is the same as `FROM cities`."
      ]
    },
    {
      "cell_type": "code",
      "execution_count": null,
      "id": "H-pHh7x3zgmk",
      "metadata": {
        "id": "H-pHh7x3zgmk",
        "scrolled": true,
        "tags": [
          "hide-output"
        ]
      },
      "outputs": [],
      "source": [
        "%%sql\n",
        "\n",
        "SELECT * FROM cities;"
      ]
    },
    {
      "cell_type": "markdown",
      "id": "mxJwj1aWzgmk",
      "metadata": {
        "id": "mxJwj1aWzgmk"
      },
      "source": [
        "To limit the number of rows returned, use the `LIMIT` keyword. For example, `SELECT * FROM cities LIMIT 10` will return only the first 10 rows."
      ]
    },
    {
      "cell_type": "code",
      "execution_count": null,
      "id": "c0EUXEt3zgmk",
      "metadata": {
        "id": "c0EUXEt3zgmk",
        "scrolled": false
      },
      "outputs": [],
      "source": [
        "%%sql\n",
        "\n",
        "SELECT * FROM cities LIMIT 10;"
      ]
    },
    {
      "cell_type": "markdown",
      "id": "Ukic50VAzgmk",
      "metadata": {
        "id": "Ukic50VAzgmk"
      },
      "source": [
        "Select a subset of columns from the `cities` table and display the first 10 rows."
      ]
    },
    {
      "cell_type": "code",
      "execution_count": null,
      "id": "77pjmBu9zgmk",
      "metadata": {
        "id": "77pjmBu9zgmk",
        "scrolled": false
      },
      "outputs": [],
      "source": [
        "%%sql\n",
        "\n",
        "SELECT name, country FROM cities LIMIT 10;"
      ]
    },
    {
      "cell_type": "markdown",
      "id": "NYa1Wqjpzgmk",
      "metadata": {
        "id": "NYa1Wqjpzgmk"
      },
      "source": [
        "To select distinct values, use the `DISTINCT` keyword. For example, `SELECT DISTINCT country FROM cities` will return only the distinct values of the `country` column."
      ]
    },
    {
      "cell_type": "code",
      "execution_count": null,
      "id": "_MFADY1Czgmk",
      "metadata": {
        "id": "_MFADY1Czgmk"
      },
      "outputs": [],
      "source": [
        "%%sql\n",
        "\n",
        "SELECT DISTINCT country FROM cities LIMIT 10;"
      ]
    },
    {
      "cell_type": "markdown",
      "id": "hcg1hFAizgmk",
      "metadata": {
        "id": "hcg1hFAizgmk"
      },
      "source": [
        "To count the number of rows returned, use the `COUNT(*)` function. For example, `SELECT COUNT(*) FROM cities` will return the number of rows in the `cities` table."
      ]
    },
    {
      "cell_type": "code",
      "execution_count": null,
      "id": "bRuiJXZYzgmk",
      "metadata": {
        "id": "bRuiJXZYzgmk"
      },
      "outputs": [],
      "source": [
        "%%sql\n",
        "\n",
        "SELECT COUNT(*) FROM cities;"
      ]
    },
    {
      "cell_type": "markdown",
      "id": "l03_KjQ1zgmk",
      "metadata": {
        "id": "l03_KjQ1zgmk"
      },
      "source": [
        "To count the number of distinct values, use the `COUNT(DISTINCT column)` function. For example, `SELECT COUNT(DISTINCT country) FROM cities` will return the number of distinct values in the `country` column."
      ]
    },
    {
      "cell_type": "code",
      "execution_count": null,
      "id": "GQOVvMetzgmk",
      "metadata": {
        "id": "GQOVvMetzgmk"
      },
      "outputs": [],
      "source": [
        "%%sql\n",
        "\n",
        "SELECT COUNT(DISTINCT country) FROM cities;"
      ]
    },
    {
      "cell_type": "markdown",
      "id": "Arvf6B7Uzgmk",
      "metadata": {
        "id": "Arvf6B7Uzgmk"
      },
      "source": [
        "To calculate the maximum value, use the `MAX(column)` function. For example, `SELECT MAX(population) FROM cities` will return the maximum value in the `population` column."
      ]
    },
    {
      "cell_type": "code",
      "execution_count": null,
      "id": "LRHh09k1zgmk",
      "metadata": {
        "id": "LRHh09k1zgmk"
      },
      "outputs": [],
      "source": [
        "%%sql\n",
        "\n",
        "SELECT MAX(population) FROM cities;"
      ]
    },
    {
      "cell_type": "markdown",
      "id": "ZLRlnme3zgmn",
      "metadata": {
        "id": "ZLRlnme3zgmn"
      },
      "source": [
        "To calculate the total value, use the `SUM(column)` function. For example, `SELECT SUM(population) FROM cities` will return the total value in the `population` column."
      ]
    },
    {
      "cell_type": "code",
      "execution_count": null,
      "id": "K3lza1rTzgmn",
      "metadata": {
        "id": "K3lza1rTzgmn"
      },
      "outputs": [],
      "source": [
        "%%sql\n",
        "\n",
        "SELECT SUM(population) FROM cities;"
      ]
    },
    {
      "cell_type": "markdown",
      "id": "R1yyDEobzgmn",
      "metadata": {
        "id": "R1yyDEobzgmn"
      },
      "source": [
        "To calculate the average value, use the `AVG(column)` function. For example, `SELECT AVG(population) FROM cities` will return the average value in the `population` column."
      ]
    },
    {
      "cell_type": "code",
      "execution_count": null,
      "id": "Y0L4Ybddzgmn",
      "metadata": {
        "id": "Y0L4Ybddzgmn"
      },
      "outputs": [],
      "source": [
        "%%sql\n",
        "\n",
        "SELECT AVG(population) FROM cities;"
      ]
    },
    {
      "cell_type": "markdown",
      "id": "sURsHxMczgmo",
      "metadata": {
        "id": "sURsHxMczgmo"
      },
      "source": [
        "To order the results, use the `ORDER BY column` clause. For example, `SELECT * FROM cities ORDER BY country` will return the rows ordered by the `country` column alphabetically."
      ]
    },
    {
      "cell_type": "code",
      "execution_count": null,
      "id": "-xdn1zbOzgmo",
      "metadata": {
        "id": "-xdn1zbOzgmo"
      },
      "outputs": [],
      "source": [
        "%%sql\n",
        "\n",
        "SELECT * FROM cities ORDER BY country LIMIT 10;"
      ]
    },
    {
      "cell_type": "markdown",
      "id": "-uUirqQgzgmo",
      "metadata": {
        "id": "-uUirqQgzgmo"
      },
      "source": [
        "To order the results in descending order, use the `ORDER BY column DESC` clause. For example, `SELECT * FROM cities ORDER BY country ASC, population DESC` will return the rows ordered by the `country` column alphabetical order and then by the `population` column in descending order."
      ]
    },
    {
      "cell_type": "code",
      "execution_count": null,
      "id": "WgSsDV-Mzgmo",
      "metadata": {
        "id": "WgSsDV-Mzgmo"
      },
      "outputs": [],
      "source": [
        "%%sql\n",
        "\n",
        "SELECT * FROM cities ORDER BY country ASC, population DESC LIMIT 10;"
      ]
    },
    {
      "cell_type": "markdown",
      "id": "_dvuyP3Czgmo",
      "metadata": {
        "id": "_dvuyP3Czgmo"
      },
      "source": [
        "## The WHERE Clause\n",
        "\n",
        "The `WHERE` clause is used to filter records. The `WHERE` clause is used to extract only those records that fulfill a specified condition."
      ]
    },
    {
      "cell_type": "code",
      "execution_count": null,
      "id": "kVLGOnbPzgmo",
      "metadata": {
        "id": "kVLGOnbPzgmo",
        "scrolled": true,
        "tags": [
          "hide-output"
        ]
      },
      "outputs": [],
      "source": [
        "%%sql\n",
        "\n",
        "SELECT * FROM cities WHERE country='USA'"
      ]
    },
    {
      "cell_type": "markdown",
      "id": "LkitXksUzgmo",
      "metadata": {
        "id": "LkitXksUzgmo"
      },
      "source": [
        "You can use boolean operators such as `AND`, `OR`, `NOT` to filter records. For example, `SELECT * FROM cities WHERE country='USA' OR country='CAN'` will return the rows where the `country` column is either `USA` or `CAN`."
      ]
    },
    {
      "cell_type": "code",
      "execution_count": null,
      "id": "R1l9FcBBzgmo",
      "metadata": {
        "id": "R1l9FcBBzgmo",
        "scrolled": false,
        "tags": [
          "hide-output"
        ]
      },
      "outputs": [],
      "source": [
        "%%sql\n",
        "\n",
        "SELECT * FROM cities WHERE country='USA' OR country='CAN';"
      ]
    },
    {
      "cell_type": "markdown",
      "id": "qnl57xQHzgmo",
      "metadata": {
        "id": "qnl57xQHzgmo"
      },
      "source": [
        "To select US cities with a population greater than 1 million, use the following query: `SELECT * FROM cities WHERE country='USA' AND population > 1000000`."
      ]
    },
    {
      "cell_type": "code",
      "execution_count": null,
      "id": "0O54jJDQzgmo",
      "metadata": {
        "id": "0O54jJDQzgmo",
        "tags": [
          "hide-output"
        ]
      },
      "outputs": [],
      "source": [
        "%%sql\n",
        "\n",
        "SELECT * FROM cities WHERE country='USA' AND population>1000000;"
      ]
    },
    {
      "cell_type": "markdown",
      "id": "oXJslKh4zgmo",
      "metadata": {
        "id": "oXJslKh4zgmo"
      },
      "source": [
        "To select cities with the country name starting with the letter `U`, use the following query: `SELECT * FROM cities WHERE country LIKE 'U%'`."
      ]
    },
    {
      "cell_type": "code",
      "execution_count": null,
      "id": "ruqQMLXkzgmo",
      "metadata": {
        "id": "ruqQMLXkzgmo",
        "scrolled": false,
        "tags": [
          "hide-output"
        ]
      },
      "outputs": [],
      "source": [
        "%%sql\n",
        "\n",
        "SELECT * FROM cities WHERE country LIKE 'U%';"
      ]
    },
    {
      "cell_type": "markdown",
      "id": "Ki78U5N2zgmo",
      "metadata": {
        "id": "Ki78U5N2zgmo"
      },
      "source": [
        "To select cities with the country name ending with the letter `A`, use the following query: `SELECT * FROM cities WHERE country LIKE '%A'`."
      ]
    },
    {
      "cell_type": "code",
      "execution_count": null,
      "id": "K3j50R0gzgmo",
      "metadata": {
        "id": "K3j50R0gzgmo",
        "tags": [
          "hide-output"
        ]
      },
      "outputs": [],
      "source": [
        "%%sql\n",
        "\n",
        "SELECT * FROM cities WHERE country LIKE '%A';"
      ]
    },
    {
      "cell_type": "markdown",
      "id": "bSDJHz2Fzgmo",
      "metadata": {
        "id": "bSDJHz2Fzgmo"
      },
      "source": [
        "To select cities with the country name containing the letter `S` in the middle, use the following query: `SELECT * FROM cities WHERE country LIKE '_S_'`."
      ]
    },
    {
      "cell_type": "code",
      "execution_count": null,
      "id": "MqCimj_6zgmo",
      "metadata": {
        "id": "MqCimj_6zgmo",
        "tags": [
          "hide-output"
        ]
      },
      "outputs": [],
      "source": [
        "%%sql\n",
        "\n",
        "SELECT * FROM cities WHERE country LIKE '_S_';"
      ]
    },
    {
      "cell_type": "markdown",
      "id": "SJeg2AK1zgmo",
      "metadata": {
        "id": "SJeg2AK1zgmo"
      },
      "source": [
        "To select cities from a list of countries, use the `IN` operator. For example, `SELECT * FROM cities WHERE country IN ('USA', 'CAN')` will return the rows where the `country` column is either `USA` or `CAN`."
      ]
    },
    {
      "cell_type": "code",
      "execution_count": null,
      "id": "yidTQhwQzgmo",
      "metadata": {
        "id": "yidTQhwQzgmo",
        "tags": [
          "hide-output"
        ]
      },
      "outputs": [],
      "source": [
        "%%sql\n",
        "\n",
        "SELECT * FROM cities WHERE country IN ('USA', 'CAN');"
      ]
    },
    {
      "cell_type": "markdown",
      "id": "_Cw7juEwzgmp",
      "metadata": {
        "id": "_Cw7juEwzgmp"
      },
      "source": [
        "To select cities with a population between 1 and 10 million, use the following query: `SELECT * FROM cities WHERE population BETWEEN 1000000 AND 10000000`."
      ]
    },
    {
      "cell_type": "code",
      "execution_count": null,
      "id": "gTOXkp_-zgmp",
      "metadata": {
        "id": "gTOXkp_-zgmp",
        "scrolled": false,
        "tags": [
          "hide-output"
        ]
      },
      "outputs": [],
      "source": [
        "%%sql\n",
        "\n",
        "SELECT * FROM cities WHERE population BETWEEN 1000000 AND 10000000;"
      ]
    },
    {
      "cell_type": "markdown",
      "id": "lGMBViz_zgmp",
      "metadata": {
        "id": "lGMBViz_zgmp"
      },
      "source": [
        "## SQL Joins\n",
        "\n",
        "Reference: https://www.w3schools.com/sql/sql_join.asp\n",
        "\n",
        "Here are the different types of the JOINs in SQL:\n",
        "\n",
        "- `(INNER) JOIN`: Returns records that have matching values in both tables\n",
        "- `LEFT (OUTER) JOIN`: Returns all records from the left table, and the matched records from the right table\n",
        "- `RIGHT (OUTER) JOIN`: Returns all records from the right table, and the matched records from the left table\n",
        "- `FULL (OUTER) JOIN`: Returns all records when there is a match in either left or right table\n",
        "\n",
        "![](https://i.imgur.com/mITYzuS.png)\n",
        "\n",
        "We have two sample tables: `cities` and `countries`.\n",
        "\n",
        "There are 1,249 cities in the `cities` table and 243 countries in the `countries` table."
      ]
    },
    {
      "cell_type": "code",
      "execution_count": null,
      "id": "T9nODuf2zgmp",
      "metadata": {
        "id": "T9nODuf2zgmp"
      },
      "outputs": [],
      "source": [
        "%%sql\n",
        "\n",
        "SELECT COUNT(*) FROM cities;"
      ]
    },
    {
      "cell_type": "code",
      "execution_count": null,
      "id": "9YqNP86Uzgmp",
      "metadata": {
        "id": "9YqNP86Uzgmp"
      },
      "outputs": [],
      "source": [
        "%%sql\n",
        "\n",
        "SELECT * FROM cities LIMIT 10;"
      ]
    },
    {
      "cell_type": "code",
      "execution_count": null,
      "id": "Sc9qf05fzgmp",
      "metadata": {
        "id": "Sc9qf05fzgmp"
      },
      "outputs": [],
      "source": [
        "%%sql\n",
        "\n",
        "SELECT COUNT(*) FROM countries;"
      ]
    },
    {
      "cell_type": "code",
      "execution_count": null,
      "id": "r51UdejKzgmp",
      "metadata": {
        "id": "r51UdejKzgmp"
      },
      "outputs": [],
      "source": [
        "%%sql\n",
        "\n",
        "SELECT * FROM countries LIMIT 10;"
      ]
    },
    {
      "cell_type": "markdown",
      "id": "7BHlICFizgmp",
      "metadata": {
        "id": "7BHlICFizgmp"
      },
      "source": [
        "### SQL Inner Join\n",
        "\n",
        "The `INNER JOIN` keyword selects records that have matching values in both tables. In the example, we join the `cities` table with the `countries` table using the `country` column in the `cities` table and the `Alpha3_code` column in the `countries` table. The result contains 1,244 rows, indicating that there are 5 cities that do not have a matching country."
      ]
    },
    {
      "cell_type": "code",
      "execution_count": null,
      "id": "b0AgluRBzgmp",
      "metadata": {
        "id": "b0AgluRBzgmp",
        "tags": [
          "hide-output"
        ]
      },
      "outputs": [],
      "source": [
        "%%sql\n",
        "\n",
        "SELECT * FROM cities INNER JOIN countries ON cities.country = countries.\"Alpha3_code\";"
      ]
    },
    {
      "cell_type": "markdown",
      "id": "P9oiyZ8Gzgmp",
      "metadata": {
        "id": "P9oiyZ8Gzgmp"
      },
      "source": [
        "Only select the `city` and `country` columns from the `cities` table and the `Country` column from the `countries` table."
      ]
    },
    {
      "cell_type": "code",
      "execution_count": null,
      "id": "ZsAF5ppozgmp",
      "metadata": {
        "id": "ZsAF5ppozgmp",
        "tags": [
          "hide-output"
        ]
      },
      "outputs": [],
      "source": [
        "%%sql\n",
        "\n",
        "SELECT name, cities.\"country\", countries.\"Country\" FROM cities INNER JOIN countries ON cities.country = countries.\"Alpha3_code\";"
      ]
    },
    {
      "cell_type": "markdown",
      "id": "fsfSTEGzzgmp",
      "metadata": {
        "id": "fsfSTEGzzgmp"
      },
      "source": [
        "### SQL Left Join\n",
        "\n",
        "The `LEFT JOIN` keyword returns all records from the left table (`cities`), and the matched records from the right table (`countries`). The result contains 1,249 rows, the same number of rows as the `cities` table."
      ]
    },
    {
      "cell_type": "code",
      "execution_count": null,
      "id": "0SVS2vefzgmp",
      "metadata": {
        "id": "0SVS2vefzgmp",
        "tags": [
          "hide-output"
        ]
      },
      "outputs": [],
      "source": [
        "%%sql\n",
        "\n",
        "SELECT * FROM cities LEFT JOIN countries ON cities.country = countries.\"Alpha3_code\";"
      ]
    },
    {
      "cell_type": "markdown",
      "id": "U50RiD7Ozgmp",
      "metadata": {
        "id": "U50RiD7Ozgmp"
      },
      "source": [
        "### SQL Right Join\n",
        "\n",
        "The `RIGHT JOIN` keyword returns all records from the right table (`countries`), and the matched records from the left table (`cities`). The result contains 1,291 rows."
      ]
    },
    {
      "cell_type": "code",
      "execution_count": null,
      "id": "EIKrEqpZzgmp",
      "metadata": {
        "id": "EIKrEqpZzgmp",
        "tags": [
          "hide-output"
        ]
      },
      "outputs": [],
      "source": [
        "%%sql\n",
        "\n",
        "SELECT * FROM cities RIGHT JOIN countries ON cities.country = countries.\"Alpha3_code\";"
      ]
    },
    {
      "cell_type": "markdown",
      "id": "v2Gv1NL0zgmp",
      "metadata": {
        "id": "v2Gv1NL0zgmp"
      },
      "source": [
        "### SQL Full Join\n",
        "\n",
        "The `FULL JOIN` keyword returns all records when there is a match in either left or right table. The result contains 1,296 rows."
      ]
    },
    {
      "cell_type": "code",
      "execution_count": null,
      "id": "RlBdfe8-zgmq",
      "metadata": {
        "id": "RlBdfe8-zgmq",
        "tags": [
          "hide-output"
        ]
      },
      "outputs": [],
      "source": [
        "%%sql\n",
        "\n",
        "SELECT * FROM cities FULL JOIN countries ON cities.country = countries.\"Alpha3_code\";"
      ]
    },
    {
      "cell_type": "markdown",
      "id": "SUZIEGvGzgmq",
      "metadata": {
        "id": "SUZIEGvGzgmq"
      },
      "source": [
        "### SQL Union\n",
        "\n",
        "The `UNION` operator is used to combine the result-set of two or more `SELECT` statements."
      ]
    },
    {
      "cell_type": "code",
      "execution_count": null,
      "id": "24AaaZ6Ozgmq",
      "metadata": {
        "id": "24AaaZ6Ozgmq",
        "tags": [
          "hide-output"
        ]
      },
      "outputs": [],
      "source": [
        "%%sql\n",
        "\n",
        "SELECT country FROM cities\n",
        "UNION\n",
        "SELECT \"Alpha3_code\" FROM countries;"
      ]
    },
    {
      "cell_type": "markdown",
      "id": "fOsbt7Lpzgmq",
      "metadata": {
        "id": "fOsbt7Lpzgmq"
      },
      "source": [
        "## Aggregation\n",
        "\n",
        "### Group By\n",
        "\n",
        "The `GROUP BY` statement groups rows that have the same values into summary rows, like \"find the number of cities in each country\".\n",
        "\n",
        "The `GROUP BY` statement is often used with aggregate functions (`COUNT`, `MAX`, `MIN`, `SUM`, `AVG`) to group the result-set by one or more columns."
      ]
    },
    {
      "cell_type": "code",
      "execution_count": null,
      "id": "vCKjG2mazgmq",
      "metadata": {
        "id": "vCKjG2mazgmq",
        "scrolled": true,
        "tags": [
          "hide-output"
        ]
      },
      "outputs": [],
      "source": [
        "%%sql\n",
        "\n",
        "SELECT COUNT(name), country\n",
        "FROM cities\n",
        "GROUP BY country\n",
        "ORDER BY COUNT(name) DESC;"
      ]
    },
    {
      "cell_type": "code",
      "execution_count": null,
      "id": "G5F2EwtPzgmq",
      "metadata": {
        "id": "G5F2EwtPzgmq",
        "tags": [
          "hide-output"
        ]
      },
      "outputs": [],
      "source": [
        "%%sql\n",
        "\n",
        "SELECT countries.\"Country\", COUNT(name)\n",
        "FROM cities\n",
        "LEFT JOIN countries ON cities.country = countries.\"Alpha3_code\"\n",
        "GROUP BY countries.\"Country\"\n",
        "ORDER BY COUNT(name) DESC;"
      ]
    },
    {
      "cell_type": "markdown",
      "id": "UweD9GPlzgmq",
      "metadata": {
        "id": "UweD9GPlzgmq"
      },
      "source": [
        "### Having\n",
        "\n",
        "The `HAVING` clause was added to SQL because the `WHERE` keyword could not be used with aggregate functions.\n",
        "\n",
        "For example, to select countries with more than 40 cities:"
      ]
    },
    {
      "cell_type": "code",
      "execution_count": null,
      "id": "r2ihhY43zgmq",
      "metadata": {
        "id": "r2ihhY43zgmq"
      },
      "outputs": [],
      "source": [
        "%%sql\n",
        "\n",
        "SELECT COUNT(name), country\n",
        "FROM cities\n",
        "GROUP BY country\n",
        "HAVING COUNT(name) > 40\n",
        "ORDER BY COUNT(name) DESC;"
      ]
    },
    {
      "cell_type": "code",
      "execution_count": null,
      "id": "nhcFpGMLzgmq",
      "metadata": {
        "id": "nhcFpGMLzgmq"
      },
      "outputs": [],
      "source": [
        "%%sql\n",
        "\n",
        "SELECT countries.\"Country\", COUNT(name)\n",
        "FROM cities\n",
        "LEFT JOIN countries ON cities.country = countries.\"Alpha3_code\"\n",
        "GROUP BY countries.\"Country\"\n",
        "HAVING COUNT(name) > 40\n",
        "ORDER BY COUNT(name) DESC;"
      ]
    },
    {
      "cell_type": "markdown",
      "id": "nbTPhu33zgmq",
      "metadata": {
        "id": "nbTPhu33zgmq"
      },
      "source": [
        "## Conditional statements\n",
        "\n",
        "The `CASE` statement goes through conditions and returns a value when the first condition is met (like an `IF-THEN-ELSE` statement). So, once a condition is true, it will stop reading and return the result. If no conditions are true, it returns the value in the `ELSE` clause.\n",
        "\n",
        "For example, to divide cities into 3 groups based on their population:"
      ]
    },
    {
      "cell_type": "code",
      "execution_count": null,
      "id": "C00-hUIgzgmq",
      "metadata": {
        "id": "C00-hUIgzgmq",
        "scrolled": false,
        "tags": [
          "hide-output"
        ]
      },
      "outputs": [],
      "source": [
        "%%sql\n",
        "\n",
        "SELECT name, population,\n",
        "CASE\n",
        "    WHEN population > 10000000 THEN 'Megacity'\n",
        "    WHEN population > 1000000 THEN 'Large city'\n",
        "    ELSE 'Small city'\n",
        "END AS category\n",
        "FROM cities;"
      ]
    },
    {
      "cell_type": "markdown",
      "id": "Fiq2dzdIzgmq",
      "metadata": {
        "id": "Fiq2dzdIzgmq"
      },
      "source": [
        "## Saving results\n",
        "\n",
        "You can save the results of a query to a new table using the `CREATE TABLE AS` statement."
      ]
    },
    {
      "cell_type": "code",
      "execution_count": null,
      "id": "n67LYANtzgmq",
      "metadata": {
        "id": "n67LYANtzgmq"
      },
      "outputs": [],
      "source": [
        "%%sql\n",
        "\n",
        "CREATE TABLE cities2 AS SELECT * FROM cities;"
      ]
    },
    {
      "cell_type": "markdown",
      "id": "VcGuOBgQzgmq",
      "metadata": {
        "id": "VcGuOBgQzgmq"
      },
      "source": [
        "Show the new table content."
      ]
    },
    {
      "cell_type": "code",
      "execution_count": null,
      "id": "5v0r0Tzdzgmq",
      "metadata": {
        "id": "5v0r0Tzdzgmq"
      },
      "outputs": [],
      "source": [
        "%%sql\n",
        "\n",
        "FROM cities2;"
      ]
    },
    {
      "cell_type": "markdown",
      "id": "qOm-c07tzgmq",
      "metadata": {
        "id": "qOm-c07tzgmq"
      },
      "source": [
        "Use the `DROP TABLE` statement to delete the table."
      ]
    },
    {
      "cell_type": "code",
      "execution_count": null,
      "id": "9CBTfbQqzgmq",
      "metadata": {
        "id": "9CBTfbQqzgmq"
      },
      "outputs": [],
      "source": [
        "%%sql\n",
        "\n",
        "DROP TABLE IF EXISTS cities_usa;\n",
        "CREATE TABLE cities_usa AS (SELECT * FROM cities WHERE country = 'USA');"
      ]
    },
    {
      "cell_type": "code",
      "execution_count": null,
      "id": "nlqOdvXCzgmr",
      "metadata": {
        "id": "nlqOdvXCzgmr"
      },
      "outputs": [],
      "source": [
        "%%sql\n",
        "\n",
        "FROM cities_usa;"
      ]
    },
    {
      "cell_type": "markdown",
      "id": "9QCxhDnGzgmr",
      "metadata": {
        "id": "9QCxhDnGzgmr"
      },
      "source": [
        "Use the `INSERT INTO` statement to insert rows into a table."
      ]
    },
    {
      "cell_type": "code",
      "execution_count": null,
      "id": "EXvXe_mDzgmr",
      "metadata": {
        "id": "EXvXe_mDzgmr"
      },
      "outputs": [],
      "source": [
        "%%sql\n",
        "\n",
        "INSERT INTO cities_usa (SELECT * FROM cities WHERE country = 'CAN');"
      ]
    },
    {
      "cell_type": "markdown",
      "id": "LEjF-3rvzgmr",
      "metadata": {
        "id": "LEjF-3rvzgmr"
      },
      "source": [
        "## SQL Comments\n",
        "\n",
        "Comments are used to explain sections of SQL statements, or to prevent execution of SQL statements.\n",
        "\n",
        "\n",
        "### Single line comMents\n",
        "\n",
        "Single line comments start with --.\n",
        "\n",
        "Any text between -- and the end of the line will be ignored (will not be executed).\n",
        "\n",
        "The following example uses a single-line comment as an explanation:"
      ]
    },
    {
      "cell_type": "code",
      "execution_count": null,
      "id": "Dq06sBDAzgmr",
      "metadata": {
        "id": "Dq06sBDAzgmr"
      },
      "outputs": [],
      "source": [
        "%%sql\n",
        "\n",
        "SELECT * FROM cities LIMIT 10 -- This is a comment;"
      ]
    },
    {
      "cell_type": "markdown",
      "id": "HWDQ0icUzgmr",
      "metadata": {
        "id": "HWDQ0icUzgmr"
      },
      "source": [
        "### Multi-line comments\n",
        "\n",
        "Multi-line comments start with `/*` and end with `*/`.\n",
        "\n",
        "Any text between `/*` and `*/` will be ignored.\n",
        "\n",
        "The following example uses a multi-line comment as an explanation:"
      ]
    },
    {
      "cell_type": "code",
      "execution_count": null,
      "id": "1XITaZOkzgmr",
      "metadata": {
        "id": "1XITaZOkzgmr"
      },
      "outputs": [],
      "source": [
        "%%sql\n",
        "\n",
        "SELECT COUNT(name), country\n",
        "FROM cities\n",
        "/*\n",
        " * Adding Group by\n",
        " * Adding Order by\n",
        " */\n",
        "GROUP BY country\n",
        "ORDER BY COUNT(name) DESC\n",
        "LIMIT 10;"
      ]
    }
  ],
  "metadata": {
    "celltoolbar": "Tags",
    "colab": {
      "provenance": [],
      "toc_visible": true
    },
    "hide_input": false,
    "kernelspec": {
      "display_name": "Python 3",
      "language": "python",
      "name": "python3"
    },
    "language_info": {
      "codemirror_mode": {
        "name": "ipython",
        "version": 3
      },
      "file_extension": ".py",
      "mimetype": "text/x-python",
      "name": "python",
      "nbconvert_exporter": "python",
      "pygments_lexer": "ipython3",
      "version": "0.0.0"
    },
    "toc": {
      "base_numbering": 1,
      "nav_menu": {},
      "number_sections": true,
      "sideBar": true,
      "skip_h1_title": false,
      "title_cell": "Table of Contents",
      "title_sidebar": "Contents",
      "toc_cell": false,
      "toc_position": {},
      "toc_section_display": true,
      "toc_window_display": false
    },
    "varInspector": {
      "cols": {
        "lenName": 16,
        "lenType": 16,
        "lenVar": 40
      },
      "kernels_config": {
        "python": {
          "delete_cmd_postfix": "",
          "delete_cmd_prefix": "del ",
          "library": "var_list.py",
          "varRefreshCmd": "print(var_dic_list())"
        },
        "r": {
          "delete_cmd_postfix": ") ",
          "delete_cmd_prefix": "rm(",
          "library": "var_list.r",
          "varRefreshCmd": "cat(var_dic_list()) "
        }
      },
      "types_to_exclude": [
        "module",
        "function",
        "builtin_function_or_method",
        "instance",
        "_Feature"
      ],
      "window_display": false
    }
  },
  "nbformat": 4,
  "nbformat_minor": 5
}
