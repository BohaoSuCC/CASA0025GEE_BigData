{
  "cells": [
    {
      "cell_type": "markdown",
      "metadata": {
        "id": "hZ5Qj-1l9P8V"
      },
      "source": [
        "# Data Import\n",
        "\n",
        "## Introduction\n",
        "\n",
        "This notebook shows how to import data into a DuckDB database. It uses the `duckdb` Python package to connect to a DuckDB database and import data from various formats, including CSV, JSON, DataFrame, parquet, GeoJSON, Shapefile, GeoParquet, and more.\n",
        "\n",
        "## Datasets\n",
        "\n",
        "The following datasets are used in this notebook. You don't need to download them, they can be accessed directly from the notebook.\n",
        "\n",
        "- [cities.csv](https://open.gishub.org/data/duckdb/cities.csv)\n",
        "- [countries.csv](https://open.gishub.org/data/duckdb/countries.csv)\n",
        "\n",
        "## Installation\n",
        "\n",
        "Uncomment the following cell to install the required packages if needed."
      ]
    },
    {
      "cell_type": "code",
      "execution_count": 1,
      "metadata": {
        "id": "4Fqwz1ST9P8X"
      },
      "outputs": [],
      "source": [
        "# %pip install duckdb leafmap"
      ]
    },
    {
      "cell_type": "markdown",
      "metadata": {
        "id": "iFIjRC-O9P8Y"
      },
      "source": [
        "## Library Import"
      ]
    },
    {
      "cell_type": "code",
      "execution_count": 1,
      "metadata": {
        "id": "FkwLb9YP9P8Z"
      },
      "outputs": [],
      "source": [
        "import duckdb\n",
        "import leafmap\n",
        "import pandas as pd\n",
        "import os"
      ]
    },
    {
      "cell_type": "markdown",
      "metadata": {
        "id": "Y0TqNH_t9P8Z"
      },
      "source": [
        "## Installing Extensions\n",
        "\n",
        "DuckDB’s Python API provides functions for installing and loading extensions, which perform the equivalent operations to running the `INSTALL` and `LOAD` SQL commands, respectively. An example that installs and loads the [httpfs extension](https://duckdb.org/docs/extensions/httpfs) looks like follows:"
      ]
    },
    {
      "cell_type": "code",
      "execution_count": 2,
      "metadata": {
        "id": "vmZmJ2Pe9P8Z"
      },
      "outputs": [],
      "source": [
        "con = duckdb.connect()"
      ]
    },
    {
      "cell_type": "code",
      "execution_count": 3,
      "metadata": {
        "id": "7eQUN_v79P8Z"
      },
      "outputs": [],
      "source": [
        "con.install_extension(\"httpfs\")\n",
        "con.load_extension(\"httpfs\")"
      ]
    },
    {
      "cell_type": "code",
      "execution_count": 4,
      "metadata": {
        "id": "f5FmW4x29P8a"
      },
      "outputs": [],
      "source": [
        "con.install_extension(\"spatial\")\n",
        "con.load_extension(\"spatial\")"
      ]
    },
    {
      "cell_type": "markdown",
      "metadata": {
        "id": "3wjOnKrz9P8a"
      },
      "source": [
        "## Downloading Sample Data"
      ]
    },
    {
      "cell_type": "code",
      "execution_count": 5,
      "metadata": {
        "id": "FRDZHgVC9P8a"
      },
      "outputs": [
        {
          "name": "stdout",
          "output_type": "stream",
          "text": [
            "data\\cities.zip already exists. Skip downloading. Set overwrite=True to overwrite.\n"
          ]
        },
        {
          "data": {
            "text/plain": [
              "'c:\\\\Users\\\\SBH\\\\OneDrive - University College London\\\\#CASA0025__BuildingSpatialApplicationsWithBigData\\\\CASA0025GEE_BigData\\\\Week2\\\\data\\\\cities.zip'"
            ]
          },
          "execution_count": 5,
          "metadata": {},
          "output_type": "execute_result"
        }
      ],
      "source": [
        "url = \"https://open.gishub.org/data/duckdb/cities.zip\"\n",
        "leafmap.download_file(url, os.path.join(\"data\",\"cities.zip\"),unzip=True)"
      ]
    },
    {
      "cell_type": "markdown",
      "metadata": {
        "id": "n1-0Mhjx9P8a"
      },
      "source": [
        "## CSV Files\n",
        "\n",
        "CSV files can be read using the `read_csv` function, called either from within Python or directly from within SQL. By default, the `read_csv` function attempts to auto-detect the CSV settings by sampling from the provided file."
      ]
    },
    {
      "cell_type": "code",
      "execution_count": 6,
      "metadata": {
        "id": "c_H0jD2G9P8a"
      },
      "outputs": [
        {
          "data": {
            "text/plain": [
              "┌───────┬──────────────────┬─────────┬───────────┬───────────┬────────────┐\n",
              "│  id   │       name       │ country │ latitude  │ longitude │ population │\n",
              "│ int64 │     varchar      │ varchar │  double   │  double   │   int64    │\n",
              "├───────┼──────────────────┼─────────┼───────────┼───────────┼────────────┤\n",
              "│     1 │ Bombo            │ UGA     │    0.5833 │   32.5333 │      75000 │\n",
              "│     2 │ Fort Portal      │ UGA     │     0.671 │    30.275 │      42670 │\n",
              "│     3 │ Potenza          │ ITA     │    40.642 │    15.799 │      69060 │\n",
              "│     4 │ Campobasso       │ ITA     │    41.563 │    14.656 │      50762 │\n",
              "│     5 │ Aosta            │ ITA     │    45.737 │     7.315 │      34062 │\n",
              "│     6 │ Mariehamn        │ ALD     │    60.097 │    19.949 │      10682 │\n",
              "│     7 │ Ramallah         │ PSE     │  31.90294 │  35.20621 │      24599 │\n",
              "│     8 │ Vatican City     │ VAT     │  41.90001 │  12.44781 │        832 │\n",
              "│     9 │ Poitier          │ FRA     │  46.58329 │   0.33328 │      85960 │\n",
              "│    10 │ Clermont-Ferrand │ FRA     │  45.77998 │   3.08001 │     233050 │\n",
              "│     · │   ·              │  ·      │      ·    │      ·    │        ·   │\n",
              "│     · │   ·              │  ·      │      ·    │      ·    │        ·   │\n",
              "│     · │   ·              │  ·      │      ·    │      ·    │        ·   │\n",
              "│  1240 │ Tokyo            │ JPN     │  35.68502 │ 139.75141 │   35676000 │\n",
              "│  1241 │ Mumbai           │ IND     │  19.01699 │  72.85699 │   18978000 │\n",
              "│  1242 │ Paris            │ FRA     │  48.86669 │   2.33334 │    9904000 │\n",
              "│  1243 │ Santiago         │ CHL     │ -33.45001 │ -70.66704 │    5720000 │\n",
              "│  1244 │ Kolkata          │ IND     │  22.49497 │  88.32468 │   14787000 │\n",
              "│  1245 │ Rio de Janeiro   │ BRA     │ -22.92502 │ -43.22502 │   11748000 │\n",
              "│  1246 │ Sao Paulo        │ BRA     │ -23.55868 │ -46.62502 │   18845000 │\n",
              "│  1247 │ Sydney           │ AUS     │ -33.92001 │ 151.18518 │    4630000 │\n",
              "│  1248 │ Singapore        │ SGP     │   1.29303 │ 103.85582 │    5183700 │\n",
              "│  1249 │ Hong Kong        │ CHN     │  22.30498 │ 114.18501 │    7206000 │\n",
              "├───────┴──────────────────┴─────────┴───────────┴───────────┴────────────┤\n",
              "│ 1249 rows (20 shown)                                          6 columns │\n",
              "└─────────────────────────────────────────────────────────────────────────┘"
            ]
          },
          "execution_count": 6,
          "metadata": {},
          "output_type": "execute_result"
        }
      ],
      "source": [
        "# read from a file using fully auto-detected settings\n",
        "con.read_csv(os.path.join(\"data\",\"cities.csv\"))"
      ]
    },
    {
      "cell_type": "code",
      "execution_count": 7,
      "metadata": {
        "id": "hsAbZxPB9P8b"
      },
      "outputs": [
        {
          "ename": "IOException",
          "evalue": "IO Error: No files found that match the pattern \"cities.csv\"",
          "output_type": "error",
          "traceback": [
            "\u001b[1;31m---------------------------------------------------------------------------\u001b[0m",
            "\u001b[1;31mIOException\u001b[0m                               Traceback (most recent call last)",
            "Cell \u001b[1;32mIn[7], line 2\u001b[0m\n\u001b[0;32m      1\u001b[0m \u001b[38;5;66;03m# specify options on how the CSV is formatted internally\u001b[39;00m\n\u001b[1;32m----> 2\u001b[0m \u001b[43mcon\u001b[49m\u001b[38;5;241;43m.\u001b[39;49m\u001b[43mread_csv\u001b[49m\u001b[43m(\u001b[49m\u001b[38;5;124;43m'\u001b[39;49m\u001b[38;5;124;43mcities.csv\u001b[39;49m\u001b[38;5;124;43m'\u001b[39;49m\u001b[43m,\u001b[49m\u001b[43m \u001b[49m\u001b[43mheader\u001b[49m\u001b[38;5;241;43m=\u001b[39;49m\u001b[38;5;28;43;01mTrue\u001b[39;49;00m\u001b[43m,\u001b[49m\u001b[43m \u001b[49m\u001b[43msep\u001b[49m\u001b[38;5;241;43m=\u001b[39;49m\u001b[38;5;124;43m'\u001b[39;49m\u001b[38;5;124;43m,\u001b[39;49m\u001b[38;5;124;43m'\u001b[39;49m\u001b[43m)\u001b[49m\n",
            "\u001b[1;31mIOException\u001b[0m: IO Error: No files found that match the pattern \"cities.csv\""
          ]
        }
      ],
      "source": [
        "# specify options on how the CSV is formatted internally\n",
        "con.read_csv('cities.csv', header=True, sep=',')"
      ]
    },
    {
      "cell_type": "code",
      "execution_count": 8,
      "metadata": {
        "id": "26600-BY9P8b"
      },
      "outputs": [
        {
          "ename": "IOException",
          "evalue": "IO Error: No files found that match the pattern \"cities.csv\"",
          "output_type": "error",
          "traceback": [
            "\u001b[1;31m---------------------------------------------------------------------------\u001b[0m",
            "\u001b[1;31mIOException\u001b[0m                               Traceback (most recent call last)",
            "Cell \u001b[1;32mIn[8], line 2\u001b[0m\n\u001b[0;32m      1\u001b[0m \u001b[38;5;66;03m# use the (experimental) parallel CSV reader\u001b[39;00m\n\u001b[1;32m----> 2\u001b[0m \u001b[43mcon\u001b[49m\u001b[38;5;241;43m.\u001b[39;49m\u001b[43mread_csv\u001b[49m\u001b[43m(\u001b[49m\u001b[38;5;124;43m'\u001b[39;49m\u001b[38;5;124;43mcities.csv\u001b[39;49m\u001b[38;5;124;43m'\u001b[39;49m\u001b[43m,\u001b[49m\u001b[43m \u001b[49m\u001b[43mparallel\u001b[49m\u001b[38;5;241;43m=\u001b[39;49m\u001b[38;5;28;43;01mTrue\u001b[39;49;00m\u001b[43m)\u001b[49m\n",
            "\u001b[1;31mIOException\u001b[0m: IO Error: No files found that match the pattern \"cities.csv\""
          ]
        }
      ],
      "source": [
        "# use the (experimental) parallel CSV reader\n",
        "con.read_csv('cities.csv', parallel=True)"
      ]
    },
    {
      "cell_type": "code",
      "execution_count": 9,
      "metadata": {
        "id": "QG74RPEb9P8b"
      },
      "outputs": [
        {
          "ename": "IOException",
          "evalue": "IO Error: No files found that match the pattern \"cities.csv\"",
          "output_type": "error",
          "traceback": [
            "\u001b[1;31m---------------------------------------------------------------------------\u001b[0m",
            "\u001b[1;31mIOException\u001b[0m                               Traceback (most recent call last)",
            "Cell \u001b[1;32mIn[9], line 2\u001b[0m\n\u001b[0;32m      1\u001b[0m \u001b[38;5;66;03m# directly read a CSV file from within SQL\u001b[39;00m\n\u001b[1;32m----> 2\u001b[0m \u001b[43mcon\u001b[49m\u001b[38;5;241;43m.\u001b[39;49m\u001b[43msql\u001b[49m\u001b[43m(\u001b[49m\u001b[38;5;124;43m\"\u001b[39;49m\u001b[38;5;124;43mSELECT * FROM \u001b[39;49m\u001b[38;5;124;43m'\u001b[39;49m\u001b[38;5;124;43mcities.csv\u001b[39;49m\u001b[38;5;124;43m'\u001b[39;49m\u001b[38;5;124;43m\"\u001b[39;49m\u001b[43m)\u001b[49m\n",
            "\u001b[1;31mIOException\u001b[0m: IO Error: No files found that match the pattern \"cities.csv\""
          ]
        }
      ],
      "source": [
        "# directly read a CSV file from within SQL\n",
        "con.sql(\"SELECT * FROM 'cities.csv'\")"
      ]
    },
    {
      "cell_type": "code",
      "execution_count": 10,
      "metadata": {
        "id": "YnxIeM6y9P8b"
      },
      "outputs": [
        {
          "ename": "IOException",
          "evalue": "IO Error: No files found that match the pattern \"cities.csv\"",
          "output_type": "error",
          "traceback": [
            "\u001b[1;31m---------------------------------------------------------------------------\u001b[0m",
            "\u001b[1;31mIOException\u001b[0m                               Traceback (most recent call last)",
            "Cell \u001b[1;32mIn[10], line 2\u001b[0m\n\u001b[0;32m      1\u001b[0m \u001b[38;5;66;03m# call read_csv from within SQL\u001b[39;00m\n\u001b[1;32m----> 2\u001b[0m \u001b[43mcon\u001b[49m\u001b[38;5;241;43m.\u001b[39;49m\u001b[43msql\u001b[49m\u001b[43m(\u001b[49m\u001b[38;5;124;43m\"\u001b[39;49m\u001b[38;5;124;43mSELECT * FROM read_csv_auto(\u001b[39;49m\u001b[38;5;124;43m'\u001b[39;49m\u001b[38;5;124;43mcities.csv\u001b[39;49m\u001b[38;5;124;43m'\u001b[39;49m\u001b[38;5;124;43m)\u001b[39;49m\u001b[38;5;124;43m\"\u001b[39;49m\u001b[43m)\u001b[49m\n",
            "\u001b[1;31mIOException\u001b[0m: IO Error: No files found that match the pattern \"cities.csv\""
          ]
        }
      ],
      "source": [
        "# call read_csv from within SQL\n",
        "con.sql(\"SELECT * FROM read_csv_auto('cities.csv')\")"
      ]
    },
    {
      "cell_type": "markdown",
      "metadata": {
        "id": "GkV_oVT29P8b"
      },
      "source": [
        "## JSON Files\n",
        "\n",
        "JSON files can be read using the `read_json` function, called either from within Python or directly from within SQL. By default, the `read_json` function will automatically detect if a file contains newline-delimited JSON or regular JSON, and will detect the schema of the objects stored within the JSON file."
      ]
    },
    {
      "cell_type": "code",
      "execution_count": 11,
      "metadata": {
        "id": "CNDoei3V9P8b"
      },
      "outputs": [
        {
          "ename": "IOException",
          "evalue": "IO Error: No files found that match the pattern \"cities.json\"",
          "output_type": "error",
          "traceback": [
            "\u001b[1;31m---------------------------------------------------------------------------\u001b[0m",
            "\u001b[1;31mIOException\u001b[0m                               Traceback (most recent call last)",
            "Cell \u001b[1;32mIn[11], line 2\u001b[0m\n\u001b[0;32m      1\u001b[0m \u001b[38;5;66;03m# read from a single JSON file\u001b[39;00m\n\u001b[1;32m----> 2\u001b[0m \u001b[43mcon\u001b[49m\u001b[38;5;241;43m.\u001b[39;49m\u001b[43mread_json\u001b[49m\u001b[43m(\u001b[49m\u001b[38;5;124;43m'\u001b[39;49m\u001b[38;5;124;43mcities.json\u001b[39;49m\u001b[38;5;124;43m'\u001b[39;49m\u001b[43m)\u001b[49m\n",
            "\u001b[1;31mIOException\u001b[0m: IO Error: No files found that match the pattern \"cities.json\""
          ]
        }
      ],
      "source": [
        "# read from a single JSON file\n",
        "con.read_json('cities.json')"
      ]
    },
    {
      "cell_type": "code",
      "execution_count": 12,
      "metadata": {
        "id": "zk5Nqu_U9P8b"
      },
      "outputs": [
        {
          "ename": "IOException",
          "evalue": "IO Error: No files found that match the pattern \"cities.json\"",
          "output_type": "error",
          "traceback": [
            "\u001b[1;31m---------------------------------------------------------------------------\u001b[0m",
            "\u001b[1;31mIOException\u001b[0m                               Traceback (most recent call last)",
            "Cell \u001b[1;32mIn[12], line 2\u001b[0m\n\u001b[0;32m      1\u001b[0m \u001b[38;5;66;03m# directly read a JSON file from within SQL\u001b[39;00m\n\u001b[1;32m----> 2\u001b[0m \u001b[43mcon\u001b[49m\u001b[38;5;241;43m.\u001b[39;49m\u001b[43msql\u001b[49m\u001b[43m(\u001b[49m\u001b[38;5;124;43m\"\u001b[39;49m\u001b[38;5;124;43mSELECT * FROM \u001b[39;49m\u001b[38;5;124;43m'\u001b[39;49m\u001b[38;5;124;43mcities.json\u001b[39;49m\u001b[38;5;124;43m'\u001b[39;49m\u001b[38;5;124;43m\"\u001b[39;49m\u001b[43m)\u001b[49m\n",
            "\u001b[1;31mIOException\u001b[0m: IO Error: No files found that match the pattern \"cities.json\""
          ]
        }
      ],
      "source": [
        "# directly read a JSON file from within SQL\n",
        "con.sql(\"SELECT * FROM 'cities.json'\")"
      ]
    },
    {
      "cell_type": "code",
      "execution_count": 13,
      "metadata": {
        "id": "nsDK0Gp79P8b"
      },
      "outputs": [
        {
          "ename": "IOException",
          "evalue": "IO Error: No files found that match the pattern \"cities.json\"",
          "output_type": "error",
          "traceback": [
            "\u001b[1;31m---------------------------------------------------------------------------\u001b[0m",
            "\u001b[1;31mIOException\u001b[0m                               Traceback (most recent call last)",
            "Cell \u001b[1;32mIn[13], line 2\u001b[0m\n\u001b[0;32m      1\u001b[0m \u001b[38;5;66;03m# call read_json from within SQL\u001b[39;00m\n\u001b[1;32m----> 2\u001b[0m \u001b[43mcon\u001b[49m\u001b[38;5;241;43m.\u001b[39;49m\u001b[43msql\u001b[49m\u001b[43m(\u001b[49m\u001b[38;5;124;43m\"\u001b[39;49m\u001b[38;5;124;43mSELECT * FROM read_json_auto(\u001b[39;49m\u001b[38;5;124;43m'\u001b[39;49m\u001b[38;5;124;43mcities.json\u001b[39;49m\u001b[38;5;124;43m'\u001b[39;49m\u001b[38;5;124;43m)\u001b[39;49m\u001b[38;5;124;43m\"\u001b[39;49m\u001b[43m)\u001b[49m\n",
            "\u001b[1;31mIOException\u001b[0m: IO Error: No files found that match the pattern \"cities.json\""
          ]
        }
      ],
      "source": [
        "# call read_json from within SQL\n",
        "con.sql(\"SELECT * FROM read_json_auto('cities.json')\")"
      ]
    },
    {
      "cell_type": "markdown",
      "metadata": {
        "id": "6k8gRhIj9P8b"
      },
      "source": [
        "## DataFrames\n",
        "\n",
        "DuckDB is automatically able to query a Pandas DataFrame."
      ]
    },
    {
      "cell_type": "code",
      "execution_count": 14,
      "metadata": {
        "id": "D1L-U2wT9P8b"
      },
      "outputs": [
        {
          "ename": "FileNotFoundError",
          "evalue": "[Errno 2] No such file or directory: 'cities.csv'",
          "output_type": "error",
          "traceback": [
            "\u001b[1;31m---------------------------------------------------------------------------\u001b[0m",
            "\u001b[1;31mFileNotFoundError\u001b[0m                         Traceback (most recent call last)",
            "Cell \u001b[1;32mIn[14], line 1\u001b[0m\n\u001b[1;32m----> 1\u001b[0m df \u001b[38;5;241m=\u001b[39m \u001b[43mpd\u001b[49m\u001b[38;5;241;43m.\u001b[39;49m\u001b[43mread_csv\u001b[49m\u001b[43m(\u001b[49m\u001b[38;5;124;43m'\u001b[39;49m\u001b[38;5;124;43mcities.csv\u001b[39;49m\u001b[38;5;124;43m'\u001b[39;49m\u001b[43m)\u001b[49m\n\u001b[0;32m      2\u001b[0m df\n",
            "File \u001b[1;32mc:\\Users\\SBH\\anaconda3\\Lib\\site-packages\\pandas\\io\\parsers\\readers.py:912\u001b[0m, in \u001b[0;36mread_csv\u001b[1;34m(filepath_or_buffer, sep, delimiter, header, names, index_col, usecols, dtype, engine, converters, true_values, false_values, skipinitialspace, skiprows, skipfooter, nrows, na_values, keep_default_na, na_filter, verbose, skip_blank_lines, parse_dates, infer_datetime_format, keep_date_col, date_parser, date_format, dayfirst, cache_dates, iterator, chunksize, compression, thousands, decimal, lineterminator, quotechar, quoting, doublequote, escapechar, comment, encoding, encoding_errors, dialect, on_bad_lines, delim_whitespace, low_memory, memory_map, float_precision, storage_options, dtype_backend)\u001b[0m\n\u001b[0;32m    899\u001b[0m kwds_defaults \u001b[38;5;241m=\u001b[39m _refine_defaults_read(\n\u001b[0;32m    900\u001b[0m     dialect,\n\u001b[0;32m    901\u001b[0m     delimiter,\n\u001b[1;32m   (...)\u001b[0m\n\u001b[0;32m    908\u001b[0m     dtype_backend\u001b[38;5;241m=\u001b[39mdtype_backend,\n\u001b[0;32m    909\u001b[0m )\n\u001b[0;32m    910\u001b[0m kwds\u001b[38;5;241m.\u001b[39mupdate(kwds_defaults)\n\u001b[1;32m--> 912\u001b[0m \u001b[38;5;28;01mreturn\u001b[39;00m \u001b[43m_read\u001b[49m\u001b[43m(\u001b[49m\u001b[43mfilepath_or_buffer\u001b[49m\u001b[43m,\u001b[49m\u001b[43m \u001b[49m\u001b[43mkwds\u001b[49m\u001b[43m)\u001b[49m\n",
            "File \u001b[1;32mc:\\Users\\SBH\\anaconda3\\Lib\\site-packages\\pandas\\io\\parsers\\readers.py:577\u001b[0m, in \u001b[0;36m_read\u001b[1;34m(filepath_or_buffer, kwds)\u001b[0m\n\u001b[0;32m    574\u001b[0m _validate_names(kwds\u001b[38;5;241m.\u001b[39mget(\u001b[38;5;124m\"\u001b[39m\u001b[38;5;124mnames\u001b[39m\u001b[38;5;124m\"\u001b[39m, \u001b[38;5;28;01mNone\u001b[39;00m))\n\u001b[0;32m    576\u001b[0m \u001b[38;5;66;03m# Create the parser.\u001b[39;00m\n\u001b[1;32m--> 577\u001b[0m parser \u001b[38;5;241m=\u001b[39m \u001b[43mTextFileReader\u001b[49m\u001b[43m(\u001b[49m\u001b[43mfilepath_or_buffer\u001b[49m\u001b[43m,\u001b[49m\u001b[43m \u001b[49m\u001b[38;5;241;43m*\u001b[39;49m\u001b[38;5;241;43m*\u001b[39;49m\u001b[43mkwds\u001b[49m\u001b[43m)\u001b[49m\n\u001b[0;32m    579\u001b[0m \u001b[38;5;28;01mif\u001b[39;00m chunksize \u001b[38;5;129;01mor\u001b[39;00m iterator:\n\u001b[0;32m    580\u001b[0m     \u001b[38;5;28;01mreturn\u001b[39;00m parser\n",
            "File \u001b[1;32mc:\\Users\\SBH\\anaconda3\\Lib\\site-packages\\pandas\\io\\parsers\\readers.py:1407\u001b[0m, in \u001b[0;36mTextFileReader.__init__\u001b[1;34m(self, f, engine, **kwds)\u001b[0m\n\u001b[0;32m   1404\u001b[0m     \u001b[38;5;28mself\u001b[39m\u001b[38;5;241m.\u001b[39moptions[\u001b[38;5;124m\"\u001b[39m\u001b[38;5;124mhas_index_names\u001b[39m\u001b[38;5;124m\"\u001b[39m] \u001b[38;5;241m=\u001b[39m kwds[\u001b[38;5;124m\"\u001b[39m\u001b[38;5;124mhas_index_names\u001b[39m\u001b[38;5;124m\"\u001b[39m]\n\u001b[0;32m   1406\u001b[0m \u001b[38;5;28mself\u001b[39m\u001b[38;5;241m.\u001b[39mhandles: IOHandles \u001b[38;5;241m|\u001b[39m \u001b[38;5;28;01mNone\u001b[39;00m \u001b[38;5;241m=\u001b[39m \u001b[38;5;28;01mNone\u001b[39;00m\n\u001b[1;32m-> 1407\u001b[0m \u001b[38;5;28mself\u001b[39m\u001b[38;5;241m.\u001b[39m_engine \u001b[38;5;241m=\u001b[39m \u001b[38;5;28;43mself\u001b[39;49m\u001b[38;5;241;43m.\u001b[39;49m\u001b[43m_make_engine\u001b[49m\u001b[43m(\u001b[49m\u001b[43mf\u001b[49m\u001b[43m,\u001b[49m\u001b[43m \u001b[49m\u001b[38;5;28;43mself\u001b[39;49m\u001b[38;5;241;43m.\u001b[39;49m\u001b[43mengine\u001b[49m\u001b[43m)\u001b[49m\n",
            "File \u001b[1;32mc:\\Users\\SBH\\anaconda3\\Lib\\site-packages\\pandas\\io\\parsers\\readers.py:1661\u001b[0m, in \u001b[0;36mTextFileReader._make_engine\u001b[1;34m(self, f, engine)\u001b[0m\n\u001b[0;32m   1659\u001b[0m     \u001b[38;5;28;01mif\u001b[39;00m \u001b[38;5;124m\"\u001b[39m\u001b[38;5;124mb\u001b[39m\u001b[38;5;124m\"\u001b[39m \u001b[38;5;129;01mnot\u001b[39;00m \u001b[38;5;129;01min\u001b[39;00m mode:\n\u001b[0;32m   1660\u001b[0m         mode \u001b[38;5;241m+\u001b[39m\u001b[38;5;241m=\u001b[39m \u001b[38;5;124m\"\u001b[39m\u001b[38;5;124mb\u001b[39m\u001b[38;5;124m\"\u001b[39m\n\u001b[1;32m-> 1661\u001b[0m \u001b[38;5;28mself\u001b[39m\u001b[38;5;241m.\u001b[39mhandles \u001b[38;5;241m=\u001b[39m \u001b[43mget_handle\u001b[49m\u001b[43m(\u001b[49m\n\u001b[0;32m   1662\u001b[0m \u001b[43m    \u001b[49m\u001b[43mf\u001b[49m\u001b[43m,\u001b[49m\n\u001b[0;32m   1663\u001b[0m \u001b[43m    \u001b[49m\u001b[43mmode\u001b[49m\u001b[43m,\u001b[49m\n\u001b[0;32m   1664\u001b[0m \u001b[43m    \u001b[49m\u001b[43mencoding\u001b[49m\u001b[38;5;241;43m=\u001b[39;49m\u001b[38;5;28;43mself\u001b[39;49m\u001b[38;5;241;43m.\u001b[39;49m\u001b[43moptions\u001b[49m\u001b[38;5;241;43m.\u001b[39;49m\u001b[43mget\u001b[49m\u001b[43m(\u001b[49m\u001b[38;5;124;43m\"\u001b[39;49m\u001b[38;5;124;43mencoding\u001b[39;49m\u001b[38;5;124;43m\"\u001b[39;49m\u001b[43m,\u001b[49m\u001b[43m \u001b[49m\u001b[38;5;28;43;01mNone\u001b[39;49;00m\u001b[43m)\u001b[49m\u001b[43m,\u001b[49m\n\u001b[0;32m   1665\u001b[0m \u001b[43m    \u001b[49m\u001b[43mcompression\u001b[49m\u001b[38;5;241;43m=\u001b[39;49m\u001b[38;5;28;43mself\u001b[39;49m\u001b[38;5;241;43m.\u001b[39;49m\u001b[43moptions\u001b[49m\u001b[38;5;241;43m.\u001b[39;49m\u001b[43mget\u001b[49m\u001b[43m(\u001b[49m\u001b[38;5;124;43m\"\u001b[39;49m\u001b[38;5;124;43mcompression\u001b[39;49m\u001b[38;5;124;43m\"\u001b[39;49m\u001b[43m,\u001b[49m\u001b[43m \u001b[49m\u001b[38;5;28;43;01mNone\u001b[39;49;00m\u001b[43m)\u001b[49m\u001b[43m,\u001b[49m\n\u001b[0;32m   1666\u001b[0m \u001b[43m    \u001b[49m\u001b[43mmemory_map\u001b[49m\u001b[38;5;241;43m=\u001b[39;49m\u001b[38;5;28;43mself\u001b[39;49m\u001b[38;5;241;43m.\u001b[39;49m\u001b[43moptions\u001b[49m\u001b[38;5;241;43m.\u001b[39;49m\u001b[43mget\u001b[49m\u001b[43m(\u001b[49m\u001b[38;5;124;43m\"\u001b[39;49m\u001b[38;5;124;43mmemory_map\u001b[39;49m\u001b[38;5;124;43m\"\u001b[39;49m\u001b[43m,\u001b[49m\u001b[43m \u001b[49m\u001b[38;5;28;43;01mFalse\u001b[39;49;00m\u001b[43m)\u001b[49m\u001b[43m,\u001b[49m\n\u001b[0;32m   1667\u001b[0m \u001b[43m    \u001b[49m\u001b[43mis_text\u001b[49m\u001b[38;5;241;43m=\u001b[39;49m\u001b[43mis_text\u001b[49m\u001b[43m,\u001b[49m\n\u001b[0;32m   1668\u001b[0m \u001b[43m    \u001b[49m\u001b[43merrors\u001b[49m\u001b[38;5;241;43m=\u001b[39;49m\u001b[38;5;28;43mself\u001b[39;49m\u001b[38;5;241;43m.\u001b[39;49m\u001b[43moptions\u001b[49m\u001b[38;5;241;43m.\u001b[39;49m\u001b[43mget\u001b[49m\u001b[43m(\u001b[49m\u001b[38;5;124;43m\"\u001b[39;49m\u001b[38;5;124;43mencoding_errors\u001b[39;49m\u001b[38;5;124;43m\"\u001b[39;49m\u001b[43m,\u001b[49m\u001b[43m \u001b[49m\u001b[38;5;124;43m\"\u001b[39;49m\u001b[38;5;124;43mstrict\u001b[39;49m\u001b[38;5;124;43m\"\u001b[39;49m\u001b[43m)\u001b[49m\u001b[43m,\u001b[49m\n\u001b[0;32m   1669\u001b[0m \u001b[43m    \u001b[49m\u001b[43mstorage_options\u001b[49m\u001b[38;5;241;43m=\u001b[39;49m\u001b[38;5;28;43mself\u001b[39;49m\u001b[38;5;241;43m.\u001b[39;49m\u001b[43moptions\u001b[49m\u001b[38;5;241;43m.\u001b[39;49m\u001b[43mget\u001b[49m\u001b[43m(\u001b[49m\u001b[38;5;124;43m\"\u001b[39;49m\u001b[38;5;124;43mstorage_options\u001b[39;49m\u001b[38;5;124;43m\"\u001b[39;49m\u001b[43m,\u001b[49m\u001b[43m \u001b[49m\u001b[38;5;28;43;01mNone\u001b[39;49;00m\u001b[43m)\u001b[49m\u001b[43m,\u001b[49m\n\u001b[0;32m   1670\u001b[0m \u001b[43m\u001b[49m\u001b[43m)\u001b[49m\n\u001b[0;32m   1671\u001b[0m \u001b[38;5;28;01massert\u001b[39;00m \u001b[38;5;28mself\u001b[39m\u001b[38;5;241m.\u001b[39mhandles \u001b[38;5;129;01mis\u001b[39;00m \u001b[38;5;129;01mnot\u001b[39;00m \u001b[38;5;28;01mNone\u001b[39;00m\n\u001b[0;32m   1672\u001b[0m f \u001b[38;5;241m=\u001b[39m \u001b[38;5;28mself\u001b[39m\u001b[38;5;241m.\u001b[39mhandles\u001b[38;5;241m.\u001b[39mhandle\n",
            "File \u001b[1;32mc:\\Users\\SBH\\anaconda3\\Lib\\site-packages\\pandas\\io\\common.py:859\u001b[0m, in \u001b[0;36mget_handle\u001b[1;34m(path_or_buf, mode, encoding, compression, memory_map, is_text, errors, storage_options)\u001b[0m\n\u001b[0;32m    854\u001b[0m \u001b[38;5;28;01melif\u001b[39;00m \u001b[38;5;28misinstance\u001b[39m(handle, \u001b[38;5;28mstr\u001b[39m):\n\u001b[0;32m    855\u001b[0m     \u001b[38;5;66;03m# Check whether the filename is to be opened in binary mode.\u001b[39;00m\n\u001b[0;32m    856\u001b[0m     \u001b[38;5;66;03m# Binary mode does not support 'encoding' and 'newline'.\u001b[39;00m\n\u001b[0;32m    857\u001b[0m     \u001b[38;5;28;01mif\u001b[39;00m ioargs\u001b[38;5;241m.\u001b[39mencoding \u001b[38;5;129;01mand\u001b[39;00m \u001b[38;5;124m\"\u001b[39m\u001b[38;5;124mb\u001b[39m\u001b[38;5;124m\"\u001b[39m \u001b[38;5;129;01mnot\u001b[39;00m \u001b[38;5;129;01min\u001b[39;00m ioargs\u001b[38;5;241m.\u001b[39mmode:\n\u001b[0;32m    858\u001b[0m         \u001b[38;5;66;03m# Encoding\u001b[39;00m\n\u001b[1;32m--> 859\u001b[0m         handle \u001b[38;5;241m=\u001b[39m \u001b[38;5;28;43mopen\u001b[39;49m\u001b[43m(\u001b[49m\n\u001b[0;32m    860\u001b[0m \u001b[43m            \u001b[49m\u001b[43mhandle\u001b[49m\u001b[43m,\u001b[49m\n\u001b[0;32m    861\u001b[0m \u001b[43m            \u001b[49m\u001b[43mioargs\u001b[49m\u001b[38;5;241;43m.\u001b[39;49m\u001b[43mmode\u001b[49m\u001b[43m,\u001b[49m\n\u001b[0;32m    862\u001b[0m \u001b[43m            \u001b[49m\u001b[43mencoding\u001b[49m\u001b[38;5;241;43m=\u001b[39;49m\u001b[43mioargs\u001b[49m\u001b[38;5;241;43m.\u001b[39;49m\u001b[43mencoding\u001b[49m\u001b[43m,\u001b[49m\n\u001b[0;32m    863\u001b[0m \u001b[43m            \u001b[49m\u001b[43merrors\u001b[49m\u001b[38;5;241;43m=\u001b[39;49m\u001b[43merrors\u001b[49m\u001b[43m,\u001b[49m\n\u001b[0;32m    864\u001b[0m \u001b[43m            \u001b[49m\u001b[43mnewline\u001b[49m\u001b[38;5;241;43m=\u001b[39;49m\u001b[38;5;124;43m\"\u001b[39;49m\u001b[38;5;124;43m\"\u001b[39;49m\u001b[43m,\u001b[49m\n\u001b[0;32m    865\u001b[0m \u001b[43m        \u001b[49m\u001b[43m)\u001b[49m\n\u001b[0;32m    866\u001b[0m     \u001b[38;5;28;01melse\u001b[39;00m:\n\u001b[0;32m    867\u001b[0m         \u001b[38;5;66;03m# Binary mode\u001b[39;00m\n\u001b[0;32m    868\u001b[0m         handle \u001b[38;5;241m=\u001b[39m \u001b[38;5;28mopen\u001b[39m(handle, ioargs\u001b[38;5;241m.\u001b[39mmode)\n",
            "\u001b[1;31mFileNotFoundError\u001b[0m: [Errno 2] No such file or directory: 'cities.csv'"
          ]
        }
      ],
      "source": [
        "df = pd.read_csv('cities.csv')\n",
        "df"
      ]
    },
    {
      "cell_type": "code",
      "execution_count": 15,
      "metadata": {
        "id": "Aj7xcgb79P8b"
      },
      "outputs": [
        {
          "ename": "CatalogException",
          "evalue": "Catalog Error: Table with name df does not exist!\nDid you mean \"pg_am\"?",
          "output_type": "error",
          "traceback": [
            "\u001b[1;31m---------------------------------------------------------------------------\u001b[0m",
            "\u001b[1;31mCatalogException\u001b[0m                          Traceback (most recent call last)",
            "Cell \u001b[1;32mIn[15], line 1\u001b[0m\n\u001b[1;32m----> 1\u001b[0m \u001b[43mcon\u001b[49m\u001b[38;5;241;43m.\u001b[39;49m\u001b[43msql\u001b[49m\u001b[43m(\u001b[49m\u001b[38;5;124;43m'\u001b[39;49m\u001b[38;5;124;43mSELECT * FROM df\u001b[39;49m\u001b[38;5;124;43m'\u001b[39;49m\u001b[43m)\u001b[49m\u001b[38;5;241m.\u001b[39mfetchall()\n",
            "\u001b[1;31mCatalogException\u001b[0m: Catalog Error: Table with name df does not exist!\nDid you mean \"pg_am\"?"
          ]
        }
      ],
      "source": [
        "con.sql('SELECT * FROM df').fetchall()"
      ]
    },
    {
      "cell_type": "markdown",
      "metadata": {
        "id": "C2Z3Mg959P8b"
      },
      "source": [
        "## Parquet Files\n",
        "\n",
        "Parquet files can be read using the `read_parquet` function, called either from within Python or directly from within SQL."
      ]
    },
    {
      "cell_type": "code",
      "execution_count": null,
      "metadata": {
        "id": "Y8Bi7zaW9P8b"
      },
      "outputs": [
        {
          "data": {
            "text/plain": [
              "┌─────────┬───────────────────────────────────────────┬────────┬───────────┬───────────┬──────────────────┬────────────┐\n",
              "│ country │                 geometry                  │   id   │ latitude  │ longitude │       name       │ population │\n",
              "│ varchar │                   blob                    │ double │  double   │  double   │     varchar      │   double   │\n",
              "├─────────┼───────────────────────────────────────────┼────────┼───────────┼───────────┼──────────────────┼────────────┤\n",
              "│ UGA     │ \\x01\\x01\\x00\\x00\\x00xz\\xA5,CD@@\\xB57\\xF…  │    1.0 │    0.5833 │   32.5333 │ Bombo            │    75000.0 │\n",
              "│ UGA     │ \\x01\\x01\\x00\\x00\\x00fffffF>@F\\xB6\\xF3\\x…  │    2.0 │     0.671 │    30.275 │ Fort Portal      │    42670.0 │\n",
              "│ ITA     │ \\x01\\x01\\x00\\x00\\x00\\x0C\\x02+\\x87\\x16\\x…  │    3.0 │    40.642 │    15.799 │ Potenza          │    69060.0 │\n",
              "│ ITA     │ \\x01\\x01\\x00\\x00\\x00\\x1DZd;\\xDFO-@\\xF2\\…  │    4.0 │    41.563 │    14.656 │ Campobasso       │    50762.0 │\n",
              "│ ITA     │ \\x01\\x01\\x00\\x00\\x00\\xC3\\xF5(\\x5C\\x8FB\\…  │    5.0 │    45.737 │     7.315 │ Aosta            │    34062.0 │\n",
              "│ ALD     │ \\x01\\x01\\x00\\x00\\x00m\\xE7\\xFB\\xA9\\xF1\\x…  │    6.0 │    60.097 │    19.949 │ Mariehamn        │    10682.0 │\n",
              "│ PSE     │ \\x01\\x01\\x00\\x00\\x00\\xD8\\x0D\\xDB\\x16e\\x…  │    7.0 │  31.90294 │  35.20621 │ Ramallah         │    24599.0 │\n",
              "│ VAT     │ \\x01\\x01\\x00\\x00\\x00\\xBE\\xA41ZG\\xE5(@W\\…  │    8.0 │  41.90001 │  12.44781 │ Vatican City     │      832.0 │\n",
              "│ FRA     │ \\x01\\x01\\x00\\x00\\x00\\xDCK\\x1A\\xA3uT\\xD5…  │    9.0 │  46.58329 │   0.33328 │ Poitier          │    85960.0 │\n",
              "│ FRA     │ \\x01\\x01\\x00\\x00\\x00\\xDD\\xD2jH\\xDC\\xA3\\…  │   10.0 │  45.77998 │   3.08001 │ Clermont-Ferrand │   233050.0 │\n",
              "│  ·      │                     ·                     │     ·  │      ·    │      ·    │   ·              │       ·    │\n",
              "│  ·      │                     ·                     │     ·  │      ·    │      ·    │   ·              │       ·    │\n",
              "│  ·      │                     ·                     │     ·  │      ·    │      ·    │   ·              │       ·    │\n",
              "│ JPN     │ \\x01\\x01\\x00\\x00\\x00e\\xFC\\xFB\\x8C\\x0Bxa…  │ 1240.0 │  35.68502 │ 139.75141 │ Tokyo            │ 35676000.0 │\n",
              "│ IND     │ \\x01\\x01\\x00\\x00\\x00\\xF0\\xBF\\x95\\xEC\\xD…  │ 1241.0 │  19.01699 │  72.85699 │ Mumbai           │ 18978000.0 │\n",
              "│ FRA     │ \\x01\\x01\\x00\\x00\\x00\\xD1\\x96s)\\xAE\\xAA\\…  │ 1242.0 │  48.86669 │   2.33334 │ Paris            │  9904000.0 │\n",
              "│ CHL     │ \\x01\\x01\\x00\\x00\\x00\\xEDG\\x8A\\xC8\\xB0\\x…  │ 1243.0 │ -33.45001 │ -70.66704 │ Santiago         │  5720000.0 │\n",
              "│ IND     │ \\x01\\x01\\x00\\x00\\x00\\x94j\\x9F\\x8E\\xC7\\x…  │ 1244.0 │  22.49497 │  88.32468 │ Kolkata          │ 14787000.0 │\n",
              "│ BRA     │ \\x01\\x01\\x00\\x00\\x00\\x14y\\x92t\\xCD\\x9CE…  │ 1245.0 │ -22.92502 │ -43.22502 │ Rio de Janeiro   │ 11748000.0 │\n",
              "│ BRA     │ \\x01\\x01\\x00\\x00\\x00G\\xAC\\xC5\\xA7\\x00PG…  │ 1246.0 │ -23.55868 │ -46.62502 │ Sao Paulo        │ 18845000.0 │\n",
              "│ AUS     │ \\x01\\x01\\x00\\x00\\x00\\xF2{\\x9B\\xFE\\xEC\\x…  │ 1247.0 │ -33.92001 │ 151.18518 │ Sydney           │  4630000.0 │\n",
              "│ SGP     │ \\x01\\x01\\x00\\x00\\x00\\xD0\\xD0?\\xC1\\xC5\\x…  │ 1248.0 │   1.29303 │ 103.85582 │ Singapore        │  5183700.0 │\n",
              "│ CHN     │ \\x01\\x01\\x00\\x00\\x00\\xB6\\xDB.4\\xD7\\x8B\\…  │ 1249.0 │  22.30498 │ 114.18501 │ Hong Kong        │  7206000.0 │\n",
              "├─────────┴───────────────────────────────────────────┴────────┴───────────┴───────────┴──────────────────┴────────────┤\n",
              "│ 1249 rows (20 shown)                                                                                       7 columns │\n",
              "└──────────────────────────────────────────────────────────────────────────────────────────────────────────────────────┘"
            ]
          },
          "execution_count": 17,
          "metadata": {},
          "output_type": "execute_result"
        }
      ],
      "source": [
        "# read from a single Parquet file\n",
        "con.read_parquet('cities.parquet')"
      ]
    },
    {
      "cell_type": "code",
      "execution_count": null,
      "metadata": {
        "id": "aAJFO6WM9P8c"
      },
      "outputs": [
        {
          "data": {
            "text/plain": [
              "┌─────────┬───────────────────────────────────────────┬────────┬───────────┬───────────┬──────────────────┬────────────┐\n",
              "│ country │                 geometry                  │   id   │ latitude  │ longitude │       name       │ population │\n",
              "│ varchar │                   blob                    │ double │  double   │  double   │     varchar      │   double   │\n",
              "├─────────┼───────────────────────────────────────────┼────────┼───────────┼───────────┼──────────────────┼────────────┤\n",
              "│ UGA     │ \\x01\\x01\\x00\\x00\\x00xz\\xA5,CD@@\\xB57\\xF…  │    1.0 │    0.5833 │   32.5333 │ Bombo            │    75000.0 │\n",
              "│ UGA     │ \\x01\\x01\\x00\\x00\\x00fffffF>@F\\xB6\\xF3\\x…  │    2.0 │     0.671 │    30.275 │ Fort Portal      │    42670.0 │\n",
              "│ ITA     │ \\x01\\x01\\x00\\x00\\x00\\x0C\\x02+\\x87\\x16\\x…  │    3.0 │    40.642 │    15.799 │ Potenza          │    69060.0 │\n",
              "│ ITA     │ \\x01\\x01\\x00\\x00\\x00\\x1DZd;\\xDFO-@\\xF2\\…  │    4.0 │    41.563 │    14.656 │ Campobasso       │    50762.0 │\n",
              "│ ITA     │ \\x01\\x01\\x00\\x00\\x00\\xC3\\xF5(\\x5C\\x8FB\\…  │    5.0 │    45.737 │     7.315 │ Aosta            │    34062.0 │\n",
              "│ ALD     │ \\x01\\x01\\x00\\x00\\x00m\\xE7\\xFB\\xA9\\xF1\\x…  │    6.0 │    60.097 │    19.949 │ Mariehamn        │    10682.0 │\n",
              "│ PSE     │ \\x01\\x01\\x00\\x00\\x00\\xD8\\x0D\\xDB\\x16e\\x…  │    7.0 │  31.90294 │  35.20621 │ Ramallah         │    24599.0 │\n",
              "│ VAT     │ \\x01\\x01\\x00\\x00\\x00\\xBE\\xA41ZG\\xE5(@W\\…  │    8.0 │  41.90001 │  12.44781 │ Vatican City     │      832.0 │\n",
              "│ FRA     │ \\x01\\x01\\x00\\x00\\x00\\xDCK\\x1A\\xA3uT\\xD5…  │    9.0 │  46.58329 │   0.33328 │ Poitier          │    85960.0 │\n",
              "│ FRA     │ \\x01\\x01\\x00\\x00\\x00\\xDD\\xD2jH\\xDC\\xA3\\…  │   10.0 │  45.77998 │   3.08001 │ Clermont-Ferrand │   233050.0 │\n",
              "│  ·      │                     ·                     │     ·  │      ·    │      ·    │   ·              │       ·    │\n",
              "│  ·      │                     ·                     │     ·  │      ·    │      ·    │   ·              │       ·    │\n",
              "│  ·      │                     ·                     │     ·  │      ·    │      ·    │   ·              │       ·    │\n",
              "│ JPN     │ \\x01\\x01\\x00\\x00\\x00e\\xFC\\xFB\\x8C\\x0Bxa…  │ 1240.0 │  35.68502 │ 139.75141 │ Tokyo            │ 35676000.0 │\n",
              "│ IND     │ \\x01\\x01\\x00\\x00\\x00\\xF0\\xBF\\x95\\xEC\\xD…  │ 1241.0 │  19.01699 │  72.85699 │ Mumbai           │ 18978000.0 │\n",
              "│ FRA     │ \\x01\\x01\\x00\\x00\\x00\\xD1\\x96s)\\xAE\\xAA\\…  │ 1242.0 │  48.86669 │   2.33334 │ Paris            │  9904000.0 │\n",
              "│ CHL     │ \\x01\\x01\\x00\\x00\\x00\\xEDG\\x8A\\xC8\\xB0\\x…  │ 1243.0 │ -33.45001 │ -70.66704 │ Santiago         │  5720000.0 │\n",
              "│ IND     │ \\x01\\x01\\x00\\x00\\x00\\x94j\\x9F\\x8E\\xC7\\x…  │ 1244.0 │  22.49497 │  88.32468 │ Kolkata          │ 14787000.0 │\n",
              "│ BRA     │ \\x01\\x01\\x00\\x00\\x00\\x14y\\x92t\\xCD\\x9CE…  │ 1245.0 │ -22.92502 │ -43.22502 │ Rio de Janeiro   │ 11748000.0 │\n",
              "│ BRA     │ \\x01\\x01\\x00\\x00\\x00G\\xAC\\xC5\\xA7\\x00PG…  │ 1246.0 │ -23.55868 │ -46.62502 │ Sao Paulo        │ 18845000.0 │\n",
              "│ AUS     │ \\x01\\x01\\x00\\x00\\x00\\xF2{\\x9B\\xFE\\xEC\\x…  │ 1247.0 │ -33.92001 │ 151.18518 │ Sydney           │  4630000.0 │\n",
              "│ SGP     │ \\x01\\x01\\x00\\x00\\x00\\xD0\\xD0?\\xC1\\xC5\\x…  │ 1248.0 │   1.29303 │ 103.85582 │ Singapore        │  5183700.0 │\n",
              "│ CHN     │ \\x01\\x01\\x00\\x00\\x00\\xB6\\xDB.4\\xD7\\x8B\\…  │ 1249.0 │  22.30498 │ 114.18501 │ Hong Kong        │  7206000.0 │\n",
              "├─────────┴───────────────────────────────────────────┴────────┴───────────┴───────────┴──────────────────┴────────────┤\n",
              "│ 1249 rows (20 shown)                                                                                       7 columns │\n",
              "└──────────────────────────────────────────────────────────────────────────────────────────────────────────────────────┘"
            ]
          },
          "execution_count": 18,
          "metadata": {},
          "output_type": "execute_result"
        }
      ],
      "source": [
        "# directly read a Parquet file from within SQL\n",
        "con.sql(\"SELECT * FROM 'cities.parquet'\")"
      ]
    },
    {
      "cell_type": "code",
      "execution_count": null,
      "metadata": {
        "id": "SjdYTTEG9P8c"
      },
      "outputs": [
        {
          "data": {
            "text/plain": [
              "┌─────────┬───────────────────────────────────────────┬────────┬───────────┬───────────┬──────────────────┬────────────┐\n",
              "│ country │                 geometry                  │   id   │ latitude  │ longitude │       name       │ population │\n",
              "│ varchar │                   blob                    │ double │  double   │  double   │     varchar      │   double   │\n",
              "├─────────┼───────────────────────────────────────────┼────────┼───────────┼───────────┼──────────────────┼────────────┤\n",
              "│ UGA     │ \\x01\\x01\\x00\\x00\\x00xz\\xA5,CD@@\\xB57\\xF…  │    1.0 │    0.5833 │   32.5333 │ Bombo            │    75000.0 │\n",
              "│ UGA     │ \\x01\\x01\\x00\\x00\\x00fffffF>@F\\xB6\\xF3\\x…  │    2.0 │     0.671 │    30.275 │ Fort Portal      │    42670.0 │\n",
              "│ ITA     │ \\x01\\x01\\x00\\x00\\x00\\x0C\\x02+\\x87\\x16\\x…  │    3.0 │    40.642 │    15.799 │ Potenza          │    69060.0 │\n",
              "│ ITA     │ \\x01\\x01\\x00\\x00\\x00\\x1DZd;\\xDFO-@\\xF2\\…  │    4.0 │    41.563 │    14.656 │ Campobasso       │    50762.0 │\n",
              "│ ITA     │ \\x01\\x01\\x00\\x00\\x00\\xC3\\xF5(\\x5C\\x8FB\\…  │    5.0 │    45.737 │     7.315 │ Aosta            │    34062.0 │\n",
              "│ ALD     │ \\x01\\x01\\x00\\x00\\x00m\\xE7\\xFB\\xA9\\xF1\\x…  │    6.0 │    60.097 │    19.949 │ Mariehamn        │    10682.0 │\n",
              "│ PSE     │ \\x01\\x01\\x00\\x00\\x00\\xD8\\x0D\\xDB\\x16e\\x…  │    7.0 │  31.90294 │  35.20621 │ Ramallah         │    24599.0 │\n",
              "│ VAT     │ \\x01\\x01\\x00\\x00\\x00\\xBE\\xA41ZG\\xE5(@W\\…  │    8.0 │  41.90001 │  12.44781 │ Vatican City     │      832.0 │\n",
              "│ FRA     │ \\x01\\x01\\x00\\x00\\x00\\xDCK\\x1A\\xA3uT\\xD5…  │    9.0 │  46.58329 │   0.33328 │ Poitier          │    85960.0 │\n",
              "│ FRA     │ \\x01\\x01\\x00\\x00\\x00\\xDD\\xD2jH\\xDC\\xA3\\…  │   10.0 │  45.77998 │   3.08001 │ Clermont-Ferrand │   233050.0 │\n",
              "│  ·      │                     ·                     │     ·  │      ·    │      ·    │   ·              │       ·    │\n",
              "│  ·      │                     ·                     │     ·  │      ·    │      ·    │   ·              │       ·    │\n",
              "│  ·      │                     ·                     │     ·  │      ·    │      ·    │   ·              │       ·    │\n",
              "│ JPN     │ \\x01\\x01\\x00\\x00\\x00e\\xFC\\xFB\\x8C\\x0Bxa…  │ 1240.0 │  35.68502 │ 139.75141 │ Tokyo            │ 35676000.0 │\n",
              "│ IND     │ \\x01\\x01\\x00\\x00\\x00\\xF0\\xBF\\x95\\xEC\\xD…  │ 1241.0 │  19.01699 │  72.85699 │ Mumbai           │ 18978000.0 │\n",
              "│ FRA     │ \\x01\\x01\\x00\\x00\\x00\\xD1\\x96s)\\xAE\\xAA\\…  │ 1242.0 │  48.86669 │   2.33334 │ Paris            │  9904000.0 │\n",
              "│ CHL     │ \\x01\\x01\\x00\\x00\\x00\\xEDG\\x8A\\xC8\\xB0\\x…  │ 1243.0 │ -33.45001 │ -70.66704 │ Santiago         │  5720000.0 │\n",
              "│ IND     │ \\x01\\x01\\x00\\x00\\x00\\x94j\\x9F\\x8E\\xC7\\x…  │ 1244.0 │  22.49497 │  88.32468 │ Kolkata          │ 14787000.0 │\n",
              "│ BRA     │ \\x01\\x01\\x00\\x00\\x00\\x14y\\x92t\\xCD\\x9CE…  │ 1245.0 │ -22.92502 │ -43.22502 │ Rio de Janeiro   │ 11748000.0 │\n",
              "│ BRA     │ \\x01\\x01\\x00\\x00\\x00G\\xAC\\xC5\\xA7\\x00PG…  │ 1246.0 │ -23.55868 │ -46.62502 │ Sao Paulo        │ 18845000.0 │\n",
              "│ AUS     │ \\x01\\x01\\x00\\x00\\x00\\xF2{\\x9B\\xFE\\xEC\\x…  │ 1247.0 │ -33.92001 │ 151.18518 │ Sydney           │  4630000.0 │\n",
              "│ SGP     │ \\x01\\x01\\x00\\x00\\x00\\xD0\\xD0?\\xC1\\xC5\\x…  │ 1248.0 │   1.29303 │ 103.85582 │ Singapore        │  5183700.0 │\n",
              "│ CHN     │ \\x01\\x01\\x00\\x00\\x00\\xB6\\xDB.4\\xD7\\x8B\\…  │ 1249.0 │  22.30498 │ 114.18501 │ Hong Kong        │  7206000.0 │\n",
              "├─────────┴───────────────────────────────────────────┴────────┴───────────┴───────────┴──────────────────┴────────────┤\n",
              "│ 1249 rows (20 shown)                                                                                       7 columns │\n",
              "└──────────────────────────────────────────────────────────────────────────────────────────────────────────────────────┘"
            ]
          },
          "execution_count": 19,
          "metadata": {},
          "output_type": "execute_result"
        }
      ],
      "source": [
        "# call read_parquet from within SQL\n",
        "con.sql(\"SELECT * FROM read_parquet('cities.parquet')\")"
      ]
    },
    {
      "cell_type": "markdown",
      "metadata": {
        "id": "uKKzSSD_9P8c"
      },
      "source": [
        "## GeoJSON Files"
      ]
    },
    {
      "cell_type": "code",
      "execution_count": null,
      "metadata": {
        "id": "06nK18tE9P8c"
      },
      "outputs": [
        {
          "data": {
            "text/plain": [
              "┌────────────────┬──────────────────────┬────────────┬──────────┬──────────┬───────────────────────────────────────────┐\n",
              "│   short_name   │      long_name       │ can_create │ can_copy │ can_open │                 help_url                  │\n",
              "│    varchar     │       varchar        │  boolean   │ boolean  │ boolean  │                  varchar                  │\n",
              "├────────────────┼──────────────────────┼────────────┼──────────┼──────────┼───────────────────────────────────────────┤\n",
              "│ ESRI Shapefile │ ESRI Shapefile       │ true       │ false    │ true     │ https://gdal.org/drivers/vector/shapefi…  │\n",
              "│ MapInfo File   │ MapInfo File         │ true       │ false    │ true     │ https://gdal.org/drivers/vector/mitab.h…  │\n",
              "│ UK .NTF        │ UK .NTF              │ false      │ false    │ true     │ https://gdal.org/drivers/vector/ntf.html  │\n",
              "│ LVBAG          │ Kadaster LV BAG Ex…  │ false      │ false    │ true     │ https://gdal.org/drivers/vector/lvbag.h…  │\n",
              "│ S57            │ IHO S-57 (ENC)       │ true       │ false    │ true     │ https://gdal.org/drivers/vector/s57.html  │\n",
              "│ DGN            │ Microstation DGN     │ true       │ false    │ true     │ https://gdal.org/drivers/vector/dgn.html  │\n",
              "│ OGR_VRT        │ VRT - Virtual Data…  │ false      │ false    │ true     │ https://gdal.org/drivers/vector/vrt.html  │\n",
              "│ Memory         │ Memory               │ true       │ false    │ true     │ NULL                                      │\n",
              "│ CSV            │ Comma Separated Va…  │ true       │ false    │ true     │ https://gdal.org/drivers/vector/csv.html  │\n",
              "│ GML            │ Geography Markup L…  │ true       │ false    │ true     │ https://gdal.org/drivers/vector/gml.html  │\n",
              "│  ·             │      ·               │  ·         │   ·      │  ·       │                    ·                      │\n",
              "│  ·             │      ·               │  ·         │   ·      │  ·       │                    ·                      │\n",
              "│  ·             │      ·               │  ·         │   ·      │  ·       │                    ·                      │\n",
              "│ JML            │ OpenJUMP JML         │ true       │ false    │ true     │ https://gdal.org/drivers/vector/jml.html  │\n",
              "│ PLSCENES       │ Planet Labs Scenes…  │ false      │ false    │ true     │ https://gdal.org/drivers/vector/plscene…  │\n",
              "│ CSW            │ OGC CSW (Catalog  …  │ false      │ false    │ true     │ https://gdal.org/drivers/vector/csw.html  │\n",
              "│ VDV            │ VDV-451/VDV-452/IN…  │ true       │ false    │ true     │ https://gdal.org/drivers/vector/vdv.html  │\n",
              "│ MVT            │ Mapbox Vector Tiles  │ true       │ false    │ true     │ https://gdal.org/drivers/vector/mvt.html  │\n",
              "│ NGW            │ NextGIS Web          │ true       │ true     │ true     │ https://gdal.org/drivers/vector/ngw.html  │\n",
              "│ MapML          │ MapML                │ true       │ false    │ true     │ https://gdal.org/drivers/vector/mapml.h…  │\n",
              "│ TIGER          │ U.S. Census TIGER/…  │ false      │ false    │ true     │ https://gdal.org/drivers/vector/tiger.h…  │\n",
              "│ AVCBin         │ Arc/Info Binary Co…  │ false      │ false    │ true     │ https://gdal.org/drivers/vector/avcbin.…  │\n",
              "│ AVCE00         │ Arc/Info E00 (ASCI…  │ false      │ false    │ true     │ https://gdal.org/drivers/vector/avce00.…  │\n",
              "├────────────────┴──────────────────────┴────────────┴──────────┴──────────┴───────────────────────────────────────────┤\n",
              "│ 51 rows (20 shown)                                                                                         6 columns │\n",
              "└──────────────────────────────────────────────────────────────────────────────────────────────────────────────────────┘"
            ]
          },
          "execution_count": 20,
          "metadata": {},
          "output_type": "execute_result"
        }
      ],
      "source": [
        "con.sql('SELECT * FROM ST_Drivers()')"
      ]
    },
    {
      "cell_type": "code",
      "execution_count": null,
      "metadata": {
        "id": "fbwQArc79P8c"
      },
      "outputs": [
        {
          "data": {
            "text/plain": [
              "┌───────┬──────────────────┬─────────┬───────────┬───────────┬────────────┬─────────────────────────────┐\n",
              "│  id   │       name       │ country │ latitude  │ longitude │ population │            geom             │\n",
              "│ int32 │     varchar      │ varchar │  double   │  double   │   int32    │          geometry           │\n",
              "├───────┼──────────────────┼─────────┼───────────┼───────────┼────────────┼─────────────────────────────┤\n",
              "│     1 │ Bombo            │ UGA     │    0.5833 │   32.5333 │      75000 │ POINT (32.5333 0.5833)      │\n",
              "│     2 │ Fort Portal      │ UGA     │     0.671 │    30.275 │      42670 │ POINT (30.275 0.671)        │\n",
              "│     3 │ Potenza          │ ITA     │    40.642 │    15.799 │      69060 │ POINT (15.799 40.642)       │\n",
              "│     4 │ Campobasso       │ ITA     │    41.563 │    14.656 │      50762 │ POINT (14.656 41.563)       │\n",
              "│     5 │ Aosta            │ ITA     │    45.737 │     7.315 │      34062 │ POINT (7.315 45.737)        │\n",
              "│     6 │ Mariehamn        │ ALD     │    60.097 │    19.949 │      10682 │ POINT (19.949 60.097)       │\n",
              "│     7 │ Ramallah         │ PSE     │  31.90294 │  35.20621 │      24599 │ POINT (35.20621 31.90294)   │\n",
              "│     8 │ Vatican City     │ VAT     │  41.90001 │  12.44781 │        832 │ POINT (12.44781 41.90001)   │\n",
              "│     9 │ Poitier          │ FRA     │  46.58329 │   0.33328 │      85960 │ POINT (0.33328 46.58329)    │\n",
              "│    10 │ Clermont-Ferrand │ FRA     │  45.77998 │   3.08001 │     233050 │ POINT (3.08001 45.77998)    │\n",
              "│     · │   ·              │  ·      │      ·    │      ·    │        ·   │            ·                │\n",
              "│     · │   ·              │  ·      │      ·    │      ·    │        ·   │            ·                │\n",
              "│     · │   ·              │  ·      │      ·    │      ·    │        ·   │            ·                │\n",
              "│  1240 │ Tokyo            │ JPN     │  35.68502 │ 139.75141 │   35676000 │ POINT (139.75141 35.68502)  │\n",
              "│  1241 │ Mumbai           │ IND     │  19.01699 │  72.85699 │   18978000 │ POINT (72.85699 19.01699)   │\n",
              "│  1242 │ Paris            │ FRA     │  48.86669 │   2.33334 │    9904000 │ POINT (2.33334 48.86669)    │\n",
              "│  1243 │ Santiago         │ CHL     │ -33.45001 │ -70.66704 │    5720000 │ POINT (-70.66704 -33.45001) │\n",
              "│  1244 │ Kolkata          │ IND     │  22.49497 │  88.32468 │   14787000 │ POINT (88.32468 22.49497)   │\n",
              "│  1245 │ Rio de Janeiro   │ BRA     │ -22.92502 │ -43.22502 │   11748000 │ POINT (-43.22502 -22.92502) │\n",
              "│  1246 │ Sao Paulo        │ BRA     │ -23.55868 │ -46.62502 │   18845000 │ POINT (-46.62502 -23.55868) │\n",
              "│  1247 │ Sydney           │ AUS     │ -33.92001 │ 151.18518 │    4630000 │ POINT (151.18518 -33.92001) │\n",
              "│  1248 │ Singapore        │ SGP     │   1.29303 │ 103.85582 │    5183700 │ POINT (103.85582 1.29303)   │\n",
              "│  1249 │ Hong Kong        │ CHN     │  22.30498 │ 114.18501 │    7206000 │ POINT (114.18501 22.30498)  │\n",
              "├───────┴──────────────────┴─────────┴───────────┴───────────┴────────────┴─────────────────────────────┤\n",
              "│ 1249 rows (20 shown)                                                                        7 columns │\n",
              "└───────────────────────────────────────────────────────────────────────────────────────────────────────┘"
            ]
          },
          "execution_count": 21,
          "metadata": {},
          "output_type": "execute_result"
        }
      ],
      "source": [
        "con.sql(\"SELECT * FROM ST_Read('cities.geojson')\")"
      ]
    },
    {
      "cell_type": "code",
      "execution_count": null,
      "metadata": {
        "id": "Joj-UEns9P8c"
      },
      "outputs": [
        {
          "data": {
            "text/plain": [
              "┌───────┬──────────────────┬─────────┬───────────┬───────────┬────────────┬─────────────────────────────┐\n",
              "│  id   │       name       │ country │ latitude  │ longitude │ population │            geom             │\n",
              "│ int32 │     varchar      │ varchar │  double   │  double   │   int32    │          geometry           │\n",
              "├───────┼──────────────────┼─────────┼───────────┼───────────┼────────────┼─────────────────────────────┤\n",
              "│     1 │ Bombo            │ UGA     │    0.5833 │   32.5333 │      75000 │ POINT (32.5333 0.5833)      │\n",
              "│     2 │ Fort Portal      │ UGA     │     0.671 │    30.275 │      42670 │ POINT (30.275 0.671)        │\n",
              "│     3 │ Potenza          │ ITA     │    40.642 │    15.799 │      69060 │ POINT (15.799 40.642)       │\n",
              "│     4 │ Campobasso       │ ITA     │    41.563 │    14.656 │      50762 │ POINT (14.656 41.563)       │\n",
              "│     5 │ Aosta            │ ITA     │    45.737 │     7.315 │      34062 │ POINT (7.315 45.737)        │\n",
              "│     6 │ Mariehamn        │ ALD     │    60.097 │    19.949 │      10682 │ POINT (19.949 60.097)       │\n",
              "│     7 │ Ramallah         │ PSE     │  31.90294 │  35.20621 │      24599 │ POINT (35.20621 31.90294)   │\n",
              "│     8 │ Vatican City     │ VAT     │  41.90001 │  12.44781 │        832 │ POINT (12.44781 41.90001)   │\n",
              "│     9 │ Poitier          │ FRA     │  46.58329 │   0.33328 │      85960 │ POINT (0.33328 46.58329)    │\n",
              "│    10 │ Clermont-Ferrand │ FRA     │  45.77998 │   3.08001 │     233050 │ POINT (3.08001 45.77998)    │\n",
              "│     · │   ·              │  ·      │      ·    │      ·    │        ·   │            ·                │\n",
              "│     · │   ·              │  ·      │      ·    │      ·    │        ·   │            ·                │\n",
              "│     · │   ·              │  ·      │      ·    │      ·    │        ·   │            ·                │\n",
              "│  1240 │ Tokyo            │ JPN     │  35.68502 │ 139.75141 │   35676000 │ POINT (139.75141 35.68502)  │\n",
              "│  1241 │ Mumbai           │ IND     │  19.01699 │  72.85699 │   18978000 │ POINT (72.85699 19.01699)   │\n",
              "│  1242 │ Paris            │ FRA     │  48.86669 │   2.33334 │    9904000 │ POINT (2.33334 48.86669)    │\n",
              "│  1243 │ Santiago         │ CHL     │ -33.45001 │ -70.66704 │    5720000 │ POINT (-70.66704 -33.45001) │\n",
              "│  1244 │ Kolkata          │ IND     │  22.49497 │  88.32468 │   14787000 │ POINT (88.32468 22.49497)   │\n",
              "│  1245 │ Rio de Janeiro   │ BRA     │ -22.92502 │ -43.22502 │   11748000 │ POINT (-43.22502 -22.92502) │\n",
              "│  1246 │ Sao Paulo        │ BRA     │ -23.55868 │ -46.62502 │   18845000 │ POINT (-46.62502 -23.55868) │\n",
              "│  1247 │ Sydney           │ AUS     │ -33.92001 │ 151.18518 │    4630000 │ POINT (151.18518 -33.92001) │\n",
              "│  1248 │ Singapore        │ SGP     │   1.29303 │ 103.85582 │    5183700 │ POINT (103.85582 1.29303)   │\n",
              "│  1249 │ Hong Kong        │ CHN     │  22.30498 │ 114.18501 │    7206000 │ POINT (114.18501 22.30498)  │\n",
              "├───────┴──────────────────┴─────────┴───────────┴───────────┴────────────┴─────────────────────────────┤\n",
              "│ 1249 rows (20 shown)                                                                        7 columns │\n",
              "└───────────────────────────────────────────────────────────────────────────────────────────────────────┘"
            ]
          },
          "execution_count": 22,
          "metadata": {},
          "output_type": "execute_result"
        }
      ],
      "source": [
        "con.sql(\"FROM ST_Read('cities.geojson')\")"
      ]
    },
    {
      "cell_type": "code",
      "execution_count": null,
      "metadata": {
        "id": "ze5gbq_t9P8c"
      },
      "outputs": [],
      "source": [
        "con.sql(\"CREATE TABLE cities AS SELECT * FROM ST_Read('cities.geojson')\")"
      ]
    },
    {
      "cell_type": "code",
      "execution_count": null,
      "metadata": {
        "id": "HLaW05rw9P8c"
      },
      "outputs": [
        {
          "data": {
            "text/plain": [
              "┌───────┬──────────────────┬─────────┬───────────┬───────────┬────────────┬─────────────────────────────┐\n",
              "│  id   │       name       │ country │ latitude  │ longitude │ population │            geom             │\n",
              "│ int32 │     varchar      │ varchar │  double   │  double   │   int32    │          geometry           │\n",
              "├───────┼──────────────────┼─────────┼───────────┼───────────┼────────────┼─────────────────────────────┤\n",
              "│     1 │ Bombo            │ UGA     │    0.5833 │   32.5333 │      75000 │ POINT (32.5333 0.5833)      │\n",
              "│     2 │ Fort Portal      │ UGA     │     0.671 │    30.275 │      42670 │ POINT (30.275 0.671)        │\n",
              "│     3 │ Potenza          │ ITA     │    40.642 │    15.799 │      69060 │ POINT (15.799 40.642)       │\n",
              "│     4 │ Campobasso       │ ITA     │    41.563 │    14.656 │      50762 │ POINT (14.656 41.563)       │\n",
              "│     5 │ Aosta            │ ITA     │    45.737 │     7.315 │      34062 │ POINT (7.315 45.737)        │\n",
              "│     6 │ Mariehamn        │ ALD     │    60.097 │    19.949 │      10682 │ POINT (19.949 60.097)       │\n",
              "│     7 │ Ramallah         │ PSE     │  31.90294 │  35.20621 │      24599 │ POINT (35.20621 31.90294)   │\n",
              "│     8 │ Vatican City     │ VAT     │  41.90001 │  12.44781 │        832 │ POINT (12.44781 41.90001)   │\n",
              "│     9 │ Poitier          │ FRA     │  46.58329 │   0.33328 │      85960 │ POINT (0.33328 46.58329)    │\n",
              "│    10 │ Clermont-Ferrand │ FRA     │  45.77998 │   3.08001 │     233050 │ POINT (3.08001 45.77998)    │\n",
              "│     · │   ·              │  ·      │      ·    │      ·    │        ·   │            ·                │\n",
              "│     · │   ·              │  ·      │      ·    │      ·    │        ·   │            ·                │\n",
              "│     · │   ·              │  ·      │      ·    │      ·    │        ·   │            ·                │\n",
              "│  1240 │ Tokyo            │ JPN     │  35.68502 │ 139.75141 │   35676000 │ POINT (139.75141 35.68502)  │\n",
              "│  1241 │ Mumbai           │ IND     │  19.01699 │  72.85699 │   18978000 │ POINT (72.85699 19.01699)   │\n",
              "│  1242 │ Paris            │ FRA     │  48.86669 │   2.33334 │    9904000 │ POINT (2.33334 48.86669)    │\n",
              "│  1243 │ Santiago         │ CHL     │ -33.45001 │ -70.66704 │    5720000 │ POINT (-70.66704 -33.45001) │\n",
              "│  1244 │ Kolkata          │ IND     │  22.49497 │  88.32468 │   14787000 │ POINT (88.32468 22.49497)   │\n",
              "│  1245 │ Rio de Janeiro   │ BRA     │ -22.92502 │ -43.22502 │   11748000 │ POINT (-43.22502 -22.92502) │\n",
              "│  1246 │ Sao Paulo        │ BRA     │ -23.55868 │ -46.62502 │   18845000 │ POINT (-46.62502 -23.55868) │\n",
              "│  1247 │ Sydney           │ AUS     │ -33.92001 │ 151.18518 │    4630000 │ POINT (151.18518 -33.92001) │\n",
              "│  1248 │ Singapore        │ SGP     │   1.29303 │ 103.85582 │    5183700 │ POINT (103.85582 1.29303)   │\n",
              "│  1249 │ Hong Kong        │ CHN     │  22.30498 │ 114.18501 │    7206000 │ POINT (114.18501 22.30498)  │\n",
              "├───────┴──────────────────┴─────────┴───────────┴───────────┴────────────┴─────────────────────────────┤\n",
              "│ 1249 rows (20 shown)                                                                        7 columns │\n",
              "└───────────────────────────────────────────────────────────────────────────────────────────────────────┘"
            ]
          },
          "execution_count": 24,
          "metadata": {},
          "output_type": "execute_result"
        }
      ],
      "source": [
        "con.table('cities')"
      ]
    },
    {
      "cell_type": "code",
      "execution_count": null,
      "metadata": {
        "id": "m1wUpi129P8c"
      },
      "outputs": [
        {
          "data": {
            "text/plain": [
              "┌───────┬──────────────────┬─────────┬───────────┬───────────┬────────────┬─────────────────────────────┐\n",
              "│  id   │       name       │ country │ latitude  │ longitude │ population │            geom             │\n",
              "│ int32 │     varchar      │ varchar │  double   │  double   │   int32    │          geometry           │\n",
              "├───────┼──────────────────┼─────────┼───────────┼───────────┼────────────┼─────────────────────────────┤\n",
              "│     1 │ Bombo            │ UGA     │    0.5833 │   32.5333 │      75000 │ POINT (32.5333 0.5833)      │\n",
              "│     2 │ Fort Portal      │ UGA     │     0.671 │    30.275 │      42670 │ POINT (30.275 0.671)        │\n",
              "│     3 │ Potenza          │ ITA     │    40.642 │    15.799 │      69060 │ POINT (15.799 40.642)       │\n",
              "│     4 │ Campobasso       │ ITA     │    41.563 │    14.656 │      50762 │ POINT (14.656 41.563)       │\n",
              "│     5 │ Aosta            │ ITA     │    45.737 │     7.315 │      34062 │ POINT (7.315 45.737)        │\n",
              "│     6 │ Mariehamn        │ ALD     │    60.097 │    19.949 │      10682 │ POINT (19.949 60.097)       │\n",
              "│     7 │ Ramallah         │ PSE     │  31.90294 │  35.20621 │      24599 │ POINT (35.20621 31.90294)   │\n",
              "│     8 │ Vatican City     │ VAT     │  41.90001 │  12.44781 │        832 │ POINT (12.44781 41.90001)   │\n",
              "│     9 │ Poitier          │ FRA     │  46.58329 │   0.33328 │      85960 │ POINT (0.33328 46.58329)    │\n",
              "│    10 │ Clermont-Ferrand │ FRA     │  45.77998 │   3.08001 │     233050 │ POINT (3.08001 45.77998)    │\n",
              "│     · │   ·              │  ·      │      ·    │      ·    │        ·   │            ·                │\n",
              "│     · │   ·              │  ·      │      ·    │      ·    │        ·   │            ·                │\n",
              "│     · │   ·              │  ·      │      ·    │      ·    │        ·   │            ·                │\n",
              "│  1240 │ Tokyo            │ JPN     │  35.68502 │ 139.75141 │   35676000 │ POINT (139.75141 35.68502)  │\n",
              "│  1241 │ Mumbai           │ IND     │  19.01699 │  72.85699 │   18978000 │ POINT (72.85699 19.01699)   │\n",
              "│  1242 │ Paris            │ FRA     │  48.86669 │   2.33334 │    9904000 │ POINT (2.33334 48.86669)    │\n",
              "│  1243 │ Santiago         │ CHL     │ -33.45001 │ -70.66704 │    5720000 │ POINT (-70.66704 -33.45001) │\n",
              "│  1244 │ Kolkata          │ IND     │  22.49497 │  88.32468 │   14787000 │ POINT (88.32468 22.49497)   │\n",
              "│  1245 │ Rio de Janeiro   │ BRA     │ -22.92502 │ -43.22502 │   11748000 │ POINT (-43.22502 -22.92502) │\n",
              "│  1246 │ Sao Paulo        │ BRA     │ -23.55868 │ -46.62502 │   18845000 │ POINT (-46.62502 -23.55868) │\n",
              "│  1247 │ Sydney           │ AUS     │ -33.92001 │ 151.18518 │    4630000 │ POINT (151.18518 -33.92001) │\n",
              "│  1248 │ Singapore        │ SGP     │   1.29303 │ 103.85582 │    5183700 │ POINT (103.85582 1.29303)   │\n",
              "│  1249 │ Hong Kong        │ CHN     │  22.30498 │ 114.18501 │    7206000 │ POINT (114.18501 22.30498)  │\n",
              "├───────┴──────────────────┴─────────┴───────────┴───────────┴────────────┴─────────────────────────────┤\n",
              "│ 1249 rows (20 shown)                                                                        7 columns │\n",
              "└───────────────────────────────────────────────────────────────────────────────────────────────────────┘"
            ]
          },
          "execution_count": 25,
          "metadata": {},
          "output_type": "execute_result"
        }
      ],
      "source": [
        "con.sql(\"SELECT * FROM cities\")"
      ]
    },
    {
      "cell_type": "markdown",
      "metadata": {
        "id": "-o-bqD4O9P8c"
      },
      "source": [
        "## Shapefiles"
      ]
    },
    {
      "cell_type": "code",
      "execution_count": null,
      "metadata": {
        "id": "MBB50Mjc9P8c"
      },
      "outputs": [
        {
          "data": {
            "text/plain": [
              "┌───────┬──────────────────┬─────────┬───────────┬───────────┬────────────┬─────────────────────────────┐\n",
              "│  id   │       name       │ country │ latitude  │ longitude │ population │            geom             │\n",
              "│ int64 │     varchar      │ varchar │  double   │  double   │   int64    │          geometry           │\n",
              "├───────┼──────────────────┼─────────┼───────────┼───────────┼────────────┼─────────────────────────────┤\n",
              "│     1 │ Bombo            │ UGA     │    0.5833 │   32.5333 │      75000 │ POINT (32.5333 0.5833)      │\n",
              "│     2 │ Fort Portal      │ UGA     │     0.671 │    30.275 │      42670 │ POINT (30.275 0.671)        │\n",
              "│     3 │ Potenza          │ ITA     │    40.642 │    15.799 │      69060 │ POINT (15.799 40.642)       │\n",
              "│     4 │ Campobasso       │ ITA     │    41.563 │    14.656 │      50762 │ POINT (14.656 41.563)       │\n",
              "│     5 │ Aosta            │ ITA     │    45.737 │     7.315 │      34062 │ POINT (7.315 45.737)        │\n",
              "│     6 │ Mariehamn        │ ALD     │    60.097 │    19.949 │      10682 │ POINT (19.949 60.097)       │\n",
              "│     7 │ Ramallah         │ PSE     │  31.90294 │  35.20621 │      24599 │ POINT (35.20621 31.90294)   │\n",
              "│     8 │ Vatican City     │ VAT     │  41.90001 │  12.44781 │        832 │ POINT (12.44781 41.90001)   │\n",
              "│     9 │ Poitier          │ FRA     │  46.58329 │   0.33328 │      85960 │ POINT (0.33328 46.58329)    │\n",
              "│    10 │ Clermont-Ferrand │ FRA     │  45.77998 │   3.08001 │     233050 │ POINT (3.08001 45.77998)    │\n",
              "│     · │   ·              │  ·      │      ·    │      ·    │        ·   │            ·                │\n",
              "│     · │   ·              │  ·      │      ·    │      ·    │        ·   │            ·                │\n",
              "│     · │   ·              │  ·      │      ·    │      ·    │        ·   │            ·                │\n",
              "│  1240 │ Tokyo            │ JPN     │  35.68502 │ 139.75141 │   35676000 │ POINT (139.75141 35.68502)  │\n",
              "│  1241 │ Mumbai           │ IND     │  19.01699 │  72.85699 │   18978000 │ POINT (72.85699 19.01699)   │\n",
              "│  1242 │ Paris            │ FRA     │  48.86669 │   2.33334 │    9904000 │ POINT (2.33334 48.86669)    │\n",
              "│  1243 │ Santiago         │ CHL     │ -33.45001 │ -70.66704 │    5720000 │ POINT (-70.66704 -33.45001) │\n",
              "│  1244 │ Kolkata          │ IND     │  22.49497 │  88.32468 │   14787000 │ POINT (88.32468 22.49497)   │\n",
              "│  1245 │ Rio de Janeiro   │ BRA     │ -22.92502 │ -43.22502 │   11748000 │ POINT (-43.22502 -22.92502) │\n",
              "│  1246 │ Sao Paulo        │ BRA     │ -23.55868 │ -46.62502 │   18845000 │ POINT (-46.62502 -23.55868) │\n",
              "│  1247 │ Sydney           │ AUS     │ -33.92001 │ 151.18518 │    4630000 │ POINT (151.18518 -33.92001) │\n",
              "│  1248 │ Singapore        │ SGP     │   1.29303 │ 103.85582 │    5183700 │ POINT (103.85582 1.29303)   │\n",
              "│  1249 │ Hong Kong        │ CHN     │  22.30498 │ 114.18501 │    7206000 │ POINT (114.18501 22.30498)  │\n",
              "├───────┴──────────────────┴─────────┴───────────┴───────────┴────────────┴─────────────────────────────┤\n",
              "│ 1249 rows (20 shown)                                                                        7 columns │\n",
              "└───────────────────────────────────────────────────────────────────────────────────────────────────────┘"
            ]
          },
          "execution_count": 26,
          "metadata": {},
          "output_type": "execute_result"
        }
      ],
      "source": [
        "con.sql(\"SELECT * FROM ST_Read('cities.shp')\")"
      ]
    },
    {
      "cell_type": "code",
      "execution_count": null,
      "metadata": {
        "id": "DqwMG5hd9P8c"
      },
      "outputs": [
        {
          "data": {
            "text/plain": [
              "┌───────┬──────────────────┬─────────┬───────────┬───────────┬────────────┬─────────────────────────────┐\n",
              "│  id   │       name       │ country │ latitude  │ longitude │ population │            geom             │\n",
              "│ int64 │     varchar      │ varchar │  double   │  double   │   int64    │          geometry           │\n",
              "├───────┼──────────────────┼─────────┼───────────┼───────────┼────────────┼─────────────────────────────┤\n",
              "│     1 │ Bombo            │ UGA     │    0.5833 │   32.5333 │      75000 │ POINT (32.5333 0.5833)      │\n",
              "│     2 │ Fort Portal      │ UGA     │     0.671 │    30.275 │      42670 │ POINT (30.275 0.671)        │\n",
              "│     3 │ Potenza          │ ITA     │    40.642 │    15.799 │      69060 │ POINT (15.799 40.642)       │\n",
              "│     4 │ Campobasso       │ ITA     │    41.563 │    14.656 │      50762 │ POINT (14.656 41.563)       │\n",
              "│     5 │ Aosta            │ ITA     │    45.737 │     7.315 │      34062 │ POINT (7.315 45.737)        │\n",
              "│     6 │ Mariehamn        │ ALD     │    60.097 │    19.949 │      10682 │ POINT (19.949 60.097)       │\n",
              "│     7 │ Ramallah         │ PSE     │  31.90294 │  35.20621 │      24599 │ POINT (35.20621 31.90294)   │\n",
              "│     8 │ Vatican City     │ VAT     │  41.90001 │  12.44781 │        832 │ POINT (12.44781 41.90001)   │\n",
              "│     9 │ Poitier          │ FRA     │  46.58329 │   0.33328 │      85960 │ POINT (0.33328 46.58329)    │\n",
              "│    10 │ Clermont-Ferrand │ FRA     │  45.77998 │   3.08001 │     233050 │ POINT (3.08001 45.77998)    │\n",
              "│     · │   ·              │  ·      │      ·    │      ·    │        ·   │            ·                │\n",
              "│     · │   ·              │  ·      │      ·    │      ·    │        ·   │            ·                │\n",
              "│     · │   ·              │  ·      │      ·    │      ·    │        ·   │            ·                │\n",
              "│  1240 │ Tokyo            │ JPN     │  35.68502 │ 139.75141 │   35676000 │ POINT (139.75141 35.68502)  │\n",
              "│  1241 │ Mumbai           │ IND     │  19.01699 │  72.85699 │   18978000 │ POINT (72.85699 19.01699)   │\n",
              "│  1242 │ Paris            │ FRA     │  48.86669 │   2.33334 │    9904000 │ POINT (2.33334 48.86669)    │\n",
              "│  1243 │ Santiago         │ CHL     │ -33.45001 │ -70.66704 │    5720000 │ POINT (-70.66704 -33.45001) │\n",
              "│  1244 │ Kolkata          │ IND     │  22.49497 │  88.32468 │   14787000 │ POINT (88.32468 22.49497)   │\n",
              "│  1245 │ Rio de Janeiro   │ BRA     │ -22.92502 │ -43.22502 │   11748000 │ POINT (-43.22502 -22.92502) │\n",
              "│  1246 │ Sao Paulo        │ BRA     │ -23.55868 │ -46.62502 │   18845000 │ POINT (-46.62502 -23.55868) │\n",
              "│  1247 │ Sydney           │ AUS     │ -33.92001 │ 151.18518 │    4630000 │ POINT (151.18518 -33.92001) │\n",
              "│  1248 │ Singapore        │ SGP     │   1.29303 │ 103.85582 │    5183700 │ POINT (103.85582 1.29303)   │\n",
              "│  1249 │ Hong Kong        │ CHN     │  22.30498 │ 114.18501 │    7206000 │ POINT (114.18501 22.30498)  │\n",
              "├───────┴──────────────────┴─────────┴───────────┴───────────┴────────────┴─────────────────────────────┤\n",
              "│ 1249 rows (20 shown)                                                                        7 columns │\n",
              "└───────────────────────────────────────────────────────────────────────────────────────────────────────┘"
            ]
          },
          "execution_count": 27,
          "metadata": {},
          "output_type": "execute_result"
        }
      ],
      "source": [
        "con.sql(\"FROM ST_Read('cities.shp')\")"
      ]
    },
    {
      "cell_type": "code",
      "execution_count": null,
      "metadata": {
        "id": "m4OWvrPV9P8c"
      },
      "outputs": [],
      "source": [
        "con.sql(\n",
        "    \"\"\"\n",
        "        CREATE TABLE IF NOT EXISTS cities2 AS\n",
        "        SELECT * FROM ST_Read('cities.shp')\n",
        "        \"\"\"\n",
        ")"
      ]
    },
    {
      "cell_type": "code",
      "execution_count": null,
      "metadata": {
        "id": "6EM2ZRqo9P8c"
      },
      "outputs": [
        {
          "data": {
            "text/plain": [
              "┌───────┬──────────────────┬─────────┬───────────┬───────────┬────────────┬─────────────────────────────┐\n",
              "│  id   │       name       │ country │ latitude  │ longitude │ population │            geom             │\n",
              "│ int64 │     varchar      │ varchar │  double   │  double   │   int64    │          geometry           │\n",
              "├───────┼──────────────────┼─────────┼───────────┼───────────┼────────────┼─────────────────────────────┤\n",
              "│     1 │ Bombo            │ UGA     │    0.5833 │   32.5333 │      75000 │ POINT (32.5333 0.5833)      │\n",
              "│     2 │ Fort Portal      │ UGA     │     0.671 │    30.275 │      42670 │ POINT (30.275 0.671)        │\n",
              "│     3 │ Potenza          │ ITA     │    40.642 │    15.799 │      69060 │ POINT (15.799 40.642)       │\n",
              "│     4 │ Campobasso       │ ITA     │    41.563 │    14.656 │      50762 │ POINT (14.656 41.563)       │\n",
              "│     5 │ Aosta            │ ITA     │    45.737 │     7.315 │      34062 │ POINT (7.315 45.737)        │\n",
              "│     6 │ Mariehamn        │ ALD     │    60.097 │    19.949 │      10682 │ POINT (19.949 60.097)       │\n",
              "│     7 │ Ramallah         │ PSE     │  31.90294 │  35.20621 │      24599 │ POINT (35.20621 31.90294)   │\n",
              "│     8 │ Vatican City     │ VAT     │  41.90001 │  12.44781 │        832 │ POINT (12.44781 41.90001)   │\n",
              "│     9 │ Poitier          │ FRA     │  46.58329 │   0.33328 │      85960 │ POINT (0.33328 46.58329)    │\n",
              "│    10 │ Clermont-Ferrand │ FRA     │  45.77998 │   3.08001 │     233050 │ POINT (3.08001 45.77998)    │\n",
              "│     · │   ·              │  ·      │      ·    │      ·    │        ·   │            ·                │\n",
              "│     · │   ·              │  ·      │      ·    │      ·    │        ·   │            ·                │\n",
              "│     · │   ·              │  ·      │      ·    │      ·    │        ·   │            ·                │\n",
              "│  1240 │ Tokyo            │ JPN     │  35.68502 │ 139.75141 │   35676000 │ POINT (139.75141 35.68502)  │\n",
              "│  1241 │ Mumbai           │ IND     │  19.01699 │  72.85699 │   18978000 │ POINT (72.85699 19.01699)   │\n",
              "│  1242 │ Paris            │ FRA     │  48.86669 │   2.33334 │    9904000 │ POINT (2.33334 48.86669)    │\n",
              "│  1243 │ Santiago         │ CHL     │ -33.45001 │ -70.66704 │    5720000 │ POINT (-70.66704 -33.45001) │\n",
              "│  1244 │ Kolkata          │ IND     │  22.49497 │  88.32468 │   14787000 │ POINT (88.32468 22.49497)   │\n",
              "│  1245 │ Rio de Janeiro   │ BRA     │ -22.92502 │ -43.22502 │   11748000 │ POINT (-43.22502 -22.92502) │\n",
              "│  1246 │ Sao Paulo        │ BRA     │ -23.55868 │ -46.62502 │   18845000 │ POINT (-46.62502 -23.55868) │\n",
              "│  1247 │ Sydney           │ AUS     │ -33.92001 │ 151.18518 │    4630000 │ POINT (151.18518 -33.92001) │\n",
              "│  1248 │ Singapore        │ SGP     │   1.29303 │ 103.85582 │    5183700 │ POINT (103.85582 1.29303)   │\n",
              "│  1249 │ Hong Kong        │ CHN     │  22.30498 │ 114.18501 │    7206000 │ POINT (114.18501 22.30498)  │\n",
              "├───────┴──────────────────┴─────────┴───────────┴───────────┴────────────┴─────────────────────────────┤\n",
              "│ 1249 rows (20 shown)                                                                        7 columns │\n",
              "└───────────────────────────────────────────────────────────────────────────────────────────────────────┘"
            ]
          },
          "execution_count": 29,
          "metadata": {},
          "output_type": "execute_result"
        }
      ],
      "source": [
        "con.table('cities2')"
      ]
    },
    {
      "cell_type": "code",
      "execution_count": null,
      "metadata": {
        "id": "QDhrW-BM9P8f"
      },
      "outputs": [
        {
          "data": {
            "text/plain": [
              "┌───────┬──────────────────┬─────────┬───────────┬───────────┬────────────┬─────────────────────────────┐\n",
              "│  id   │       name       │ country │ latitude  │ longitude │ population │            geom             │\n",
              "│ int64 │     varchar      │ varchar │  double   │  double   │   int64    │          geometry           │\n",
              "├───────┼──────────────────┼─────────┼───────────┼───────────┼────────────┼─────────────────────────────┤\n",
              "│     1 │ Bombo            │ UGA     │    0.5833 │   32.5333 │      75000 │ POINT (32.5333 0.5833)      │\n",
              "│     2 │ Fort Portal      │ UGA     │     0.671 │    30.275 │      42670 │ POINT (30.275 0.671)        │\n",
              "│     3 │ Potenza          │ ITA     │    40.642 │    15.799 │      69060 │ POINT (15.799 40.642)       │\n",
              "│     4 │ Campobasso       │ ITA     │    41.563 │    14.656 │      50762 │ POINT (14.656 41.563)       │\n",
              "│     5 │ Aosta            │ ITA     │    45.737 │     7.315 │      34062 │ POINT (7.315 45.737)        │\n",
              "│     6 │ Mariehamn        │ ALD     │    60.097 │    19.949 │      10682 │ POINT (19.949 60.097)       │\n",
              "│     7 │ Ramallah         │ PSE     │  31.90294 │  35.20621 │      24599 │ POINT (35.20621 31.90294)   │\n",
              "│     8 │ Vatican City     │ VAT     │  41.90001 │  12.44781 │        832 │ POINT (12.44781 41.90001)   │\n",
              "│     9 │ Poitier          │ FRA     │  46.58329 │   0.33328 │      85960 │ POINT (0.33328 46.58329)    │\n",
              "│    10 │ Clermont-Ferrand │ FRA     │  45.77998 │   3.08001 │     233050 │ POINT (3.08001 45.77998)    │\n",
              "│     · │   ·              │  ·      │      ·    │      ·    │        ·   │            ·                │\n",
              "│     · │   ·              │  ·      │      ·    │      ·    │        ·   │            ·                │\n",
              "│     · │   ·              │  ·      │      ·    │      ·    │        ·   │            ·                │\n",
              "│  1240 │ Tokyo            │ JPN     │  35.68502 │ 139.75141 │   35676000 │ POINT (139.75141 35.68502)  │\n",
              "│  1241 │ Mumbai           │ IND     │  19.01699 │  72.85699 │   18978000 │ POINT (72.85699 19.01699)   │\n",
              "│  1242 │ Paris            │ FRA     │  48.86669 │   2.33334 │    9904000 │ POINT (2.33334 48.86669)    │\n",
              "│  1243 │ Santiago         │ CHL     │ -33.45001 │ -70.66704 │    5720000 │ POINT (-70.66704 -33.45001) │\n",
              "│  1244 │ Kolkata          │ IND     │  22.49497 │  88.32468 │   14787000 │ POINT (88.32468 22.49497)   │\n",
              "│  1245 │ Rio de Janeiro   │ BRA     │ -22.92502 │ -43.22502 │   11748000 │ POINT (-43.22502 -22.92502) │\n",
              "│  1246 │ Sao Paulo        │ BRA     │ -23.55868 │ -46.62502 │   18845000 │ POINT (-46.62502 -23.55868) │\n",
              "│  1247 │ Sydney           │ AUS     │ -33.92001 │ 151.18518 │    4630000 │ POINT (151.18518 -33.92001) │\n",
              "│  1248 │ Singapore        │ SGP     │   1.29303 │ 103.85582 │    5183700 │ POINT (103.85582 1.29303)   │\n",
              "│  1249 │ Hong Kong        │ CHN     │  22.30498 │ 114.18501 │    7206000 │ POINT (114.18501 22.30498)  │\n",
              "├───────┴──────────────────┴─────────┴───────────┴───────────┴────────────┴─────────────────────────────┤\n",
              "│ 1249 rows (20 shown)                                                                        7 columns │\n",
              "└───────────────────────────────────────────────────────────────────────────────────────────────────────┘"
            ]
          },
          "execution_count": 30,
          "metadata": {},
          "output_type": "execute_result"
        }
      ],
      "source": [
        "con.sql('SELECT * FROM cities2')"
      ]
    },
    {
      "cell_type": "markdown",
      "metadata": {
        "id": "hQcBnzpF9P8f"
      },
      "source": [
        "## GeoParquet Files"
      ]
    },
    {
      "cell_type": "code",
      "execution_count": null,
      "metadata": {
        "id": "6KyFFSwD9P8g"
      },
      "outputs": [
        {
          "data": {
            "text/plain": [
              "┌─────────┬───────────────────────────────────────────┬────────┬───────────┬───────────┬──────────────────┬────────────┐\n",
              "│ country │                 geometry                  │   id   │ latitude  │ longitude │       name       │ population │\n",
              "│ varchar │                   blob                    │ double │  double   │  double   │     varchar      │   double   │\n",
              "├─────────┼───────────────────────────────────────────┼────────┼───────────┼───────────┼──────────────────┼────────────┤\n",
              "│ UGA     │ \\x01\\x01\\x00\\x00\\x00xz\\xA5,CD@@\\xB57\\xF…  │    1.0 │    0.5833 │   32.5333 │ Bombo            │    75000.0 │\n",
              "│ UGA     │ \\x01\\x01\\x00\\x00\\x00fffffF>@F\\xB6\\xF3\\x…  │    2.0 │     0.671 │    30.275 │ Fort Portal      │    42670.0 │\n",
              "│ ITA     │ \\x01\\x01\\x00\\x00\\x00\\x0C\\x02+\\x87\\x16\\x…  │    3.0 │    40.642 │    15.799 │ Potenza          │    69060.0 │\n",
              "│ ITA     │ \\x01\\x01\\x00\\x00\\x00\\x1DZd;\\xDFO-@\\xF2\\…  │    4.0 │    41.563 │    14.656 │ Campobasso       │    50762.0 │\n",
              "│ ITA     │ \\x01\\x01\\x00\\x00\\x00\\xC3\\xF5(\\x5C\\x8FB\\…  │    5.0 │    45.737 │     7.315 │ Aosta            │    34062.0 │\n",
              "│ ALD     │ \\x01\\x01\\x00\\x00\\x00m\\xE7\\xFB\\xA9\\xF1\\x…  │    6.0 │    60.097 │    19.949 │ Mariehamn        │    10682.0 │\n",
              "│ PSE     │ \\x01\\x01\\x00\\x00\\x00\\xD8\\x0D\\xDB\\x16e\\x…  │    7.0 │  31.90294 │  35.20621 │ Ramallah         │    24599.0 │\n",
              "│ VAT     │ \\x01\\x01\\x00\\x00\\x00\\xBE\\xA41ZG\\xE5(@W\\…  │    8.0 │  41.90001 │  12.44781 │ Vatican City     │      832.0 │\n",
              "│ FRA     │ \\x01\\x01\\x00\\x00\\x00\\xDCK\\x1A\\xA3uT\\xD5…  │    9.0 │  46.58329 │   0.33328 │ Poitier          │    85960.0 │\n",
              "│ FRA     │ \\x01\\x01\\x00\\x00\\x00\\xDD\\xD2jH\\xDC\\xA3\\…  │   10.0 │  45.77998 │   3.08001 │ Clermont-Ferrand │   233050.0 │\n",
              "│  ·      │                     ·                     │     ·  │      ·    │      ·    │   ·              │       ·    │\n",
              "│  ·      │                     ·                     │     ·  │      ·    │      ·    │   ·              │       ·    │\n",
              "│  ·      │                     ·                     │     ·  │      ·    │      ·    │   ·              │       ·    │\n",
              "│ JPN     │ \\x01\\x01\\x00\\x00\\x00e\\xFC\\xFB\\x8C\\x0Bxa…  │ 1240.0 │  35.68502 │ 139.75141 │ Tokyo            │ 35676000.0 │\n",
              "│ IND     │ \\x01\\x01\\x00\\x00\\x00\\xF0\\xBF\\x95\\xEC\\xD…  │ 1241.0 │  19.01699 │  72.85699 │ Mumbai           │ 18978000.0 │\n",
              "│ FRA     │ \\x01\\x01\\x00\\x00\\x00\\xD1\\x96s)\\xAE\\xAA\\…  │ 1242.0 │  48.86669 │   2.33334 │ Paris            │  9904000.0 │\n",
              "│ CHL     │ \\x01\\x01\\x00\\x00\\x00\\xEDG\\x8A\\xC8\\xB0\\x…  │ 1243.0 │ -33.45001 │ -70.66704 │ Santiago         │  5720000.0 │\n",
              "│ IND     │ \\x01\\x01\\x00\\x00\\x00\\x94j\\x9F\\x8E\\xC7\\x…  │ 1244.0 │  22.49497 │  88.32468 │ Kolkata          │ 14787000.0 │\n",
              "│ BRA     │ \\x01\\x01\\x00\\x00\\x00\\x14y\\x92t\\xCD\\x9CE…  │ 1245.0 │ -22.92502 │ -43.22502 │ Rio de Janeiro   │ 11748000.0 │\n",
              "│ BRA     │ \\x01\\x01\\x00\\x00\\x00G\\xAC\\xC5\\xA7\\x00PG…  │ 1246.0 │ -23.55868 │ -46.62502 │ Sao Paulo        │ 18845000.0 │\n",
              "│ AUS     │ \\x01\\x01\\x00\\x00\\x00\\xF2{\\x9B\\xFE\\xEC\\x…  │ 1247.0 │ -33.92001 │ 151.18518 │ Sydney           │  4630000.0 │\n",
              "│ SGP     │ \\x01\\x01\\x00\\x00\\x00\\xD0\\xD0?\\xC1\\xC5\\x…  │ 1248.0 │   1.29303 │ 103.85582 │ Singapore        │  5183700.0 │\n",
              "│ CHN     │ \\x01\\x01\\x00\\x00\\x00\\xB6\\xDB.4\\xD7\\x8B\\…  │ 1249.0 │  22.30498 │ 114.18501 │ Hong Kong        │  7206000.0 │\n",
              "├─────────┴───────────────────────────────────────────┴────────┴───────────┴───────────┴──────────────────┴────────────┤\n",
              "│ 1249 rows (20 shown)                                                                                       7 columns │\n",
              "└──────────────────────────────────────────────────────────────────────────────────────────────────────────────────────┘"
            ]
          },
          "execution_count": 31,
          "metadata": {},
          "output_type": "execute_result"
        }
      ],
      "source": [
        "con.sql(\"SELECT * FROM 'cities.parquet'\")"
      ]
    },
    {
      "cell_type": "code",
      "execution_count": null,
      "metadata": {
        "id": "k_qiGbu-9P8g"
      },
      "outputs": [],
      "source": [
        "con.sql(\n",
        "    \"\"\"\n",
        "CREATE TABLE IF NOT EXISTS cities3 AS\n",
        "SELECT * EXCLUDE geometry, ST_GeomFromWKB(geometry)\n",
        "AS geometry FROM 'cities.parquet'\n",
        "\"\"\"\n",
        ")"
      ]
    },
    {
      "cell_type": "code",
      "execution_count": null,
      "metadata": {
        "id": "fgTWAv7x9P8g"
      },
      "outputs": [
        {
          "data": {
            "text/plain": [
              "┌─────────┬────────┬───────────┬───────────┬──────────────────┬────────────┬─────────────────────────────┐\n",
              "│ country │   id   │ latitude  │ longitude │       name       │ population │          geometry           │\n",
              "│ varchar │ double │  double   │  double   │     varchar      │   double   │          geometry           │\n",
              "├─────────┼────────┼───────────┼───────────┼──────────────────┼────────────┼─────────────────────────────┤\n",
              "│ UGA     │    1.0 │    0.5833 │   32.5333 │ Bombo            │    75000.0 │ POINT (32.5333 0.5833)      │\n",
              "│ UGA     │    2.0 │     0.671 │    30.275 │ Fort Portal      │    42670.0 │ POINT (30.275 0.671)        │\n",
              "│ ITA     │    3.0 │    40.642 │    15.799 │ Potenza          │    69060.0 │ POINT (15.799 40.642)       │\n",
              "│ ITA     │    4.0 │    41.563 │    14.656 │ Campobasso       │    50762.0 │ POINT (14.656 41.563)       │\n",
              "│ ITA     │    5.0 │    45.737 │     7.315 │ Aosta            │    34062.0 │ POINT (7.315 45.737)        │\n",
              "│ ALD     │    6.0 │    60.097 │    19.949 │ Mariehamn        │    10682.0 │ POINT (19.949 60.097)       │\n",
              "│ PSE     │    7.0 │  31.90294 │  35.20621 │ Ramallah         │    24599.0 │ POINT (35.20621 31.90294)   │\n",
              "│ VAT     │    8.0 │  41.90001 │  12.44781 │ Vatican City     │      832.0 │ POINT (12.44781 41.90001)   │\n",
              "│ FRA     │    9.0 │  46.58329 │   0.33328 │ Poitier          │    85960.0 │ POINT (0.33328 46.58329)    │\n",
              "│ FRA     │   10.0 │  45.77998 │   3.08001 │ Clermont-Ferrand │   233050.0 │ POINT (3.08001 45.77998)    │\n",
              "│  ·      │     ·  │      ·    │      ·    │   ·              │       ·    │            ·                │\n",
              "│  ·      │     ·  │      ·    │      ·    │   ·              │       ·    │            ·                │\n",
              "│  ·      │     ·  │      ·    │      ·    │   ·              │       ·    │            ·                │\n",
              "│ JPN     │ 1240.0 │  35.68502 │ 139.75141 │ Tokyo            │ 35676000.0 │ POINT (139.75141 35.68502)  │\n",
              "│ IND     │ 1241.0 │  19.01699 │  72.85699 │ Mumbai           │ 18978000.0 │ POINT (72.85699 19.01699)   │\n",
              "│ FRA     │ 1242.0 │  48.86669 │   2.33334 │ Paris            │  9904000.0 │ POINT (2.33334 48.86669)    │\n",
              "│ CHL     │ 1243.0 │ -33.45001 │ -70.66704 │ Santiago         │  5720000.0 │ POINT (-70.66704 -33.45001) │\n",
              "│ IND     │ 1244.0 │  22.49497 │  88.32468 │ Kolkata          │ 14787000.0 │ POINT (88.32468 22.49497)   │\n",
              "│ BRA     │ 1245.0 │ -22.92502 │ -43.22502 │ Rio de Janeiro   │ 11748000.0 │ POINT (-43.22502 -22.92502) │\n",
              "│ BRA     │ 1246.0 │ -23.55868 │ -46.62502 │ Sao Paulo        │ 18845000.0 │ POINT (-46.62502 -23.55868) │\n",
              "│ AUS     │ 1247.0 │ -33.92001 │ 151.18518 │ Sydney           │  4630000.0 │ POINT (151.18518 -33.92001) │\n",
              "│ SGP     │ 1248.0 │   1.29303 │ 103.85582 │ Singapore        │  5183700.0 │ POINT (103.85582 1.29303)   │\n",
              "│ CHN     │ 1249.0 │  22.30498 │ 114.18501 │ Hong Kong        │  7206000.0 │ POINT (114.18501 22.30498)  │\n",
              "├─────────┴────────┴───────────┴───────────┴──────────────────┴────────────┴─────────────────────────────┤\n",
              "│ 1249 rows (20 shown)                                                                         7 columns │\n",
              "└────────────────────────────────────────────────────────────────────────────────────────────────────────┘"
            ]
          },
          "execution_count": 33,
          "metadata": {},
          "output_type": "execute_result"
        }
      ],
      "source": [
        "con.table('cities3')"
      ]
    },
    {
      "cell_type": "code",
      "execution_count": 9,
      "metadata": {
        "id": "BquF6O8T9P8g"
      },
      "outputs": [
        {
          "data": {
            "application/vnd.jupyter.widget-view+json": {
              "model_id": "ffb9d837f7dd435dba6d472631db4b60",
              "version_major": 2,
              "version_minor": 0
            },
            "text/plain": [
              "FloatProgress(value=0.0, layout=Layout(width='auto'), style=ProgressStyle(bar_color='black'))"
            ]
          },
          "metadata": {},
          "output_type": "display_data"
        }
      ],
      "source": [
        "con.sql(\n",
        "    \"\"\"\n",
        "CREATE TABLE IF NOT EXISTS country AS\n",
        "SELECT * EXCLUDE geometry, ST_GeomFromWKB(geometry) FROM\n",
        "        's3://us-west-2.opendata.source.coop/google-research-open-buildings/v2/geoparquet-admin1/country=SSD/*.parquet'\n",
        "\"\"\"\n",
        ")"
      ]
    },
    {
      "cell_type": "code",
      "execution_count": 35,
      "metadata": {
        "id": "mVO4uH5h9P8g"
      },
      "outputs": [
        {
          "data": {
            "text/plain": [
              "┌─────────┬───────────────────┬────────────────┬────────────┬────────────────┬─────────────────────────────────────────┐\n",
              "│ country │      admin_1      │ area_in_meters │ confidence │ full_plus_code │        st_geomfromwkb(geometry)         │\n",
              "│ varchar │      varchar      │     double     │   double   │    varchar     │                geometry                 │\n",
              "├─────────┼───────────────────┼────────────────┼────────────┼────────────────┼─────────────────────────────────────────┤\n",
              "│ SSD     │ Central Equatoria │        13.2942 │     0.6061 │ 6GMGFRQX+797F  │ POLYGON ((30.8484392928101 3.48814927…  │\n",
              "│ SSD     │ Central Equatoria │        17.9561 │     0.7432 │ 6GMGFRQX+7999  │ POLYGON ((30.8485154080012 3.48817201…  │\n",
              "│ SSD     │ Central Equatoria │        16.1245 │     0.7016 │ 6GMGFRQX+WXHQ  │ POLYGON ((30.8500129796786 3.48979698…  │\n",
              "│ SSD     │ Central Equatoria │        20.5568 │     0.7655 │ 6GMGFRQX+XX66  │ POLYGON ((30.849898767126 3.489886617…  │\n",
              "│ SSD     │ Central Equatoria │        12.7653 │     0.7241 │ 6GMGFRQX+XX98  │ POLYGON ((30.8500049862427 3.48989272…  │\n",
              "│ SSD     │ Central Equatoria │         8.4574 │     0.6811 │ 6GMGFRQX+XXMX  │ POLYGON ((30.8499509498148 3.48996070…  │\n",
              "│ SSD     │ Central Equatoria │         5.4337 │     0.6019 │ 6GMGFRQX+XXXF  │ POLYGON ((30.8499937482512 3.48997762…  │\n",
              "│ SSD     │ Central Equatoria │        13.1663 │     0.6488 │ 6GMGFRRX+2QV2  │ POLYGON ((30.8494272889171 3.49008460…  │\n",
              "│ SSD     │ Central Equatoria │        26.2669 │     0.6831 │ 6GMGFRRX+3J42  │ POLYGON ((30.8490899476719 3.49010159…  │\n",
              "│ SSD     │ Central Equatoria │        28.1317 │     0.7556 │ 6GMGFRRX+3JHC  │ POLYGON ((30.849124931713 3.490163715…  │\n",
              "│  ·      │   ·               │           ·    │        ·   │       ·        │                    ·                    │\n",
              "│  ·      │   ·               │           ·    │        ·   │       ·        │                    ·                    │\n",
              "│  ·      │   ·               │           ·    │        ·   │       ·        │                    ·                    │\n",
              "│ SSD     │ Warrap            │        20.8582 │     0.7012 │ 6GXC9H5X+FJRM  │ POLYGON ((28.5990311582958 9.35872254…  │\n",
              "│ SSD     │ Warrap            │        28.4379 │     0.6774 │ 6GXC9H5X+FM7C  │ POLYGON ((28.5991864837717 9.35864724…  │\n",
              "│ SSD     │ Warrap            │        16.9609 │     0.6779 │ 6GXC9H5X+FMG9  │ POLYGON ((28.5992339371306 9.35866527…  │\n",
              "│ SSD     │ Warrap            │        27.4222 │     0.6354 │ 6GXC9H5X+FMJ8  │ POLYGON ((28.5991762605652 9.35869191…  │\n",
              "│ SSD     │ Warrap            │        27.1697 │     0.6818 │ 6GXC9H5X+FMPM  │ POLYGON ((28.5992254174389 9.35870301…  │\n",
              "│ SSD     │ Warrap            │        32.4359 │     0.7429 │ 6GXC9H5X+FP34  │ POLYGON ((28.5993354707036 9.35861055…  │\n",
              "│ SSD     │ Warrap            │         8.4233 │     0.6813 │ 6GXC9H5X+FPJ4  │ POLYGON ((28.5992808457224 9.35869182…  │\n",
              "│ SSD     │ Warrap            │        32.3144 │     0.6737 │ 6GXC9H5X+FPPC  │ POLYGON ((28.5993089610297 9.35870816…  │\n",
              "│ SSD     │ Warrap            │          31.23 │     0.6855 │ 6GXC9H5X+FQC8  │ POLYGON ((28.5994230876301 9.35865704…  │\n",
              "│ SSD     │ Warrap            │        41.7623 │     0.7621 │ 6GXC9H5X+FQGP  │ POLYGON ((28.5994909515784 9.35866768…  │\n",
              "├─────────┴───────────────────┴────────────────┴────────────┴────────────────┴─────────────────────────────────────────┤\n",
              "│ ? rows (>9999 rows, 20 shown)                                                                              6 columns │\n",
              "└──────────────────────────────────────────────────────────────────────────────────────────────────────────────────────┘"
            ]
          },
          "execution_count": 35,
          "metadata": {},
          "output_type": "execute_result"
        }
      ],
      "source": [
        "con.table('country')"
      ]
    },
    {
      "cell_type": "code",
      "execution_count": 36,
      "metadata": {
        "id": "jhKOJEWi9P8g"
      },
      "outputs": [
        {
          "data": {
            "text/plain": [
              "┌──────────────┐\n",
              "│ count_star() │\n",
              "│    int64     │\n",
              "├──────────────┤\n",
              "│        37781 │\n",
              "└──────────────┘"
            ]
          },
          "execution_count": 36,
          "metadata": {},
          "output_type": "execute_result"
        }
      ],
      "source": [
        "con.sql('SELECT COUNT(*) FROM country')"
      ]
    },
    {
      "cell_type": "markdown",
      "metadata": {
        "id": "FwMFbQsV9P8g"
      },
      "source": [
        "## References\n",
        "\n",
        "- [DuckDB Data Ingestion](https://duckdb.org/docs/api/python/data_ingestion)"
      ]
    }
  ],
  "metadata": {
    "colab": {
      "provenance": []
    },
    "kernelspec": {
      "display_name": "geo",
      "language": "python",
      "name": "python3"
    },
    "language_info": {
      "codemirror_mode": {
        "name": "ipython",
        "version": 3
      },
      "file_extension": ".py",
      "mimetype": "text/x-python",
      "name": "python",
      "nbconvert_exporter": "python",
      "pygments_lexer": "ipython3",
      "version": "3.11.5"
    }
  },
  "nbformat": 4,
  "nbformat_minor": 0
}
