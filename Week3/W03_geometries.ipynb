{
  "cells": [
    {
      "cell_type": "markdown",
      "metadata": {
        "id": "W4o-g4VJQvHH"
      },
      "source": [
        "# Working with Geometries\n",
        "\n",
        "## Introduction\n",
        "\n",
        "This notebook demonstrates how to work with geometries in DuckDB.\n",
        "\n",
        "## Installation\n",
        "\n",
        "Uncomment the following cell to install the required packages if needed."
      ],
      "id": "W4o-g4VJQvHH"
    },
    {
      "cell_type": "code",
      "execution_count": null,
      "metadata": {
        "id": "A6gOpscTQvHK"
      },
      "outputs": [],
      "source": [
        "# %pip install duckdb leafmap"
      ],
      "id": "A6gOpscTQvHK"
    },
    {
      "cell_type": "markdown",
      "metadata": {
        "id": "xpDKCs63QvHL"
      },
      "source": [
        "## Library Import and Configuration"
      ],
      "id": "xpDKCs63QvHL"
    },
    {
      "cell_type": "code",
      "execution_count": null,
      "metadata": {
        "id": "TL8isbHZQvHL"
      },
      "outputs": [],
      "source": [
        "import duckdb\n",
        "import leafmap"
      ],
      "id": "TL8isbHZQvHL"
    },
    {
      "cell_type": "markdown",
      "metadata": {
        "id": "D4r0v8mdQvHL"
      },
      "source": [
        "## Sample Data\n",
        "\n",
        "The datasets in the database are in NAD83 / UTM zone 18N projection, EPSG:26918."
      ],
      "id": "D4r0v8mdQvHL"
    },
    {
      "cell_type": "code",
      "execution_count": null,
      "metadata": {
        "id": "2ZmNIvCPQvHM"
      },
      "outputs": [],
      "source": [
        "url = \"https://open.gishub.org/data/duckdb/nyc_data.db.zip\"\n",
        "leafmap.download_file(url, unzip=True)"
      ],
      "id": "2ZmNIvCPQvHM"
    },
    {
      "cell_type": "markdown",
      "metadata": {
        "id": "5RRBSYLaQvHM"
      },
      "source": [
        "## Connecting to DuckDB\n",
        "\n",
        "Connect jupysql to DuckDB using a SQLAlchemy-style connection string. You may either connect to an in memory DuckDB, or a file backed db."
      ],
      "id": "5RRBSYLaQvHM"
    },
    {
      "cell_type": "code",
      "execution_count": null,
      "metadata": {
        "id": "FFzBNy6DQvHM"
      },
      "outputs": [],
      "source": [
        "con = duckdb.connect(\"nyc_data.db\")"
      ],
      "id": "FFzBNy6DQvHM"
    },
    {
      "cell_type": "code",
      "execution_count": null,
      "metadata": {
        "id": "1u6a1LMxQvHN"
      },
      "outputs": [],
      "source": [
        "con.install_extension(\"spatial\")\n",
        "con.load_extension(\"spatial\")"
      ],
      "id": "1u6a1LMxQvHN"
    },
    {
      "cell_type": "code",
      "execution_count": null,
      "metadata": {
        "id": "2VMnenERQvHN"
      },
      "outputs": [],
      "source": [
        "con.sql(\"SHOW TABLES;\")"
      ],
      "id": "2VMnenERQvHN"
    },
    {
      "cell_type": "markdown",
      "metadata": {
        "id": "DYXJ5kqqQvHQ"
      },
      "source": [
        "## Creating samples"
      ],
      "id": "DYXJ5kqqQvHQ"
    },
    {
      "cell_type": "code",
      "execution_count": null,
      "metadata": {
        "id": "I0LYgsdGQvHR"
      },
      "outputs": [],
      "source": [
        "con.sql(\"\"\"\n",
        "\n",
        "CREATE or REPLACE TABLE samples (name VARCHAR, geom GEOMETRY);\n",
        "\n",
        "INSERT INTO samples VALUES\n",
        "  ('Point', ST_GeomFromText('POINT(-100 40)')),\n",
        "  ('Linestring', ST_GeomFromText('LINESTRING(0 0, 1 1, 2 1, 2 2)')),\n",
        "  ('Polygon', ST_GeomFromText('POLYGON((0 0, 1 0, 1 1, 0 1, 0 0))')),\n",
        "  ('PolygonWithHole', ST_GeomFromText('POLYGON((0 0, 10 0, 10 10, 0 10, 0 0),(1 1, 1 2, 2 2, 2 1, 1 1))')),\n",
        "  ('Collection', ST_GeomFromText('GEOMETRYCOLLECTION(POINT(2 0),POLYGON((0 0, 1 0, 1 1, 0 1, 0 0)))'));\n",
        "\n",
        "SELECT * FROM samples;\n",
        "\n",
        "  \"\"\")"
      ],
      "id": "I0LYgsdGQvHR"
    },
    {
      "cell_type": "code",
      "execution_count": null,
      "metadata": {
        "id": "iyzTdxGXQvHR"
      },
      "outputs": [],
      "source": [
        "con.sql(\"SELECT name, ST_AsText(geom) AS geometry FROM samples;\")"
      ],
      "id": "iyzTdxGXQvHR"
    },
    {
      "cell_type": "code",
      "execution_count": null,
      "metadata": {
        "id": "jrsm_gciQvHR"
      },
      "outputs": [],
      "source": [
        "con.sql(\"\"\"\n",
        "\n",
        "COPY samples TO 'samples.geojson' (FORMAT GDAL, DRIVER GeoJSON);\n",
        "\n",
        "\"\"\")"
      ],
      "id": "jrsm_gciQvHR"
    },
    {
      "cell_type": "markdown",
      "metadata": {
        "id": "MLxgcnkTQvHR"
      },
      "source": [
        "## Points\n",
        "\n",
        "![](https://postgis.net/workshops/postgis-intro/_images/points.png)\n",
        "\n",
        "A spatial point represents a single location on the Earth. This point is represented by a single coordinate (including either 2-, 3- or 4-dimensions). Points are used to represent objects when the exact details, such as shape and size, are not important at the target scale. For example, cities on a map of the world can be described as points, while a map of a single state might represent cities as polygons.\n"
      ],
      "id": "MLxgcnkTQvHR"
    },
    {
      "cell_type": "code",
      "execution_count": null,
      "metadata": {
        "id": "H9xFIAPyQvHR"
      },
      "outputs": [],
      "source": [
        "con.sql(\"\"\"\n",
        "\n",
        "SELECT ST_AsText(geom)\n",
        "  FROM samples\n",
        "  WHERE name = 'Point';\n",
        "\n",
        "\"\"\")"
      ],
      "id": "H9xFIAPyQvHR"
    },
    {
      "cell_type": "markdown",
      "metadata": {
        "id": "XkBSUWyKQvHR"
      },
      "source": [
        "Some of the specific spatial functions for working with points are:\n",
        "\n",
        "- **ST_X(geom)** returns the X ordinate\n",
        "- **ST_Y(geom)** returns the Y ordinate\n",
        "\n",
        "So, we can read the ordinates from a point like this:"
      ],
      "id": "XkBSUWyKQvHR"
    },
    {
      "cell_type": "code",
      "execution_count": null,
      "metadata": {
        "id": "d5KoaMAwQvHR"
      },
      "outputs": [],
      "source": [
        "con.sql(\"\"\"\n",
        "\n",
        "SELECT ST_X(geom), ST_Y(geom)\n",
        "  FROM samples\n",
        "  WHERE name = 'Point';\n",
        "\n",
        "\"\"\")"
      ],
      "id": "d5KoaMAwQvHR"
    },
    {
      "cell_type": "code",
      "execution_count": null,
      "metadata": {
        "id": "r5IVk-okQvHS"
      },
      "outputs": [],
      "source": [
        "con.sql(\"\"\"\n",
        "\n",
        "SELECT * FROM nyc_subway_stations\n",
        "\n",
        "\"\"\")"
      ],
      "id": "r5IVk-okQvHS"
    },
    {
      "cell_type": "code",
      "execution_count": null,
      "metadata": {
        "id": "1TFuid3VQvHS"
      },
      "outputs": [],
      "source": [
        "con.sql(\"\"\"\n",
        "\n",
        "SELECT name, ST_AsText(geom)\n",
        "  FROM nyc_subway_stations\n",
        "  LIMIT 10;\n",
        "\n",
        "\"\"\")"
      ],
      "id": "1TFuid3VQvHS"
    },
    {
      "cell_type": "markdown",
      "metadata": {
        "id": "9cWtKfDcQvHS"
      },
      "source": [
        "## Linestrings\n",
        "\n",
        "![](https://postgis.net/workshops/postgis-intro/_images/lines.png)\n",
        "\n",
        "\n",
        "A **linestring** is a path between locations. It takes the form of an\n",
        "ordered series of two or more points. Roads and rivers are typically\n",
        "represented as linestrings. A linestring is said to be **closed** if it\n",
        "starts and ends on the same point. It is said to be **simple** if it\n",
        "does not cross or touch itself (except at its endpoints if it is\n",
        "closed). A linestring can be both **closed** and **simple**.\n",
        "\n",
        "The street network for New York (`nyc_streets`) was loaded earlier in\n",
        "the workshop. This dataset contains details such as name, and type. A\n",
        "single real world street may consist of many linestrings, each\n",
        "representing a segment of road with different attributes.\n",
        "\n",
        "The following SQL query will return the geometry associated with one\n",
        "linestring (in the `ST_AsText` column)."
      ],
      "id": "9cWtKfDcQvHS"
    },
    {
      "cell_type": "code",
      "execution_count": null,
      "metadata": {
        "id": "LjCRFNZjQvHS"
      },
      "outputs": [],
      "source": [
        "con.sql(\"\"\"\n",
        "\n",
        "SELECT ST_AsText(geom)\n",
        "  FROM samples\n",
        "  WHERE name = 'Linestring';\n",
        "\n",
        "\"\"\")"
      ],
      "id": "LjCRFNZjQvHS"
    },
    {
      "cell_type": "markdown",
      "metadata": {
        "id": "-wYQpofOQvHS"
      },
      "source": [
        "Some of the specific spatial functions for working with linestrings are:\n",
        "\n",
        "-   `ST_Length(geom)` returns the length of the linestring\n",
        "-   `ST_StartPoint(geom)` returns the first coordinate as a point\n",
        "-   `ST_EndPoint(geom)` returns the last coordinate as a point\n",
        "-   `ST_NPoints(geom)` returns the number of coordinates in the\n",
        "    linestring\n",
        "\n",
        "So, the length of our linestring is:"
      ],
      "id": "-wYQpofOQvHS"
    },
    {
      "cell_type": "code",
      "execution_count": null,
      "metadata": {
        "id": "xQmf5xPcQvHS"
      },
      "outputs": [],
      "source": [
        "con.sql(\"\"\"\n",
        "\n",
        "SELECT ST_Length(geom)\n",
        "  FROM samples\n",
        "  WHERE name = 'Linestring';\n",
        "\n",
        "\"\"\")"
      ],
      "id": "xQmf5xPcQvHS"
    },
    {
      "cell_type": "markdown",
      "metadata": {
        "id": "vc2Cw3S-QvHS"
      },
      "source": [
        "## Polygons"
      ],
      "id": "vc2Cw3S-QvHS"
    },
    {
      "cell_type": "markdown",
      "metadata": {
        "id": "xryj3lYlQvHS"
      },
      "source": [
        "![](https://postgis.net/workshops/postgis-intro/_images/polygons.png)\n",
        "\n",
        "A polygon is a representation of an area. The outer boundary of the\n",
        "polygon is represented by a ring. This ring is a linestring that is both\n",
        "closed and simple as defined above. Holes within the polygon are also\n",
        "represented by rings.\n",
        "\n",
        "Polygons are used to represent objects whose size and shape are\n",
        "important. City limits, parks, building footprints or bodies of water\n",
        "are all commonly represented as polygons when the scale is sufficiently\n",
        "high to see their area. Roads and rivers can sometimes be represented as\n",
        "polygons.\n",
        "\n",
        "The following SQL query will return the geometry associated with one\n",
        "polygon (in the `ST_AsText` column)."
      ],
      "id": "xryj3lYlQvHS"
    },
    {
      "cell_type": "code",
      "execution_count": null,
      "metadata": {
        "id": "NEakyRENQvHS"
      },
      "outputs": [],
      "source": [
        "con.sql(\"\"\"\n",
        "\n",
        "SELECT ST_AsText(geom)\n",
        "  FROM samples\n",
        "  WHERE name LIKE 'Polygon%';\n",
        "\n",
        "\"\"\")"
      ],
      "id": "NEakyRENQvHS"
    },
    {
      "cell_type": "markdown",
      "metadata": {
        "id": "gh_xfxWrQvHS"
      },
      "source": [
        "Some of the specific spatial functions for working with polygons are:\n",
        "\n",
        "-   `ST_Area(geom)` returns the area of the polygons\n",
        "-   `ST_NRings(geom)` returns the number of rings (usually 1, more\n",
        "    of there are holes)\n",
        "-   `ST_ExteriorRing(geom)` returns the outer ring as a linestring\n",
        "-   `ST_InteriorRingN(geometry,n)` returns a specified interior ring as\n",
        "    a linestring\n",
        "-   `ST_Perimeter(geom)` returns the length of all the rings\n",
        "\n",
        "We can calculate the area of our polygons using the area function:"
      ],
      "id": "gh_xfxWrQvHS"
    },
    {
      "cell_type": "code",
      "execution_count": null,
      "metadata": {
        "id": "b5HlrOY_QvHS"
      },
      "outputs": [],
      "source": [
        "con.sql(\"\"\"\n",
        "\n",
        "SELECT name, ST_Area(geom)\n",
        "  FROM samples\n",
        "  WHERE name LIKE 'Polygon%';\n",
        "\n",
        "\"\"\")"
      ],
      "id": "b5HlrOY_QvHS"
    },
    {
      "cell_type": "markdown",
      "metadata": {
        "id": "g2LjJtaUQvHS"
      },
      "source": [
        "## Collections\n",
        "\n",
        "There are four collection types, which group multiple simple samples\n",
        "into sets.\n",
        "\n",
        "-   **MultiPoint**, a collection of points\n",
        "-   **MultiLineString**, a collection of linestrings\n",
        "-   **MultiPolygon**, a collection of polygons\n",
        "-   **GeometryCollection**, a heterogeneous collection of any geometry\n",
        "    (including other collections)\n",
        "\n",
        "Collections are another concept that shows up in GIS software more than\n",
        "in generic graphics software. They are useful for directly modeling real\n",
        "world objects as spatial objects. For example, how to model a lot that\n",
        "is split by a right-of-way? As a **MultiPolygon**, with a part on either\n",
        "side of the right-of-way.\n",
        "\n",
        "Our example collection contains a polygon and a point:"
      ],
      "id": "g2LjJtaUQvHS"
    },
    {
      "cell_type": "code",
      "execution_count": null,
      "metadata": {
        "id": "zvXoca-lQvHS"
      },
      "outputs": [],
      "source": [
        "con.sql(\"\"\"\n",
        "\n",
        "SELECT name, ST_AsText(geom)\n",
        "  FROM samples\n",
        "  WHERE name = 'Collection';\n",
        "\n",
        "\"\"\")"
      ],
      "id": "zvXoca-lQvHS"
    },
    {
      "cell_type": "markdown",
      "metadata": {
        "id": "09lNPwRUQvHS"
      },
      "source": [
        "## Data Visualization"
      ],
      "id": "09lNPwRUQvHS"
    },
    {
      "cell_type": "code",
      "execution_count": null,
      "metadata": {
        "id": "38RDCeX8QvHT"
      },
      "outputs": [],
      "source": [
        "con.sql(\"SHOW TABLES;\")"
      ],
      "id": "38RDCeX8QvHT"
    },
    {
      "cell_type": "code",
      "execution_count": null,
      "metadata": {
        "id": "2dY8SpizQvHT"
      },
      "outputs": [],
      "source": [
        "subway_stations_df = con.sql(\"SELECT * EXCLUDE geom, ST_AsText(geom) as geometry FROM nyc_subway_stations\").df()\n",
        "subway_stations_df.head()"
      ],
      "id": "2dY8SpizQvHT"
    },
    {
      "cell_type": "code",
      "execution_count": null,
      "metadata": {
        "id": "FObuM5dqQvHT"
      },
      "outputs": [],
      "source": [
        "subway_stations_gdf = leafmap.df_to_gdf(subway_stations_df, src_crs=\"EPSG:26918\", dst_crs=\"EPSG:4326\")\n",
        "subway_stations_gdf.head()"
      ],
      "id": "FObuM5dqQvHT"
    },
    {
      "cell_type": "code",
      "execution_count": null,
      "metadata": {
        "id": "z36FAFokQvHT"
      },
      "outputs": [],
      "source": [
        "subway_stations_gdf.explore()"
      ],
      "id": "z36FAFokQvHT"
    },
    {
      "cell_type": "code",
      "execution_count": null,
      "metadata": {
        "id": "VGi5UrQpQvHT"
      },
      "outputs": [],
      "source": [
        "nyc_streets_df = con.sql(\"SELECT * EXCLUDE geom, ST_AsText(geom) as geometry FROM nyc_streets\").df()\n",
        "nyc_streets_df.head()"
      ],
      "id": "VGi5UrQpQvHT"
    },
    {
      "cell_type": "code",
      "execution_count": null,
      "metadata": {
        "id": "_BfUsKXwQvHT"
      },
      "outputs": [],
      "source": [
        "nyc_streets_gdf = leafmap.df_to_gdf(nyc_streets_df, src_crs=\"EPSG:26918\", dst_crs=\"EPSG:4326\")\n",
        "nyc_streets_gdf.head()"
      ],
      "id": "_BfUsKXwQvHT"
    },
    {
      "cell_type": "code",
      "execution_count": null,
      "metadata": {
        "id": "Mnd_EFu3QvHT"
      },
      "outputs": [],
      "source": [
        "nyc_streets_gdf.explore()"
      ],
      "id": "Mnd_EFu3QvHT"
    }
  ],
  "metadata": {
    "celltoolbar": "Tags",
    "hide_input": false,
    "kernelspec": {
      "display_name": "Python 3",
      "language": "python",
      "name": "python3"
    },
    "language_info": {
      "codemirror_mode": {
        "name": "ipython",
        "version": 3
      },
      "file_extension": ".py",
      "mimetype": "text/x-python",
      "name": "python",
      "nbconvert_exporter": "python",
      "pygments_lexer": "ipython3",
      "version": "3.11.6"
    },
    "toc": {
      "base_numbering": 1,
      "nav_menu": {},
      "number_sections": true,
      "sideBar": true,
      "skip_h1_title": false,
      "title_cell": "Table of Contents",
      "title_sidebar": "Contents",
      "toc_cell": false,
      "toc_position": {},
      "toc_section_display": true,
      "toc_window_display": false
    },
    "varInspector": {
      "cols": {
        "lenName": 16,
        "lenType": 16,
        "lenVar": 40
      },
      "kernels_config": {
        "python": {
          "delete_cmd_postfix": "",
          "delete_cmd_prefix": "del ",
          "library": "var_list.py",
          "varRefreshCmd": "print(var_dic_list())"
        },
        "r": {
          "delete_cmd_postfix": ") ",
          "delete_cmd_prefix": "rm(",
          "library": "var_list.r",
          "varRefreshCmd": "cat(var_dic_list()) "
        }
      },
      "types_to_exclude": [
        "module",
        "function",
        "builtin_function_or_method",
        "instance",
        "_Feature"
      ],
      "window_display": false
    },
    "colab": {
      "provenance": []
    }
  },
  "nbformat": 4,
  "nbformat_minor": 5
}